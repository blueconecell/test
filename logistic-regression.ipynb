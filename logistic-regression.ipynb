{
 "cells": [
  {
   "cell_type": "markdown",
   "metadata": {},
   "source": [
    "<a class=\"anchor\" id=\"0\"></a>\n",
    "# **Logistic Regression Classifier Tutorial with Python**\n",
    "\n",
    "# 로지스틱 회귀 분류기 __ 김정연"
   ]
  },
  {
   "cell_type": "markdown",
   "metadata": {},
   "source": [
    "<a class=\"anchor\" id=\"0.1\"></a>\n",
    "# **목차**\n",
    "\n",
    "\n",
    "1.\t[로지스틱 회귀 소개](#1)\n",
    "2.\t[로지스틱 회귀 직관](#2)\n",
    "3.\t[로지스틱 회귀 분석의 가정](#3)\n",
    "4.\t[로지스틱 회귀 분석 유형](#4)\n",
    "5.\t[Import libraries](#5)\n",
    "6.\t[Import dataset](#6)\n",
    "7.\t[데이터 분석 탐색하기](#7)\n",
    "8.\t[feature vector, 목표 변수 선언하기](#8)\n",
    "9.\t[training, test set 으로 분리하기](#9)\n",
    "10.\t[Feature engineering](#10)\n",
    "11.\t[Feature scaling](#11)\n",
    "12.\t[모델 학습](#12)\n",
    "13.\t[예측결과](#13)\n",
    "14.\t[정확도 점수 확인하기](#14)\n",
    "15.\t[혼동 행렬Confusion matrix](#15)\n",
    "16.\t[Classification metrices](#16)\n",
    "17.\t[임계값 레벨 조정](#17)\n",
    "18.\t[ROC - AUC](#18)\n",
    "19.\t[k-Fold Cross Validation](#19)\n",
    "20.\t[Hyperparameter optimization using GridSearch CV](#20)\n",
    "21.\t[결과와 결론](#21)\n",
    "22. [참조](#22)\n"
   ]
  },
  {
   "cell_type": "markdown",
   "metadata": {},
   "source": [
    "# **1. 로지스틱 회귀 분석의 가정** <a class=\"anchor\" id=\"1\"></a>\n",
    "\n",
    "\n",
    "[Table of Contents](#0.1)\n",
    "\n",
    "\n",
    "로지스틱 회귀분석은 주어진 독립 변수의 선형 조합을 이용하여 종속 변수를 예측하는 통계 기법 중 하나입니다. 주로 **이진 분류(binary classification)** 문제에 사용되며, 예측값이 이산적인(discrete) 형태를 가집니다.\n",
    "\n",
    "로지스틱 회귀분석에서는 로지스틱 함수를 이용하여 종속 변수의 값을 0과 1사이로 제한합니다. 로지스틱 함수를 이용하여 예측된 값이 0.5보다 크면 1로 분류하고, 그렇지 않으면 0으로 분류합니다.\n",
    "\n",
    "로지스틱 회귀분석은 선형 회귀분석과 달리, 독립 변수와 종속 변수 사이의 관계가 선형이 아닐 수도 있습니다. 이를 위해 로지스틱 함수를 사용하여 비선형적인 형태의 관계를 모델링할 수 있습니다.\n"
   ]
  },
  {
   "cell_type": "markdown",
   "metadata": {},
   "source": [
    "# **2. 로지스틱 회귀 분석 유형** <a class=\"anchor\" id=\"2\"></a>\n",
    "\n",
    "\n",
    "[Table of Contents](#0.1)\n",
    "\n",
    "\n",
    "통계학에서 **로지스틱 회귀 모델(Logistic Regression model)**은 주로 분류 목적으로 사용되는 널리 사용되는 통계 모델입니다. 즉, 일련의 관측치가 주어졌을 때, 로지스틱 회귀 알고리즘은 이러한 관측치를 두 개 이상의 이산적인 클래스로 분류하는 데 도움이 됩니다. 따라서 대상 변수는 이산적인 형태를 가집니다.\n",
    "\n",
    "로지스틱 회귀 알고리즘은 다음과 같이 작동합니다."
   ]
  },
  {
   "cell_type": "markdown",
   "metadata": {},
   "source": [
    "## **선형방정식 구현하기**\n",
    "\n",
    "\n",
    "\n",
    "로지스틱 회귀 분석 알고리즘은 반응 값을 예측하기 위해 독립 변수 또는 설명 변수가 있는 선형 방정식을 구현하는 방식으로 작동합니다. 예를 들어, 우리는 공부한 시간의 수와 시험에 합격할 확률의 예를 고려합니다. 여기서 연구된 시간 수는 설명 변수이며 x1로 표시됩니다. 합격 확률은 반응 변수 또는 목표 변수이며 z로 표시됩니다.\n",
    "\n",
    "\n",
    "만약 우리가 하나의 설명 변수(x1)와 하나의 반응 변수(z)를 가지고 있다면, 선형 방정식은 다음과 같은 방정식으로 수학적으로 주어질 것입니다\n",
    "\n",
    "$$z = β0 + β1x1$$\n",
    "\n",
    "여기서 계수 β0과 β1은 모형의 모수입니다.\n",
    "\n",
    "\n",
    "설명 변수가 여러 개인 경우, 위의 방정식은 다음과 같이 확장될 수 있습니다\n",
    "\n",
    "$$z = β0 + β1x1 + β2x2+….+ βnxn$$\n",
    "\n",
    "여기서 계수 β0, β1, β2 및 βn은 모델의 매개변수입니다.\n",
    "\n",
    "따라서 예측 반응 값은 위의 방정식에 의해 주어지며 z로 표시됩니다."
   ]
  },
  {
   "cell_type": "markdown",
   "metadata": {},
   "source": [
    "## **시그모이드 함수**\n",
    "\n",
    "\n",
    "예측된 응답 값을 z로 표기하고, 이 값은 0과 1 사이의 확률 값으로 변환됩니다. 우리는 예측된 값을 확률 값으로 매핑하기 위해 시그모이드 함수를 사용합니다. 시그모이드 함수는 임의의 실수 값을 0과 1 사이의 확률 값으로 매핑합니다.\n",
    "\n",
    "기계 학습에서 시그모이드 함수는 예측 값을 확률 값으로 매핑하는 데 사용됩니다. 시그모이드 함수는 S 모양의 곡선을 가지며, sigmoid curve라고도합니다.\n",
    "\n",
    "시그모이드 함수는 로지스틱 함수의 특수한 경우입니다. 다음 수학 공식으로 표현됩니다.\n",
    "\n",
    "그래프로는 시그모이드 함수를 다음과 같은 그래프로 나타낼 수 있습니다."
   ]
  },
  {
   "cell_type": "markdown",
   "metadata": {},
   "source": [
    "### Sigmoid Function\n",
    "\n",
    "![Sigmoid Function](https://miro.medium.com/max/970/1*Xu7B5y9gp0iL5ooBj7LtWw.png)"
   ]
  },
  {
   "cell_type": "markdown",
   "metadata": {},
   "source": [
    "## **의사결정 단**\n",
    "\n",
    "시그모이드 함수는 0과 1 사이의 확률 값을 반환합니다. 이 확률 값은 \"0\" 또는 \"1\"인 이산적인 클래스에 매핑됩니다. 이 확률 값을 이산적인 클래스(합격/불합격, 예/아니오, 참/거짓)에 매핑하기 위해 우리는 임계값을 선택합니다. 이 임계값을 의사결정 경계(Decision boundary)라고 합니다. 이 임계값 이상에서는 확률 값을 클래스 1로 매핑하고, 이하에서는 클래스 0으로 매핑합니다.\n",
    "\n",
    "수학적으로는 다음과 같이 표현할 수 있습니다:\n",
    "\n",
    "$$p ≥ 0.5 => 클래스 = 1$$\n",
    "\n",
    "$$p < 0.5 => 클래스 = 0$$\n",
    "\n",
    "일반적으로, 의사결정 경계는 0.5로 설정됩니다. 따라서, 확률 값이 0.8(>0.5)인 경우, 이 관측치를 클래스 1로 매핑합니다. 마찬가지로, 확률 값이 0.2(<0.5)인 경우, 이 관측치를 클래스 0으로 매핑합니다. 이는 아래 그래프에서 표시됩니다."
   ]
  },
  {
   "cell_type": "markdown",
   "metadata": {},
   "source": [
    "![Decision boundary in sigmoid function](https://ml-cheatsheet.readthedocs.io/en/latest/_images/logistic_regression_sigmoid_w_threshold.png)"
   ]
  },
  {
   "cell_type": "markdown",
   "metadata": {},
   "source": [
    "## **예측하기**\n",
    "\n",
    "이제 로지스틱 회귀에서의 시그모이드 함수와 의사결정 경계(Decision boundary)에 대해 알게 되었습니다. 시그모이드 함수와 의사결정 경계(Decision boundary)에 대한 지식을 활용하여 예측 함수를 작성할 수 있습니다. 로지스틱 회귀에서의 예측 함수는 관측치가 양성(Positive), Yes 또는 True인 확률을 반환합니다. 우리는 이를 클래스 1로 부르고 P(class = 1)로 표기합니다. 확률이 1에 가까워질수록 관측치가 클래스 1에 속할 확률이 높아지며, 그렇지 않으면 클래스 0에 속한다고 판단합니다."
   ]
  },
  {
   "cell_type": "markdown",
   "metadata": {},
   "source": [
    "# **3. 로지스틱 회귀 분석의 가정** <a class=\"anchor\" id=\"3\"></a>\n",
    "\n",
    "\n",
    "[Table of Contents](#0.1)\n",
    "\n",
    "로지스틱 회귀 모델은 여러 가지 핵심 가정을 필요로 합니다. 이러한 가정은 다음과 같습니다:\n",
    "\n",
    "1. 로지스틱 회귀 모델은 종속 변수가 이항, 다항 또는 서열형이어야 합니다.\n",
    "\n",
    "2. 관측치는 서로 독립적이어야 합니다. 따라서, 관측치는 반복 측정에서 나오면 안 됩니다.\n",
    "\n",
    "3. 로지스틱 회귀 알고리즘은 독립 변수들 사이에 다중공선성(multicollinearity)이 적거나 없어야 합니다. 즉, 독립 변수들은 서로 높은 상관 관계를 가지면 안 됩니다.\n",
    "\n",
    "4. 로지스틱 회귀 모델은 독립 변수와 로그 오즈(log odds)의 선형성을 가정합니다.\n",
    "\n",
    "5. 로지스틱 회귀 모델의 성공은 표본 크기에 따라 달라집니다. 일반적으로, 높은 정확도를 얻기 위해서는 큰 표본 크기가 필요합니다.\n",
    "\n",
    "\n",
    "\n"
   ]
  },
  {
   "cell_type": "markdown",
   "metadata": {},
   "source": [
    "# **4. 로지스틱 회귀 분석 유형** <a class=\"anchor\" id=\"4\"></a>\n",
    "\n",
    "\n",
    "[Table of Contents](#0.1)\n",
    "\n",
    "\n",
    "로지스틱 회귀 모델은 목표 변수 카테고리에 따라 세 가지 그룹으로 분류될 수 있습니다. 이 세 가지 그룹은 다음과 같이 설명됩니다:-\n",
    "\n",
    "### 1. 이항 로지스틱 회귀\n",
    "이항 로지스틱 회귀에서는 목표 변수가 두 개의 가능한 카테고리를 가지고 있습니다. 대표적인 예는 예/아니오, 좋음/나쁨, 참/거짓, 스팸/스팸 아님, 합격/불합격 등이 있습니다.\n",
    "\n",
    "### 2. 다항 로지스틱 회귀\n",
    "다항 로지스틱 회귀에서는 목표 변수가 순서 없이 세 개 이상의 카테고리를 가지고 있습니다. 따라서 세 개 이상의 명목적인 카테고리가 있습니다. 예를 들어, 과일 종류의 카테고리는 사과, 망고, 오렌지 및 바나나 등이 있습니다.\n",
    "\n",
    "### 3. 순서형 로지스틱 회귀\n",
    "순서형 로지스틱 회귀에서는 목표 변수가 순서가 있는 세 개 이상의 카테고리를 가지고 있습니다. 따라서 카테고리 사이에 내재된 순서가 있습니다. 예를 들어, 학생 성적은 나쁨, 평균, 좋음, 우수한 등으로 분류될 수 있습니다.\n"
   ]
  },
  {
   "cell_type": "markdown",
   "metadata": {},
   "source": [
    "# **5. Import libraries** <a class=\"anchor\" id=\"5\"></a>\n",
    "\n",
    "\n",
    "[Table of Contents](#0.1)"
   ]
  },
  {
   "cell_type": "code",
   "execution_count": 1,
   "metadata": {
    "execution": {
     "iopub.execute_input": "2023-04-15T13:28:58.608816Z",
     "iopub.status.busy": "2023-04-15T13:28:58.608177Z",
     "iopub.status.idle": "2023-04-15T13:29:00.875692Z",
     "shell.execute_reply": "2023-04-15T13:29:00.874184Z",
     "shell.execute_reply.started": "2023-04-15T13:28:58.608722Z"
    }
   },
   "outputs": [
    {
     "name": "stdout",
     "output_type": "stream",
     "text": [
      "/kaggle/input/weather-dataset-rattle-package/weatherAUS.csv\n"
     ]
    }
   ],
   "source": [
    "# This Python 3 environment comes with many helpful analytics libraries installed\n",
    "# It is defined by the kaggle/python docker image: https://github.com/kaggle/docker-python\n",
    "# For example, here's several helpful packages to load in \n",
    "\n",
    "import numpy as np # linear algebra\n",
    "import pandas as pd # data processing, CSV file I/O (e.g. pd.read_csv)\n",
    "import matplotlib.pyplot as plt # data visualization\n",
    "import seaborn as sns # statistical data visualization\n",
    "%matplotlib inline\n",
    "\n",
    "# Input data files are available in the \"../input/\" directory.\n",
    "# For example, running this (by clicking run or pressing Shift+Enter) will list all files under the input directory\n",
    "\n",
    "import os\n",
    "for dirname, _, filenames in os.walk('/kaggle/input'):\n",
    "    for filename in filenames:\n",
    "        print(os.path.join(dirname, filename))\n",
    "\n",
    "# Any results you write to the current directory are saved as output.\n"
   ]
  },
  {
   "cell_type": "code",
   "execution_count": 2,
   "metadata": {
    "execution": {
     "iopub.execute_input": "2023-04-15T13:29:00.878790Z",
     "iopub.status.busy": "2023-04-15T13:29:00.878275Z",
     "iopub.status.idle": "2023-04-15T13:29:00.885620Z",
     "shell.execute_reply": "2023-04-15T13:29:00.884524Z",
     "shell.execute_reply.started": "2023-04-15T13:29:00.878720Z"
    }
   },
   "outputs": [],
   "source": [
    "import warnings\n",
    "\n",
    "warnings.filterwarnings('ignore')"
   ]
  },
  {
   "cell_type": "markdown",
   "metadata": {},
   "source": [
    "# **6. Import dataset** <a class=\"anchor\" id=\"6\"></a>\n",
    "\n",
    "\n",
    "[Table of Contents](#0.1)"
   ]
  },
  {
   "cell_type": "code",
   "execution_count": 3,
   "metadata": {
    "execution": {
     "iopub.execute_input": "2023-04-15T13:29:00.887894Z",
     "iopub.status.busy": "2023-04-15T13:29:00.887383Z",
     "iopub.status.idle": "2023-04-15T13:29:01.704502Z",
     "shell.execute_reply": "2023-04-15T13:29:01.703333Z",
     "shell.execute_reply.started": "2023-04-15T13:29:00.887829Z"
    }
   },
   "outputs": [],
   "source": [
    "data = '/kaggle/input/weather-dataset-rattle-package/weatherAUS.csv'\n",
    "\n",
    "df = pd.read_csv(data)"
   ]
  },
  {
   "cell_type": "markdown",
   "metadata": {},
   "source": [
    "# **7. 데이터 분석 탐색하기** <a class=\"anchor\" id=\"7\"></a>\n",
    "\n",
    "\n",
    "[Table of Contents](#0.1)\n",
    "\n",
    "\n"
   ]
  },
  {
   "cell_type": "code",
   "execution_count": 4,
   "metadata": {
    "execution": {
     "iopub.execute_input": "2023-04-15T13:29:01.709693Z",
     "iopub.status.busy": "2023-04-15T13:29:01.709329Z",
     "iopub.status.idle": "2023-04-15T13:29:01.719564Z",
     "shell.execute_reply": "2023-04-15T13:29:01.717710Z",
     "shell.execute_reply.started": "2023-04-15T13:29:01.709632Z"
    }
   },
   "outputs": [
    {
     "data": {
      "text/plain": [
       "(145460, 23)"
      ]
     },
     "execution_count": 4,
     "metadata": {},
     "output_type": "execute_result"
    }
   ],
   "source": [
    "# view dimensions of dataset\n",
    "\n",
    "df.shape"
   ]
  },
  {
   "cell_type": "markdown",
   "metadata": {},
   "source": [
    "데이터셋에는 142193개의 인스턴스와 24개의 변수가 있다는 것을 확인할 수 있습니다."
   ]
  },
  {
   "cell_type": "code",
   "execution_count": 5,
   "metadata": {
    "execution": {
     "iopub.execute_input": "2023-04-15T13:29:01.724413Z",
     "iopub.status.busy": "2023-04-15T13:29:01.723956Z",
     "iopub.status.idle": "2023-04-15T13:29:01.781499Z",
     "shell.execute_reply": "2023-04-15T13:29:01.779993Z",
     "shell.execute_reply.started": "2023-04-15T13:29:01.724341Z"
    }
   },
   "outputs": [
    {
     "data": {
      "text/html": [
       "<div>\n",
       "<style scoped>\n",
       "    .dataframe tbody tr th:only-of-type {\n",
       "        vertical-align: middle;\n",
       "    }\n",
       "\n",
       "    .dataframe tbody tr th {\n",
       "        vertical-align: top;\n",
       "    }\n",
       "\n",
       "    .dataframe thead th {\n",
       "        text-align: right;\n",
       "    }\n",
       "</style>\n",
       "<table border=\"1\" class=\"dataframe\">\n",
       "  <thead>\n",
       "    <tr style=\"text-align: right;\">\n",
       "      <th></th>\n",
       "      <th>Date</th>\n",
       "      <th>Location</th>\n",
       "      <th>MinTemp</th>\n",
       "      <th>MaxTemp</th>\n",
       "      <th>Rainfall</th>\n",
       "      <th>Evaporation</th>\n",
       "      <th>Sunshine</th>\n",
       "      <th>WindGustDir</th>\n",
       "      <th>WindGustSpeed</th>\n",
       "      <th>WindDir9am</th>\n",
       "      <th>...</th>\n",
       "      <th>Humidity9am</th>\n",
       "      <th>Humidity3pm</th>\n",
       "      <th>Pressure9am</th>\n",
       "      <th>Pressure3pm</th>\n",
       "      <th>Cloud9am</th>\n",
       "      <th>Cloud3pm</th>\n",
       "      <th>Temp9am</th>\n",
       "      <th>Temp3pm</th>\n",
       "      <th>RainToday</th>\n",
       "      <th>RainTomorrow</th>\n",
       "    </tr>\n",
       "  </thead>\n",
       "  <tbody>\n",
       "    <tr>\n",
       "      <th>0</th>\n",
       "      <td>2008-12-01</td>\n",
       "      <td>Albury</td>\n",
       "      <td>13.4</td>\n",
       "      <td>22.9</td>\n",
       "      <td>0.6</td>\n",
       "      <td>NaN</td>\n",
       "      <td>NaN</td>\n",
       "      <td>W</td>\n",
       "      <td>44.0</td>\n",
       "      <td>W</td>\n",
       "      <td>...</td>\n",
       "      <td>71.0</td>\n",
       "      <td>22.0</td>\n",
       "      <td>1007.7</td>\n",
       "      <td>1007.1</td>\n",
       "      <td>8.0</td>\n",
       "      <td>NaN</td>\n",
       "      <td>16.9</td>\n",
       "      <td>21.8</td>\n",
       "      <td>No</td>\n",
       "      <td>No</td>\n",
       "    </tr>\n",
       "    <tr>\n",
       "      <th>1</th>\n",
       "      <td>2008-12-02</td>\n",
       "      <td>Albury</td>\n",
       "      <td>7.4</td>\n",
       "      <td>25.1</td>\n",
       "      <td>0.0</td>\n",
       "      <td>NaN</td>\n",
       "      <td>NaN</td>\n",
       "      <td>WNW</td>\n",
       "      <td>44.0</td>\n",
       "      <td>NNW</td>\n",
       "      <td>...</td>\n",
       "      <td>44.0</td>\n",
       "      <td>25.0</td>\n",
       "      <td>1010.6</td>\n",
       "      <td>1007.8</td>\n",
       "      <td>NaN</td>\n",
       "      <td>NaN</td>\n",
       "      <td>17.2</td>\n",
       "      <td>24.3</td>\n",
       "      <td>No</td>\n",
       "      <td>No</td>\n",
       "    </tr>\n",
       "    <tr>\n",
       "      <th>2</th>\n",
       "      <td>2008-12-03</td>\n",
       "      <td>Albury</td>\n",
       "      <td>12.9</td>\n",
       "      <td>25.7</td>\n",
       "      <td>0.0</td>\n",
       "      <td>NaN</td>\n",
       "      <td>NaN</td>\n",
       "      <td>WSW</td>\n",
       "      <td>46.0</td>\n",
       "      <td>W</td>\n",
       "      <td>...</td>\n",
       "      <td>38.0</td>\n",
       "      <td>30.0</td>\n",
       "      <td>1007.6</td>\n",
       "      <td>1008.7</td>\n",
       "      <td>NaN</td>\n",
       "      <td>2.0</td>\n",
       "      <td>21.0</td>\n",
       "      <td>23.2</td>\n",
       "      <td>No</td>\n",
       "      <td>No</td>\n",
       "    </tr>\n",
       "    <tr>\n",
       "      <th>3</th>\n",
       "      <td>2008-12-04</td>\n",
       "      <td>Albury</td>\n",
       "      <td>9.2</td>\n",
       "      <td>28.0</td>\n",
       "      <td>0.0</td>\n",
       "      <td>NaN</td>\n",
       "      <td>NaN</td>\n",
       "      <td>NE</td>\n",
       "      <td>24.0</td>\n",
       "      <td>SE</td>\n",
       "      <td>...</td>\n",
       "      <td>45.0</td>\n",
       "      <td>16.0</td>\n",
       "      <td>1017.6</td>\n",
       "      <td>1012.8</td>\n",
       "      <td>NaN</td>\n",
       "      <td>NaN</td>\n",
       "      <td>18.1</td>\n",
       "      <td>26.5</td>\n",
       "      <td>No</td>\n",
       "      <td>No</td>\n",
       "    </tr>\n",
       "    <tr>\n",
       "      <th>4</th>\n",
       "      <td>2008-12-05</td>\n",
       "      <td>Albury</td>\n",
       "      <td>17.5</td>\n",
       "      <td>32.3</td>\n",
       "      <td>1.0</td>\n",
       "      <td>NaN</td>\n",
       "      <td>NaN</td>\n",
       "      <td>W</td>\n",
       "      <td>41.0</td>\n",
       "      <td>ENE</td>\n",
       "      <td>...</td>\n",
       "      <td>82.0</td>\n",
       "      <td>33.0</td>\n",
       "      <td>1010.8</td>\n",
       "      <td>1006.0</td>\n",
       "      <td>7.0</td>\n",
       "      <td>8.0</td>\n",
       "      <td>17.8</td>\n",
       "      <td>29.7</td>\n",
       "      <td>No</td>\n",
       "      <td>No</td>\n",
       "    </tr>\n",
       "  </tbody>\n",
       "</table>\n",
       "<p>5 rows × 23 columns</p>\n",
       "</div>"
      ],
      "text/plain": [
       "         Date Location  MinTemp  MaxTemp  Rainfall  Evaporation  Sunshine  \\\n",
       "0  2008-12-01   Albury     13.4     22.9       0.6          NaN       NaN   \n",
       "1  2008-12-02   Albury      7.4     25.1       0.0          NaN       NaN   \n",
       "2  2008-12-03   Albury     12.9     25.7       0.0          NaN       NaN   \n",
       "3  2008-12-04   Albury      9.2     28.0       0.0          NaN       NaN   \n",
       "4  2008-12-05   Albury     17.5     32.3       1.0          NaN       NaN   \n",
       "\n",
       "  WindGustDir  WindGustSpeed WindDir9am  ... Humidity9am  Humidity3pm  \\\n",
       "0           W           44.0          W  ...        71.0         22.0   \n",
       "1         WNW           44.0        NNW  ...        44.0         25.0   \n",
       "2         WSW           46.0          W  ...        38.0         30.0   \n",
       "3          NE           24.0         SE  ...        45.0         16.0   \n",
       "4           W           41.0        ENE  ...        82.0         33.0   \n",
       "\n",
       "   Pressure9am  Pressure3pm  Cloud9am  Cloud3pm  Temp9am  Temp3pm  RainToday  \\\n",
       "0       1007.7       1007.1       8.0       NaN     16.9     21.8         No   \n",
       "1       1010.6       1007.8       NaN       NaN     17.2     24.3         No   \n",
       "2       1007.6       1008.7       NaN       2.0     21.0     23.2         No   \n",
       "3       1017.6       1012.8       NaN       NaN     18.1     26.5         No   \n",
       "4       1010.8       1006.0       7.0       8.0     17.8     29.7         No   \n",
       "\n",
       "   RainTomorrow  \n",
       "0            No  \n",
       "1            No  \n",
       "2            No  \n",
       "3            No  \n",
       "4            No  \n",
       "\n",
       "[5 rows x 23 columns]"
      ]
     },
     "execution_count": 5,
     "metadata": {},
     "output_type": "execute_result"
    }
   ],
   "source": [
    "# preview the dataset\n",
    "\n",
    "df.head()"
   ]
  },
  {
   "cell_type": "code",
   "execution_count": 6,
   "metadata": {
    "execution": {
     "iopub.execute_input": "2023-04-15T13:29:01.785577Z",
     "iopub.status.busy": "2023-04-15T13:29:01.785192Z",
     "iopub.status.idle": "2023-04-15T13:29:01.794933Z",
     "shell.execute_reply": "2023-04-15T13:29:01.793687Z",
     "shell.execute_reply.started": "2023-04-15T13:29:01.785502Z"
    }
   },
   "outputs": [
    {
     "data": {
      "text/plain": [
       "Index(['Date', 'Location', 'MinTemp', 'MaxTemp', 'Rainfall', 'Evaporation',\n",
       "       'Sunshine', 'WindGustDir', 'WindGustSpeed', 'WindDir9am', 'WindDir3pm',\n",
       "       'WindSpeed9am', 'WindSpeed3pm', 'Humidity9am', 'Humidity3pm',\n",
       "       'Pressure9am', 'Pressure3pm', 'Cloud9am', 'Cloud3pm', 'Temp9am',\n",
       "       'Temp3pm', 'RainToday', 'RainTomorrow'],\n",
       "      dtype='object')"
      ]
     },
     "execution_count": 6,
     "metadata": {},
     "output_type": "execute_result"
    }
   ],
   "source": [
    "col_names = df.columns\n",
    "\n",
    "col_names"
   ]
  },
  {
   "cell_type": "code",
   "execution_count": 7,
   "metadata": {
    "execution": {
     "iopub.execute_input": "2023-04-15T13:29:01.798519Z",
     "iopub.status.busy": "2023-04-15T13:29:01.798064Z",
     "iopub.status.idle": "2023-04-15T13:29:01.876824Z",
     "shell.execute_reply": "2023-04-15T13:29:01.875242Z",
     "shell.execute_reply.started": "2023-04-15T13:29:01.798457Z"
    }
   },
   "outputs": [
    {
     "name": "stdout",
     "output_type": "stream",
     "text": [
      "<class 'pandas.core.frame.DataFrame'>\n",
      "RangeIndex: 145460 entries, 0 to 145459\n",
      "Data columns (total 23 columns):\n",
      "Date             145460 non-null object\n",
      "Location         145460 non-null object\n",
      "MinTemp          143975 non-null float64\n",
      "MaxTemp          144199 non-null float64\n",
      "Rainfall         142199 non-null float64\n",
      "Evaporation      82670 non-null float64\n",
      "Sunshine         75625 non-null float64\n",
      "WindGustDir      135134 non-null object\n",
      "WindGustSpeed    135197 non-null float64\n",
      "WindDir9am       134894 non-null object\n",
      "WindDir3pm       141232 non-null object\n",
      "WindSpeed9am     143693 non-null float64\n",
      "WindSpeed3pm     142398 non-null float64\n",
      "Humidity9am      142806 non-null float64\n",
      "Humidity3pm      140953 non-null float64\n",
      "Pressure9am      130395 non-null float64\n",
      "Pressure3pm      130432 non-null float64\n",
      "Cloud9am         89572 non-null float64\n",
      "Cloud3pm         86102 non-null float64\n",
      "Temp9am          143693 non-null float64\n",
      "Temp3pm          141851 non-null float64\n",
      "RainToday        142199 non-null object\n",
      "RainTomorrow     142193 non-null object\n",
      "dtypes: float64(16), object(7)\n",
      "memory usage: 25.5+ MB\n"
     ]
    }
   ],
   "source": [
    "# view summary of dataset\n",
    "\n",
    "df.info()"
   ]
  },
  {
   "cell_type": "markdown",
   "metadata": {},
   "source": [
    "### 변수 유형\n",
    "이번 섹션에서는 데이터셋을 범주형 변수와 수치형 변수로 분류합니다. 데이터셋에는 범주형 변수와 수치형 변수가 혼합되어 있습니다. 범주형 변수는 object 데이터 타입을 가지고 있고, 수치형 변수는 float64 데이터 타입을 가지고 있습니다.\n",
    "\n",
    "먼저, 범주형 변수를 찾아보겠습니다."
   ]
  },
  {
   "cell_type": "code",
   "execution_count": 8,
   "metadata": {
    "execution": {
     "iopub.execute_input": "2023-04-15T13:29:01.878931Z",
     "iopub.status.busy": "2023-04-15T13:29:01.878597Z",
     "iopub.status.idle": "2023-04-15T13:29:01.888239Z",
     "shell.execute_reply": "2023-04-15T13:29:01.886398Z",
     "shell.execute_reply.started": "2023-04-15T13:29:01.878874Z"
    }
   },
   "outputs": [
    {
     "name": "stdout",
     "output_type": "stream",
     "text": [
      "범주형 변수 개수 7\n",
      "\n",
      "범주형 변수들은 다음과 같다 : ['Date', 'Location', 'WindGustDir', 'WindDir9am', 'WindDir3pm', 'RainToday', 'RainTomorrow']\n"
     ]
    }
   ],
   "source": [
    "# find categorical variables\n",
    "\n",
    "categorical = [var for var in df.columns if df[var].dtype=='O']\n",
    "\n",
    "print('범주형 변수 개수 {}\\n'.format(len(categorical)))\n",
    "\n",
    "print('범주형 변수들은 다음과 같다 :', categorical)"
   ]
  },
  {
   "cell_type": "code",
   "execution_count": 9,
   "metadata": {
    "execution": {
     "iopub.execute_input": "2023-04-15T13:29:01.890494Z",
     "iopub.status.busy": "2023-04-15T13:29:01.890193Z",
     "iopub.status.idle": "2023-04-15T13:29:01.932310Z",
     "shell.execute_reply": "2023-04-15T13:29:01.930764Z",
     "shell.execute_reply.started": "2023-04-15T13:29:01.890445Z"
    }
   },
   "outputs": [
    {
     "data": {
      "text/html": [
       "<div>\n",
       "<style scoped>\n",
       "    .dataframe tbody tr th:only-of-type {\n",
       "        vertical-align: middle;\n",
       "    }\n",
       "\n",
       "    .dataframe tbody tr th {\n",
       "        vertical-align: top;\n",
       "    }\n",
       "\n",
       "    .dataframe thead th {\n",
       "        text-align: right;\n",
       "    }\n",
       "</style>\n",
       "<table border=\"1\" class=\"dataframe\">\n",
       "  <thead>\n",
       "    <tr style=\"text-align: right;\">\n",
       "      <th></th>\n",
       "      <th>Date</th>\n",
       "      <th>Location</th>\n",
       "      <th>WindGustDir</th>\n",
       "      <th>WindDir9am</th>\n",
       "      <th>WindDir3pm</th>\n",
       "      <th>RainToday</th>\n",
       "      <th>RainTomorrow</th>\n",
       "    </tr>\n",
       "  </thead>\n",
       "  <tbody>\n",
       "    <tr>\n",
       "      <th>0</th>\n",
       "      <td>2008-12-01</td>\n",
       "      <td>Albury</td>\n",
       "      <td>W</td>\n",
       "      <td>W</td>\n",
       "      <td>WNW</td>\n",
       "      <td>No</td>\n",
       "      <td>No</td>\n",
       "    </tr>\n",
       "    <tr>\n",
       "      <th>1</th>\n",
       "      <td>2008-12-02</td>\n",
       "      <td>Albury</td>\n",
       "      <td>WNW</td>\n",
       "      <td>NNW</td>\n",
       "      <td>WSW</td>\n",
       "      <td>No</td>\n",
       "      <td>No</td>\n",
       "    </tr>\n",
       "    <tr>\n",
       "      <th>2</th>\n",
       "      <td>2008-12-03</td>\n",
       "      <td>Albury</td>\n",
       "      <td>WSW</td>\n",
       "      <td>W</td>\n",
       "      <td>WSW</td>\n",
       "      <td>No</td>\n",
       "      <td>No</td>\n",
       "    </tr>\n",
       "    <tr>\n",
       "      <th>3</th>\n",
       "      <td>2008-12-04</td>\n",
       "      <td>Albury</td>\n",
       "      <td>NE</td>\n",
       "      <td>SE</td>\n",
       "      <td>E</td>\n",
       "      <td>No</td>\n",
       "      <td>No</td>\n",
       "    </tr>\n",
       "    <tr>\n",
       "      <th>4</th>\n",
       "      <td>2008-12-05</td>\n",
       "      <td>Albury</td>\n",
       "      <td>W</td>\n",
       "      <td>ENE</td>\n",
       "      <td>NW</td>\n",
       "      <td>No</td>\n",
       "      <td>No</td>\n",
       "    </tr>\n",
       "  </tbody>\n",
       "</table>\n",
       "</div>"
      ],
      "text/plain": [
       "         Date Location WindGustDir WindDir9am WindDir3pm RainToday  \\\n",
       "0  2008-12-01   Albury           W          W        WNW        No   \n",
       "1  2008-12-02   Albury         WNW        NNW        WSW        No   \n",
       "2  2008-12-03   Albury         WSW          W        WSW        No   \n",
       "3  2008-12-04   Albury          NE         SE          E        No   \n",
       "4  2008-12-05   Albury           W        ENE         NW        No   \n",
       "\n",
       "  RainTomorrow  \n",
       "0           No  \n",
       "1           No  \n",
       "2           No  \n",
       "3           No  \n",
       "4           No  "
      ]
     },
     "execution_count": 9,
     "metadata": {},
     "output_type": "execute_result"
    }
   ],
   "source": [
    "# view the categorical variables\n",
    "\n",
    "df[categorical].head()"
   ]
  },
  {
   "cell_type": "markdown",
   "metadata": {},
   "source": [
    "### 범주형 변수 요약\n",
    "`Date` 변수가 있습니다.\n",
    "\n",
    "총 6개의 범주형 변수가 있습니다. 이는 `Location, WindGustDir, WindDir9am, WindDir3pm, RainToday, RainTomorrow` 입니다.\n",
    "\n",
    "이 중 `RainToday`와 `RainTomorrow` 변수는 이진 범주형 변수입니다.\n",
    "\n",
    "`RainTomorrow` 변수는 타겟 변수입니다."
   ]
  },
  {
   "cell_type": "markdown",
   "metadata": {},
   "source": [
    "## 범주형 변수 내 문제 탐구\n",
    "첫째로, 범주형 변수를 살펴보겠습니다.\n",
    "\n",
    "### 범주형 변수 내 결측치"
   ]
  },
  {
   "cell_type": "code",
   "execution_count": 10,
   "metadata": {
    "execution": {
     "iopub.execute_input": "2023-04-15T13:29:01.934561Z",
     "iopub.status.busy": "2023-04-15T13:29:01.933952Z",
     "iopub.status.idle": "2023-04-15T13:29:02.005117Z",
     "shell.execute_reply": "2023-04-15T13:29:02.003913Z",
     "shell.execute_reply.started": "2023-04-15T13:29:01.934462Z"
    }
   },
   "outputs": [
    {
     "data": {
      "text/plain": [
       "Date                0\n",
       "Location            0\n",
       "WindGustDir     10326\n",
       "WindDir9am      10566\n",
       "WindDir3pm       4228\n",
       "RainToday        3261\n",
       "RainTomorrow     3267\n",
       "dtype: int64"
      ]
     },
     "execution_count": 10,
     "metadata": {},
     "output_type": "execute_result"
    }
   ],
   "source": [
    "# check missing values in categorical variables\n",
    "\n",
    "df[categorical].isnull().sum()"
   ]
  },
  {
   "cell_type": "code",
   "execution_count": 11,
   "metadata": {
    "execution": {
     "iopub.execute_input": "2023-04-15T13:29:02.007425Z",
     "iopub.status.busy": "2023-04-15T13:29:02.007056Z",
     "iopub.status.idle": "2023-04-15T13:29:02.103237Z",
     "shell.execute_reply": "2023-04-15T13:29:02.102358Z",
     "shell.execute_reply.started": "2023-04-15T13:29:02.007370Z"
    }
   },
   "outputs": [
    {
     "name": "stdout",
     "output_type": "stream",
     "text": [
      "WindGustDir     10326\n",
      "WindDir9am      10566\n",
      "WindDir3pm       4228\n",
      "RainToday        3261\n",
      "RainTomorrow     3267\n",
      "dtype: int64\n"
     ]
    }
   ],
   "source": [
    "# print categorical variables containing missing values\n",
    "\n",
    "cat1 = [var for var in categorical if df[var].isnull().sum()!=0]\n",
    "\n",
    "print(df[cat1].isnull().sum())"
   ]
  },
  {
   "cell_type": "markdown",
   "metadata": {},
   "source": [
    "데이터 세트에는 결측값이 있는 범주형 변수가 4개만 있습니다. 이것들은 `WindGustDir, WindDir9am, WindDir3pm, RainToday`입니다."
   ]
  },
  {
   "cell_type": "markdown",
   "metadata": {},
   "source": [
    "### 범주형 변수의 빈도수 카운트\n",
    "이제 범주형 변수의 빈도수 카운트를 확인해보겠습니다."
   ]
  },
  {
   "cell_type": "code",
   "execution_count": 12,
   "metadata": {
    "execution": {
     "iopub.execute_input": "2023-04-15T13:29:02.105089Z",
     "iopub.status.busy": "2023-04-15T13:29:02.104757Z",
     "iopub.status.idle": "2023-04-15T13:29:02.231861Z",
     "shell.execute_reply": "2023-04-15T13:29:02.230859Z",
     "shell.execute_reply.started": "2023-04-15T13:29:02.105016Z"
    }
   },
   "outputs": [
    {
     "name": "stdout",
     "output_type": "stream",
     "text": [
      "2013-08-28    49\n",
      "2016-01-08    49\n",
      "2016-11-15    49\n",
      "2017-04-02    49\n",
      "2014-10-23    49\n",
      "              ..\n",
      "2007-11-02     1\n",
      "2007-11-12     1\n",
      "2007-12-16     1\n",
      "2008-01-25     1\n",
      "2007-11-05     1\n",
      "Name: Date, Length: 3436, dtype: int64\n",
      "Canberra            3436\n",
      "Sydney              3344\n",
      "Hobart              3193\n",
      "Darwin              3193\n",
      "Brisbane            3193\n",
      "Perth               3193\n",
      "Adelaide            3193\n",
      "Melbourne           3193\n",
      "Albany              3040\n",
      "MountGinini         3040\n",
      "Townsville          3040\n",
      "MountGambier        3040\n",
      "GoldCoast           3040\n",
      "Launceston          3040\n",
      "AliceSprings        3040\n",
      "Ballarat            3040\n",
      "Albury              3040\n",
      "Wollongong          3040\n",
      "Cairns              3040\n",
      "Bendigo             3040\n",
      "Newcastle           3039\n",
      "Tuggeranong         3039\n",
      "Penrith             3039\n",
      "Nuriootpa           3009\n",
      "Portland            3009\n",
      "Moree               3009\n",
      "Mildura             3009\n",
      "NorfolkIsland       3009\n",
      "Richmond            3009\n",
      "MelbourneAirport    3009\n",
      "Woomera             3009\n",
      "Cobar               3009\n",
      "Watsonia            3009\n",
      "WaggaWagga          3009\n",
      "PerthAirport        3009\n",
      "BadgerysCreek       3009\n",
      "SydneyAirport       3009\n",
      "PearceRAAF          3009\n",
      "CoffsHarbour        3009\n",
      "Witchcliffe         3009\n",
      "Sale                3009\n",
      "Dartmoor            3009\n",
      "Williamtown         3009\n",
      "Walpole             3006\n",
      "NorahHead           3004\n",
      "SalmonGums          3001\n",
      "Nhil                1578\n",
      "Uluru               1578\n",
      "Katherine           1578\n",
      "Name: Location, dtype: int64\n",
      "W      9915\n",
      "SE     9418\n",
      "N      9313\n",
      "SSE    9216\n",
      "E      9181\n",
      "S      9168\n",
      "WSW    9069\n",
      "SW     8967\n",
      "SSW    8736\n",
      "WNW    8252\n",
      "NW     8122\n",
      "ENE    8104\n",
      "ESE    7372\n",
      "NE     7133\n",
      "NNW    6620\n",
      "NNE    6548\n",
      "Name: WindGustDir, dtype: int64\n",
      "N      11758\n",
      "SE      9287\n",
      "E       9176\n",
      "SSE     9112\n",
      "NW      8749\n",
      "S       8659\n",
      "W       8459\n",
      "SW      8423\n",
      "NNE     8129\n",
      "NNW     7980\n",
      "ENE     7836\n",
      "NE      7671\n",
      "ESE     7630\n",
      "SSW     7587\n",
      "WNW     7414\n",
      "WSW     7024\n",
      "Name: WindDir9am, dtype: int64\n",
      "SE     10838\n",
      "W      10110\n",
      "S       9926\n",
      "WSW     9518\n",
      "SSE     9399\n",
      "SW      9354\n",
      "N       8890\n",
      "WNW     8874\n",
      "NW      8610\n",
      "ESE     8505\n",
      "E       8472\n",
      "NE      8263\n",
      "SSW     8156\n",
      "NNW     7870\n",
      "ENE     7857\n",
      "NNE     6590\n",
      "Name: WindDir3pm, dtype: int64\n",
      "No     110319\n",
      "Yes     31880\n",
      "Name: RainToday, dtype: int64\n",
      "No     110316\n",
      "Yes     31877\n",
      "Name: RainTomorrow, dtype: int64\n"
     ]
    }
   ],
   "source": [
    "# view frequency of categorical variables\n",
    "\n",
    "for var in categorical: \n",
    "    \n",
    "    print(df[var].value_counts())"
   ]
  },
  {
   "cell_type": "code",
   "execution_count": 13,
   "metadata": {
    "execution": {
     "iopub.execute_input": "2023-04-15T13:29:02.233771Z",
     "iopub.status.busy": "2023-04-15T13:29:02.233473Z",
     "iopub.status.idle": "2023-04-15T13:29:02.497133Z",
     "shell.execute_reply": "2023-04-15T13:29:02.495927Z",
     "shell.execute_reply.started": "2023-04-15T13:29:02.233729Z"
    }
   },
   "outputs": [
    {
     "name": "stdout",
     "output_type": "stream",
     "text": [
      "2013-08-28    0.000337\n",
      "2016-01-08    0.000337\n",
      "2016-11-15    0.000337\n",
      "2017-04-02    0.000337\n",
      "2014-10-23    0.000337\n",
      "                ...   \n",
      "2007-11-02    0.000007\n",
      "2007-11-12    0.000007\n",
      "2007-12-16    0.000007\n",
      "2008-01-25    0.000007\n",
      "2007-11-05    0.000007\n",
      "Name: Date, Length: 3436, dtype: float64\n",
      "Canberra            0.023622\n",
      "Sydney              0.022989\n",
      "Hobart              0.021951\n",
      "Darwin              0.021951\n",
      "Brisbane            0.021951\n",
      "Perth               0.021951\n",
      "Adelaide            0.021951\n",
      "Melbourne           0.021951\n",
      "Albany              0.020899\n",
      "MountGinini         0.020899\n",
      "Townsville          0.020899\n",
      "MountGambier        0.020899\n",
      "GoldCoast           0.020899\n",
      "Launceston          0.020899\n",
      "AliceSprings        0.020899\n",
      "Ballarat            0.020899\n",
      "Albury              0.020899\n",
      "Wollongong          0.020899\n",
      "Cairns              0.020899\n",
      "Bendigo             0.020899\n",
      "Newcastle           0.020892\n",
      "Tuggeranong         0.020892\n",
      "Penrith             0.020892\n",
      "Nuriootpa           0.020686\n",
      "Portland            0.020686\n",
      "Moree               0.020686\n",
      "Mildura             0.020686\n",
      "NorfolkIsland       0.020686\n",
      "Richmond            0.020686\n",
      "MelbourneAirport    0.020686\n",
      "Woomera             0.020686\n",
      "Cobar               0.020686\n",
      "Watsonia            0.020686\n",
      "WaggaWagga          0.020686\n",
      "PerthAirport        0.020686\n",
      "BadgerysCreek       0.020686\n",
      "SydneyAirport       0.020686\n",
      "PearceRAAF          0.020686\n",
      "CoffsHarbour        0.020686\n",
      "Witchcliffe         0.020686\n",
      "Sale                0.020686\n",
      "Dartmoor            0.020686\n",
      "Williamtown         0.020686\n",
      "Walpole             0.020665\n",
      "NorahHead           0.020652\n",
      "SalmonGums          0.020631\n",
      "Nhil                0.010848\n",
      "Uluru               0.010848\n",
      "Katherine           0.010848\n",
      "Name: Location, dtype: float64\n",
      "W      0.068163\n",
      "SE     0.064746\n",
      "N      0.064024\n",
      "SSE    0.063358\n",
      "E      0.063117\n",
      "S      0.063028\n",
      "WSW    0.062347\n",
      "SW     0.061646\n",
      "SSW    0.060058\n",
      "WNW    0.056730\n",
      "NW     0.055837\n",
      "ENE    0.055713\n",
      "ESE    0.050681\n",
      "NE     0.049038\n",
      "NNW    0.045511\n",
      "NNE    0.045016\n",
      "Name: WindGustDir, dtype: float64\n",
      "N      0.080833\n",
      "SE     0.063846\n",
      "E      0.063083\n",
      "SSE    0.062643\n",
      "NW     0.060147\n",
      "S      0.059528\n",
      "W      0.058153\n",
      "SW     0.057906\n",
      "NNE    0.055885\n",
      "NNW    0.054860\n",
      "ENE    0.053870\n",
      "NE     0.052736\n",
      "ESE    0.052454\n",
      "SSW    0.052159\n",
      "WNW    0.050969\n",
      "WSW    0.048288\n",
      "Name: WindDir9am, dtype: float64\n",
      "SE     0.074508\n",
      "W      0.069504\n",
      "S      0.068239\n",
      "WSW    0.065434\n",
      "SSE    0.064616\n",
      "SW     0.064306\n",
      "N      0.061116\n",
      "WNW    0.061006\n",
      "NW     0.059192\n",
      "ESE    0.058470\n",
      "E      0.058243\n",
      "NE     0.056806\n",
      "SSW    0.056070\n",
      "NNW    0.054104\n",
      "ENE    0.054015\n",
      "NNE    0.045305\n",
      "Name: WindDir3pm, dtype: float64\n",
      "No     0.758415\n",
      "Yes    0.219167\n",
      "Name: RainToday, dtype: float64\n",
      "No     0.758394\n",
      "Yes    0.219146\n",
      "Name: RainTomorrow, dtype: float64\n"
     ]
    }
   ],
   "source": [
    "# view frequency distribution of categorical variables\n",
    "\n",
    "for var in categorical: \n",
    "    \n",
    "    print(df[var].value_counts()/np.float(len(df)))"
   ]
  },
  {
   "cell_type": "markdown",
   "metadata": {},
   "source": [
    "### 레이블 수: 카디널리티\n",
    "카테고리 변수 내의 레이블 수를 카디널리티라고 합니다. 변수 내의 레이블 수가 많을 경우 **고 카디널리티(high cardinality)**로 알려져 있습니다. 고 카디널리티는 머신 러닝 모델에서 심각한 문제를 일으킬 수 있습니다. 따라서 고 카디널리티를 확인하겠습니다."
   ]
  },
  {
   "cell_type": "code",
   "execution_count": 14,
   "metadata": {
    "execution": {
     "iopub.execute_input": "2023-04-15T13:29:02.499595Z",
     "iopub.status.busy": "2023-04-15T13:29:02.499014Z",
     "iopub.status.idle": "2023-04-15T13:29:02.573108Z",
     "shell.execute_reply": "2023-04-15T13:29:02.569952Z",
     "shell.execute_reply.started": "2023-04-15T13:29:02.499541Z"
    }
   },
   "outputs": [
    {
     "name": "stdout",
     "output_type": "stream",
     "text": [
      "Date  contains  3436  labels\n",
      "Location  contains  49  labels\n",
      "WindGustDir  contains  17  labels\n",
      "WindDir9am  contains  17  labels\n",
      "WindDir3pm  contains  17  labels\n",
      "RainToday  contains  3  labels\n",
      "RainTomorrow  contains  3  labels\n"
     ]
    }
   ],
   "source": [
    "# check for cardinality in categorical variables\n",
    "\n",
    "for var in categorical:\n",
    "    \n",
    "    print(var, ' contains ', len(df[var].unique()), ' labels')"
   ]
  },
  {
   "cell_type": "markdown",
   "metadata": {},
   "source": [
    "날짜 변수 Date가 전처리되어야 하는 것으로 나타납니다. 다음 섹션에서 전처리를 수행하겠습니다.\n",
    "\n",
    "다른 모든 변수는 상대적으로 적은 수의 변수를 포함합니다."
   ]
  },
  {
   "cell_type": "markdown",
   "metadata": {},
   "source": [
    "### Feature Engineering of Date Variable"
   ]
  },
  {
   "cell_type": "code",
   "execution_count": 15,
   "metadata": {
    "execution": {
     "iopub.execute_input": "2023-04-15T13:29:02.576870Z",
     "iopub.status.busy": "2023-04-15T13:29:02.575597Z",
     "iopub.status.idle": "2023-04-15T13:29:02.584704Z",
     "shell.execute_reply": "2023-04-15T13:29:02.583223Z",
     "shell.execute_reply.started": "2023-04-15T13:29:02.576337Z"
    }
   },
   "outputs": [
    {
     "data": {
      "text/plain": [
       "dtype('O')"
      ]
     },
     "execution_count": 15,
     "metadata": {},
     "output_type": "execute_result"
    }
   ],
   "source": [
    "df['Date'].dtypes"
   ]
  },
  {
   "cell_type": "markdown",
   "metadata": {},
   "source": [
    "We can see that the data type of `Date` variable is object. I will parse the date currently coded as object into datetime format."
   ]
  },
  {
   "cell_type": "code",
   "execution_count": 16,
   "metadata": {
    "execution": {
     "iopub.execute_input": "2023-04-15T13:29:02.587365Z",
     "iopub.status.busy": "2023-04-15T13:29:02.586985Z",
     "iopub.status.idle": "2023-04-15T13:29:02.634226Z",
     "shell.execute_reply": "2023-04-15T13:29:02.632387Z",
     "shell.execute_reply.started": "2023-04-15T13:29:02.587309Z"
    }
   },
   "outputs": [],
   "source": [
    "# parse the dates, currently coded as strings, into datetime format\n",
    "\n",
    "df['Date'] = pd.to_datetime(df['Date'])"
   ]
  },
  {
   "cell_type": "code",
   "execution_count": 17,
   "metadata": {
    "execution": {
     "iopub.execute_input": "2023-04-15T13:29:02.636778Z",
     "iopub.status.busy": "2023-04-15T13:29:02.636343Z",
     "iopub.status.idle": "2023-04-15T13:29:02.664924Z",
     "shell.execute_reply": "2023-04-15T13:29:02.663236Z",
     "shell.execute_reply.started": "2023-04-15T13:29:02.636728Z"
    }
   },
   "outputs": [
    {
     "data": {
      "text/plain": [
       "0    2008\n",
       "1    2008\n",
       "2    2008\n",
       "3    2008\n",
       "4    2008\n",
       "Name: Year, dtype: int64"
      ]
     },
     "execution_count": 17,
     "metadata": {},
     "output_type": "execute_result"
    }
   ],
   "source": [
    "# extract year from date\n",
    "\n",
    "df['Year'] = df['Date'].dt.year\n",
    "\n",
    "df['Year'].head()"
   ]
  },
  {
   "cell_type": "code",
   "execution_count": 18,
   "metadata": {
    "execution": {
     "iopub.execute_input": "2023-04-15T13:29:02.668094Z",
     "iopub.status.busy": "2023-04-15T13:29:02.667544Z",
     "iopub.status.idle": "2023-04-15T13:29:02.695336Z",
     "shell.execute_reply": "2023-04-15T13:29:02.694064Z",
     "shell.execute_reply.started": "2023-04-15T13:29:02.668000Z"
    }
   },
   "outputs": [
    {
     "data": {
      "text/plain": [
       "0    12\n",
       "1    12\n",
       "2    12\n",
       "3    12\n",
       "4    12\n",
       "Name: Month, dtype: int64"
      ]
     },
     "execution_count": 18,
     "metadata": {},
     "output_type": "execute_result"
    }
   ],
   "source": [
    "# extract month from date\n",
    "\n",
    "df['Month'] = df['Date'].dt.month\n",
    "\n",
    "df['Month'].head()"
   ]
  },
  {
   "cell_type": "code",
   "execution_count": 19,
   "metadata": {
    "execution": {
     "iopub.execute_input": "2023-04-15T13:29:02.697710Z",
     "iopub.status.busy": "2023-04-15T13:29:02.697096Z",
     "iopub.status.idle": "2023-04-15T13:29:02.727039Z",
     "shell.execute_reply": "2023-04-15T13:29:02.725318Z",
     "shell.execute_reply.started": "2023-04-15T13:29:02.697652Z"
    }
   },
   "outputs": [
    {
     "data": {
      "text/plain": [
       "0    1\n",
       "1    2\n",
       "2    3\n",
       "3    4\n",
       "4    5\n",
       "Name: Day, dtype: int64"
      ]
     },
     "execution_count": 19,
     "metadata": {},
     "output_type": "execute_result"
    }
   ],
   "source": [
    "# extract day from date\n",
    "\n",
    "df['Day'] = df['Date'].dt.day\n",
    "\n",
    "df['Day'].head()"
   ]
  },
  {
   "cell_type": "code",
   "execution_count": 20,
   "metadata": {
    "execution": {
     "iopub.execute_input": "2023-04-15T13:29:02.729497Z",
     "iopub.status.busy": "2023-04-15T13:29:02.729100Z",
     "iopub.status.idle": "2023-04-15T13:29:02.807317Z",
     "shell.execute_reply": "2023-04-15T13:29:02.805694Z",
     "shell.execute_reply.started": "2023-04-15T13:29:02.729432Z"
    }
   },
   "outputs": [
    {
     "name": "stdout",
     "output_type": "stream",
     "text": [
      "<class 'pandas.core.frame.DataFrame'>\n",
      "RangeIndex: 145460 entries, 0 to 145459\n",
      "Data columns (total 26 columns):\n",
      "Date             145460 non-null datetime64[ns]\n",
      "Location         145460 non-null object\n",
      "MinTemp          143975 non-null float64\n",
      "MaxTemp          144199 non-null float64\n",
      "Rainfall         142199 non-null float64\n",
      "Evaporation      82670 non-null float64\n",
      "Sunshine         75625 non-null float64\n",
      "WindGustDir      135134 non-null object\n",
      "WindGustSpeed    135197 non-null float64\n",
      "WindDir9am       134894 non-null object\n",
      "WindDir3pm       141232 non-null object\n",
      "WindSpeed9am     143693 non-null float64\n",
      "WindSpeed3pm     142398 non-null float64\n",
      "Humidity9am      142806 non-null float64\n",
      "Humidity3pm      140953 non-null float64\n",
      "Pressure9am      130395 non-null float64\n",
      "Pressure3pm      130432 non-null float64\n",
      "Cloud9am         89572 non-null float64\n",
      "Cloud3pm         86102 non-null float64\n",
      "Temp9am          143693 non-null float64\n",
      "Temp3pm          141851 non-null float64\n",
      "RainToday        142199 non-null object\n",
      "RainTomorrow     142193 non-null object\n",
      "Year             145460 non-null int64\n",
      "Month            145460 non-null int64\n",
      "Day              145460 non-null int64\n",
      "dtypes: datetime64[ns](1), float64(16), int64(3), object(6)\n",
      "memory usage: 28.9+ MB\n"
     ]
    }
   ],
   "source": [
    "# again view the summary of dataset\n",
    "\n",
    "df.info()"
   ]
  },
  {
   "cell_type": "markdown",
   "metadata": {},
   "source": [
    "We can see that there are three additional columns created from `Date` variable. Now, I will drop the original `Date` variable from the dataset."
   ]
  },
  {
   "cell_type": "code",
   "execution_count": 21,
   "metadata": {
    "execution": {
     "iopub.execute_input": "2023-04-15T13:29:02.809635Z",
     "iopub.status.busy": "2023-04-15T13:29:02.809282Z",
     "iopub.status.idle": "2023-04-15T13:29:02.844849Z",
     "shell.execute_reply": "2023-04-15T13:29:02.842922Z",
     "shell.execute_reply.started": "2023-04-15T13:29:02.809584Z"
    }
   },
   "outputs": [],
   "source": [
    "# drop the original Date variable\n",
    "\n",
    "df.drop('Date', axis=1, inplace = True)"
   ]
  },
  {
   "cell_type": "code",
   "execution_count": 22,
   "metadata": {
    "execution": {
     "iopub.execute_input": "2023-04-15T13:29:02.848427Z",
     "iopub.status.busy": "2023-04-15T13:29:02.847710Z",
     "iopub.status.idle": "2023-04-15T13:29:02.887295Z",
     "shell.execute_reply": "2023-04-15T13:29:02.886046Z",
     "shell.execute_reply.started": "2023-04-15T13:29:02.848090Z"
    }
   },
   "outputs": [
    {
     "data": {
      "text/html": [
       "<div>\n",
       "<style scoped>\n",
       "    .dataframe tbody tr th:only-of-type {\n",
       "        vertical-align: middle;\n",
       "    }\n",
       "\n",
       "    .dataframe tbody tr th {\n",
       "        vertical-align: top;\n",
       "    }\n",
       "\n",
       "    .dataframe thead th {\n",
       "        text-align: right;\n",
       "    }\n",
       "</style>\n",
       "<table border=\"1\" class=\"dataframe\">\n",
       "  <thead>\n",
       "    <tr style=\"text-align: right;\">\n",
       "      <th></th>\n",
       "      <th>Location</th>\n",
       "      <th>MinTemp</th>\n",
       "      <th>MaxTemp</th>\n",
       "      <th>Rainfall</th>\n",
       "      <th>Evaporation</th>\n",
       "      <th>Sunshine</th>\n",
       "      <th>WindGustDir</th>\n",
       "      <th>WindGustSpeed</th>\n",
       "      <th>WindDir9am</th>\n",
       "      <th>WindDir3pm</th>\n",
       "      <th>...</th>\n",
       "      <th>Pressure3pm</th>\n",
       "      <th>Cloud9am</th>\n",
       "      <th>Cloud3pm</th>\n",
       "      <th>Temp9am</th>\n",
       "      <th>Temp3pm</th>\n",
       "      <th>RainToday</th>\n",
       "      <th>RainTomorrow</th>\n",
       "      <th>Year</th>\n",
       "      <th>Month</th>\n",
       "      <th>Day</th>\n",
       "    </tr>\n",
       "  </thead>\n",
       "  <tbody>\n",
       "    <tr>\n",
       "      <th>0</th>\n",
       "      <td>Albury</td>\n",
       "      <td>13.4</td>\n",
       "      <td>22.9</td>\n",
       "      <td>0.6</td>\n",
       "      <td>NaN</td>\n",
       "      <td>NaN</td>\n",
       "      <td>W</td>\n",
       "      <td>44.0</td>\n",
       "      <td>W</td>\n",
       "      <td>WNW</td>\n",
       "      <td>...</td>\n",
       "      <td>1007.1</td>\n",
       "      <td>8.0</td>\n",
       "      <td>NaN</td>\n",
       "      <td>16.9</td>\n",
       "      <td>21.8</td>\n",
       "      <td>No</td>\n",
       "      <td>No</td>\n",
       "      <td>2008</td>\n",
       "      <td>12</td>\n",
       "      <td>1</td>\n",
       "    </tr>\n",
       "    <tr>\n",
       "      <th>1</th>\n",
       "      <td>Albury</td>\n",
       "      <td>7.4</td>\n",
       "      <td>25.1</td>\n",
       "      <td>0.0</td>\n",
       "      <td>NaN</td>\n",
       "      <td>NaN</td>\n",
       "      <td>WNW</td>\n",
       "      <td>44.0</td>\n",
       "      <td>NNW</td>\n",
       "      <td>WSW</td>\n",
       "      <td>...</td>\n",
       "      <td>1007.8</td>\n",
       "      <td>NaN</td>\n",
       "      <td>NaN</td>\n",
       "      <td>17.2</td>\n",
       "      <td>24.3</td>\n",
       "      <td>No</td>\n",
       "      <td>No</td>\n",
       "      <td>2008</td>\n",
       "      <td>12</td>\n",
       "      <td>2</td>\n",
       "    </tr>\n",
       "    <tr>\n",
       "      <th>2</th>\n",
       "      <td>Albury</td>\n",
       "      <td>12.9</td>\n",
       "      <td>25.7</td>\n",
       "      <td>0.0</td>\n",
       "      <td>NaN</td>\n",
       "      <td>NaN</td>\n",
       "      <td>WSW</td>\n",
       "      <td>46.0</td>\n",
       "      <td>W</td>\n",
       "      <td>WSW</td>\n",
       "      <td>...</td>\n",
       "      <td>1008.7</td>\n",
       "      <td>NaN</td>\n",
       "      <td>2.0</td>\n",
       "      <td>21.0</td>\n",
       "      <td>23.2</td>\n",
       "      <td>No</td>\n",
       "      <td>No</td>\n",
       "      <td>2008</td>\n",
       "      <td>12</td>\n",
       "      <td>3</td>\n",
       "    </tr>\n",
       "    <tr>\n",
       "      <th>3</th>\n",
       "      <td>Albury</td>\n",
       "      <td>9.2</td>\n",
       "      <td>28.0</td>\n",
       "      <td>0.0</td>\n",
       "      <td>NaN</td>\n",
       "      <td>NaN</td>\n",
       "      <td>NE</td>\n",
       "      <td>24.0</td>\n",
       "      <td>SE</td>\n",
       "      <td>E</td>\n",
       "      <td>...</td>\n",
       "      <td>1012.8</td>\n",
       "      <td>NaN</td>\n",
       "      <td>NaN</td>\n",
       "      <td>18.1</td>\n",
       "      <td>26.5</td>\n",
       "      <td>No</td>\n",
       "      <td>No</td>\n",
       "      <td>2008</td>\n",
       "      <td>12</td>\n",
       "      <td>4</td>\n",
       "    </tr>\n",
       "    <tr>\n",
       "      <th>4</th>\n",
       "      <td>Albury</td>\n",
       "      <td>17.5</td>\n",
       "      <td>32.3</td>\n",
       "      <td>1.0</td>\n",
       "      <td>NaN</td>\n",
       "      <td>NaN</td>\n",
       "      <td>W</td>\n",
       "      <td>41.0</td>\n",
       "      <td>ENE</td>\n",
       "      <td>NW</td>\n",
       "      <td>...</td>\n",
       "      <td>1006.0</td>\n",
       "      <td>7.0</td>\n",
       "      <td>8.0</td>\n",
       "      <td>17.8</td>\n",
       "      <td>29.7</td>\n",
       "      <td>No</td>\n",
       "      <td>No</td>\n",
       "      <td>2008</td>\n",
       "      <td>12</td>\n",
       "      <td>5</td>\n",
       "    </tr>\n",
       "  </tbody>\n",
       "</table>\n",
       "<p>5 rows × 25 columns</p>\n",
       "</div>"
      ],
      "text/plain": [
       "  Location  MinTemp  MaxTemp  Rainfall  Evaporation  Sunshine WindGustDir  \\\n",
       "0   Albury     13.4     22.9       0.6          NaN       NaN           W   \n",
       "1   Albury      7.4     25.1       0.0          NaN       NaN         WNW   \n",
       "2   Albury     12.9     25.7       0.0          NaN       NaN         WSW   \n",
       "3   Albury      9.2     28.0       0.0          NaN       NaN          NE   \n",
       "4   Albury     17.5     32.3       1.0          NaN       NaN           W   \n",
       "\n",
       "   WindGustSpeed WindDir9am WindDir3pm  ...  Pressure3pm  Cloud9am  Cloud3pm  \\\n",
       "0           44.0          W        WNW  ...       1007.1       8.0       NaN   \n",
       "1           44.0        NNW        WSW  ...       1007.8       NaN       NaN   \n",
       "2           46.0          W        WSW  ...       1008.7       NaN       2.0   \n",
       "3           24.0         SE          E  ...       1012.8       NaN       NaN   \n",
       "4           41.0        ENE         NW  ...       1006.0       7.0       8.0   \n",
       "\n",
       "   Temp9am  Temp3pm  RainToday  RainTomorrow  Year  Month  Day  \n",
       "0     16.9     21.8         No            No  2008     12    1  \n",
       "1     17.2     24.3         No            No  2008     12    2  \n",
       "2     21.0     23.2         No            No  2008     12    3  \n",
       "3     18.1     26.5         No            No  2008     12    4  \n",
       "4     17.8     29.7         No            No  2008     12    5  \n",
       "\n",
       "[5 rows x 25 columns]"
      ]
     },
     "execution_count": 22,
     "metadata": {},
     "output_type": "execute_result"
    }
   ],
   "source": [
    "# preview the dataset again\n",
    "\n",
    "df.head()"
   ]
  },
  {
   "cell_type": "markdown",
   "metadata": {},
   "source": [
    "Now, we can see that the `Date` variable has been removed from the dataset.\n"
   ]
  },
  {
   "cell_type": "markdown",
   "metadata": {},
   "source": [
    "### Explore Categorical Variables\n",
    "\n",
    "\n",
    "Now, I will explore the categorical variables one by one. "
   ]
  },
  {
   "cell_type": "code",
   "execution_count": 23,
   "metadata": {
    "execution": {
     "iopub.execute_input": "2023-04-15T13:29:02.889934Z",
     "iopub.status.busy": "2023-04-15T13:29:02.889468Z",
     "iopub.status.idle": "2023-04-15T13:29:02.908080Z",
     "shell.execute_reply": "2023-04-15T13:29:02.906410Z",
     "shell.execute_reply.started": "2023-04-15T13:29:02.889862Z"
    }
   },
   "outputs": [
    {
     "name": "stdout",
     "output_type": "stream",
     "text": [
      "There are 6 categorical variables\n",
      "\n",
      "The categorical variables are : ['Location', 'WindGustDir', 'WindDir9am', 'WindDir3pm', 'RainToday', 'RainTomorrow']\n"
     ]
    }
   ],
   "source": [
    "# find categorical variables\n",
    "\n",
    "categorical = [var for var in df.columns if df[var].dtype=='O']\n",
    "\n",
    "print('There are {} categorical variables\\n'.format(len(categorical)))\n",
    "\n",
    "print('The categorical variables are :', categorical)"
   ]
  },
  {
   "cell_type": "markdown",
   "metadata": {},
   "source": [
    "We can see that there are 6 categorical variables in the dataset. The `Date` variable has been removed. First, I will check missing values in categorical variables."
   ]
  },
  {
   "cell_type": "code",
   "execution_count": 24,
   "metadata": {
    "execution": {
     "iopub.execute_input": "2023-04-15T13:29:02.911452Z",
     "iopub.status.busy": "2023-04-15T13:29:02.910988Z",
     "iopub.status.idle": "2023-04-15T13:29:02.975609Z",
     "shell.execute_reply": "2023-04-15T13:29:02.974407Z",
     "shell.execute_reply.started": "2023-04-15T13:29:02.911396Z"
    }
   },
   "outputs": [
    {
     "data": {
      "text/plain": [
       "Location            0\n",
       "WindGustDir     10326\n",
       "WindDir9am      10566\n",
       "WindDir3pm       4228\n",
       "RainToday        3261\n",
       "RainTomorrow     3267\n",
       "dtype: int64"
      ]
     },
     "execution_count": 24,
     "metadata": {},
     "output_type": "execute_result"
    }
   ],
   "source": [
    "# check for missing values in categorical variables \n",
    "\n",
    "df[categorical].isnull().sum()"
   ]
  },
  {
   "cell_type": "markdown",
   "metadata": {},
   "source": [
    "We can see that `WindGustDir`, `WindDir9am`, `WindDir3pm`, `RainToday` variables contain missing values. I will explore these variables one by one."
   ]
  },
  {
   "cell_type": "markdown",
   "metadata": {},
   "source": [
    "### Explore `Location` variable"
   ]
  },
  {
   "cell_type": "code",
   "execution_count": 25,
   "metadata": {
    "execution": {
     "iopub.execute_input": "2023-04-15T13:29:02.977665Z",
     "iopub.status.busy": "2023-04-15T13:29:02.977328Z",
     "iopub.status.idle": "2023-04-15T13:29:02.992561Z",
     "shell.execute_reply": "2023-04-15T13:29:02.991189Z",
     "shell.execute_reply.started": "2023-04-15T13:29:02.977596Z"
    }
   },
   "outputs": [
    {
     "name": "stdout",
     "output_type": "stream",
     "text": [
      "Location contains 49 labels\n"
     ]
    }
   ],
   "source": [
    "# print number of labels in Location variable\n",
    "\n",
    "print('Location contains', len(df.Location.unique()), 'labels')"
   ]
  },
  {
   "cell_type": "code",
   "execution_count": 26,
   "metadata": {
    "execution": {
     "iopub.execute_input": "2023-04-15T13:29:02.994840Z",
     "iopub.status.busy": "2023-04-15T13:29:02.994397Z",
     "iopub.status.idle": "2023-04-15T13:29:03.012952Z",
     "shell.execute_reply": "2023-04-15T13:29:03.011945Z",
     "shell.execute_reply.started": "2023-04-15T13:29:02.994745Z"
    }
   },
   "outputs": [
    {
     "data": {
      "text/plain": [
       "array(['Albury', 'BadgerysCreek', 'Cobar', 'CoffsHarbour', 'Moree',\n",
       "       'Newcastle', 'NorahHead', 'NorfolkIsland', 'Penrith', 'Richmond',\n",
       "       'Sydney', 'SydneyAirport', 'WaggaWagga', 'Williamtown',\n",
       "       'Wollongong', 'Canberra', 'Tuggeranong', 'MountGinini', 'Ballarat',\n",
       "       'Bendigo', 'Sale', 'MelbourneAirport', 'Melbourne', 'Mildura',\n",
       "       'Nhil', 'Portland', 'Watsonia', 'Dartmoor', 'Brisbane', 'Cairns',\n",
       "       'GoldCoast', 'Townsville', 'Adelaide', 'MountGambier', 'Nuriootpa',\n",
       "       'Woomera', 'Albany', 'Witchcliffe', 'PearceRAAF', 'PerthAirport',\n",
       "       'Perth', 'SalmonGums', 'Walpole', 'Hobart', 'Launceston',\n",
       "       'AliceSprings', 'Darwin', 'Katherine', 'Uluru'], dtype=object)"
      ]
     },
     "execution_count": 26,
     "metadata": {},
     "output_type": "execute_result"
    }
   ],
   "source": [
    "# check labels in location variable\n",
    "\n",
    "df.Location.unique()"
   ]
  },
  {
   "cell_type": "code",
   "execution_count": 27,
   "metadata": {
    "execution": {
     "iopub.execute_input": "2023-04-15T13:29:03.015878Z",
     "iopub.status.busy": "2023-04-15T13:29:03.014964Z",
     "iopub.status.idle": "2023-04-15T13:29:03.040708Z",
     "shell.execute_reply": "2023-04-15T13:29:03.039769Z",
     "shell.execute_reply.started": "2023-04-15T13:29:03.015519Z"
    }
   },
   "outputs": [
    {
     "data": {
      "text/plain": [
       "Canberra            3436\n",
       "Sydney              3344\n",
       "Hobart              3193\n",
       "Darwin              3193\n",
       "Brisbane            3193\n",
       "Perth               3193\n",
       "Adelaide            3193\n",
       "Melbourne           3193\n",
       "Albany              3040\n",
       "MountGinini         3040\n",
       "Townsville          3040\n",
       "MountGambier        3040\n",
       "GoldCoast           3040\n",
       "Launceston          3040\n",
       "AliceSprings        3040\n",
       "Ballarat            3040\n",
       "Albury              3040\n",
       "Wollongong          3040\n",
       "Cairns              3040\n",
       "Bendigo             3040\n",
       "Newcastle           3039\n",
       "Tuggeranong         3039\n",
       "Penrith             3039\n",
       "Nuriootpa           3009\n",
       "Portland            3009\n",
       "Moree               3009\n",
       "Mildura             3009\n",
       "NorfolkIsland       3009\n",
       "Richmond            3009\n",
       "MelbourneAirport    3009\n",
       "Woomera             3009\n",
       "Cobar               3009\n",
       "Watsonia            3009\n",
       "WaggaWagga          3009\n",
       "PerthAirport        3009\n",
       "BadgerysCreek       3009\n",
       "SydneyAirport       3009\n",
       "PearceRAAF          3009\n",
       "CoffsHarbour        3009\n",
       "Witchcliffe         3009\n",
       "Sale                3009\n",
       "Dartmoor            3009\n",
       "Williamtown         3009\n",
       "Walpole             3006\n",
       "NorahHead           3004\n",
       "SalmonGums          3001\n",
       "Nhil                1578\n",
       "Uluru               1578\n",
       "Katherine           1578\n",
       "Name: Location, dtype: int64"
      ]
     },
     "execution_count": 27,
     "metadata": {},
     "output_type": "execute_result"
    }
   ],
   "source": [
    "# check frequency distribution of values in Location variable\n",
    "\n",
    "df.Location.value_counts()"
   ]
  },
  {
   "cell_type": "code",
   "execution_count": 28,
   "metadata": {
    "execution": {
     "iopub.execute_input": "2023-04-15T13:29:03.043599Z",
     "iopub.status.busy": "2023-04-15T13:29:03.042777Z",
     "iopub.status.idle": "2023-04-15T13:29:03.094864Z",
     "shell.execute_reply": "2023-04-15T13:29:03.093190Z",
     "shell.execute_reply.started": "2023-04-15T13:29:03.043397Z"
    }
   },
   "outputs": [
    {
     "data": {
      "text/html": [
       "<div>\n",
       "<style scoped>\n",
       "    .dataframe tbody tr th:only-of-type {\n",
       "        vertical-align: middle;\n",
       "    }\n",
       "\n",
       "    .dataframe tbody tr th {\n",
       "        vertical-align: top;\n",
       "    }\n",
       "\n",
       "    .dataframe thead th {\n",
       "        text-align: right;\n",
       "    }\n",
       "</style>\n",
       "<table border=\"1\" class=\"dataframe\">\n",
       "  <thead>\n",
       "    <tr style=\"text-align: right;\">\n",
       "      <th></th>\n",
       "      <th>Albany</th>\n",
       "      <th>Albury</th>\n",
       "      <th>AliceSprings</th>\n",
       "      <th>BadgerysCreek</th>\n",
       "      <th>Ballarat</th>\n",
       "      <th>Bendigo</th>\n",
       "      <th>Brisbane</th>\n",
       "      <th>Cairns</th>\n",
       "      <th>Canberra</th>\n",
       "      <th>Cobar</th>\n",
       "      <th>...</th>\n",
       "      <th>Townsville</th>\n",
       "      <th>Tuggeranong</th>\n",
       "      <th>Uluru</th>\n",
       "      <th>WaggaWagga</th>\n",
       "      <th>Walpole</th>\n",
       "      <th>Watsonia</th>\n",
       "      <th>Williamtown</th>\n",
       "      <th>Witchcliffe</th>\n",
       "      <th>Wollongong</th>\n",
       "      <th>Woomera</th>\n",
       "    </tr>\n",
       "  </thead>\n",
       "  <tbody>\n",
       "    <tr>\n",
       "      <th>0</th>\n",
       "      <td>0</td>\n",
       "      <td>1</td>\n",
       "      <td>0</td>\n",
       "      <td>0</td>\n",
       "      <td>0</td>\n",
       "      <td>0</td>\n",
       "      <td>0</td>\n",
       "      <td>0</td>\n",
       "      <td>0</td>\n",
       "      <td>0</td>\n",
       "      <td>...</td>\n",
       "      <td>0</td>\n",
       "      <td>0</td>\n",
       "      <td>0</td>\n",
       "      <td>0</td>\n",
       "      <td>0</td>\n",
       "      <td>0</td>\n",
       "      <td>0</td>\n",
       "      <td>0</td>\n",
       "      <td>0</td>\n",
       "      <td>0</td>\n",
       "    </tr>\n",
       "    <tr>\n",
       "      <th>1</th>\n",
       "      <td>0</td>\n",
       "      <td>1</td>\n",
       "      <td>0</td>\n",
       "      <td>0</td>\n",
       "      <td>0</td>\n",
       "      <td>0</td>\n",
       "      <td>0</td>\n",
       "      <td>0</td>\n",
       "      <td>0</td>\n",
       "      <td>0</td>\n",
       "      <td>...</td>\n",
       "      <td>0</td>\n",
       "      <td>0</td>\n",
       "      <td>0</td>\n",
       "      <td>0</td>\n",
       "      <td>0</td>\n",
       "      <td>0</td>\n",
       "      <td>0</td>\n",
       "      <td>0</td>\n",
       "      <td>0</td>\n",
       "      <td>0</td>\n",
       "    </tr>\n",
       "    <tr>\n",
       "      <th>2</th>\n",
       "      <td>0</td>\n",
       "      <td>1</td>\n",
       "      <td>0</td>\n",
       "      <td>0</td>\n",
       "      <td>0</td>\n",
       "      <td>0</td>\n",
       "      <td>0</td>\n",
       "      <td>0</td>\n",
       "      <td>0</td>\n",
       "      <td>0</td>\n",
       "      <td>...</td>\n",
       "      <td>0</td>\n",
       "      <td>0</td>\n",
       "      <td>0</td>\n",
       "      <td>0</td>\n",
       "      <td>0</td>\n",
       "      <td>0</td>\n",
       "      <td>0</td>\n",
       "      <td>0</td>\n",
       "      <td>0</td>\n",
       "      <td>0</td>\n",
       "    </tr>\n",
       "    <tr>\n",
       "      <th>3</th>\n",
       "      <td>0</td>\n",
       "      <td>1</td>\n",
       "      <td>0</td>\n",
       "      <td>0</td>\n",
       "      <td>0</td>\n",
       "      <td>0</td>\n",
       "      <td>0</td>\n",
       "      <td>0</td>\n",
       "      <td>0</td>\n",
       "      <td>0</td>\n",
       "      <td>...</td>\n",
       "      <td>0</td>\n",
       "      <td>0</td>\n",
       "      <td>0</td>\n",
       "      <td>0</td>\n",
       "      <td>0</td>\n",
       "      <td>0</td>\n",
       "      <td>0</td>\n",
       "      <td>0</td>\n",
       "      <td>0</td>\n",
       "      <td>0</td>\n",
       "    </tr>\n",
       "    <tr>\n",
       "      <th>4</th>\n",
       "      <td>0</td>\n",
       "      <td>1</td>\n",
       "      <td>0</td>\n",
       "      <td>0</td>\n",
       "      <td>0</td>\n",
       "      <td>0</td>\n",
       "      <td>0</td>\n",
       "      <td>0</td>\n",
       "      <td>0</td>\n",
       "      <td>0</td>\n",
       "      <td>...</td>\n",
       "      <td>0</td>\n",
       "      <td>0</td>\n",
       "      <td>0</td>\n",
       "      <td>0</td>\n",
       "      <td>0</td>\n",
       "      <td>0</td>\n",
       "      <td>0</td>\n",
       "      <td>0</td>\n",
       "      <td>0</td>\n",
       "      <td>0</td>\n",
       "    </tr>\n",
       "  </tbody>\n",
       "</table>\n",
       "<p>5 rows × 48 columns</p>\n",
       "</div>"
      ],
      "text/plain": [
       "   Albany  Albury  AliceSprings  BadgerysCreek  Ballarat  Bendigo  Brisbane  \\\n",
       "0       0       1             0              0         0        0         0   \n",
       "1       0       1             0              0         0        0         0   \n",
       "2       0       1             0              0         0        0         0   \n",
       "3       0       1             0              0         0        0         0   \n",
       "4       0       1             0              0         0        0         0   \n",
       "\n",
       "   Cairns  Canberra  Cobar  ...  Townsville  Tuggeranong  Uluru  WaggaWagga  \\\n",
       "0       0         0      0  ...           0            0      0           0   \n",
       "1       0         0      0  ...           0            0      0           0   \n",
       "2       0         0      0  ...           0            0      0           0   \n",
       "3       0         0      0  ...           0            0      0           0   \n",
       "4       0         0      0  ...           0            0      0           0   \n",
       "\n",
       "   Walpole  Watsonia  Williamtown  Witchcliffe  Wollongong  Woomera  \n",
       "0        0         0            0            0           0        0  \n",
       "1        0         0            0            0           0        0  \n",
       "2        0         0            0            0           0        0  \n",
       "3        0         0            0            0           0        0  \n",
       "4        0         0            0            0           0        0  \n",
       "\n",
       "[5 rows x 48 columns]"
      ]
     },
     "execution_count": 28,
     "metadata": {},
     "output_type": "execute_result"
    }
   ],
   "source": [
    "# let's do One Hot Encoding of Location variable\n",
    "# get k-1 dummy variables after One Hot Encoding \n",
    "# preview the dataset with head() method\n",
    "\n",
    "pd.get_dummies(df.Location, drop_first=True).head()"
   ]
  },
  {
   "cell_type": "markdown",
   "metadata": {},
   "source": [
    "### Explore `WindGustDir` variable"
   ]
  },
  {
   "cell_type": "code",
   "execution_count": 29,
   "metadata": {
    "execution": {
     "iopub.execute_input": "2023-04-15T13:29:03.098216Z",
     "iopub.status.busy": "2023-04-15T13:29:03.097727Z",
     "iopub.status.idle": "2023-04-15T13:29:03.114789Z",
     "shell.execute_reply": "2023-04-15T13:29:03.113777Z",
     "shell.execute_reply.started": "2023-04-15T13:29:03.098109Z"
    }
   },
   "outputs": [
    {
     "name": "stdout",
     "output_type": "stream",
     "text": [
      "WindGustDir contains 17 labels\n"
     ]
    }
   ],
   "source": [
    "# print number of labels in WindGustDir variable\n",
    "\n",
    "print('WindGustDir contains', len(df['WindGustDir'].unique()), 'labels')"
   ]
  },
  {
   "cell_type": "code",
   "execution_count": 30,
   "metadata": {
    "execution": {
     "iopub.execute_input": "2023-04-15T13:29:03.116886Z",
     "iopub.status.busy": "2023-04-15T13:29:03.116560Z",
     "iopub.status.idle": "2023-04-15T13:29:03.141578Z",
     "shell.execute_reply": "2023-04-15T13:29:03.140225Z",
     "shell.execute_reply.started": "2023-04-15T13:29:03.116833Z"
    }
   },
   "outputs": [
    {
     "data": {
      "text/plain": [
       "array(['W', 'WNW', 'WSW', 'NE', 'NNW', 'N', 'NNE', 'SW', nan, 'ENE',\n",
       "       'SSE', 'S', 'NW', 'SE', 'ESE', 'E', 'SSW'], dtype=object)"
      ]
     },
     "execution_count": 30,
     "metadata": {},
     "output_type": "execute_result"
    }
   ],
   "source": [
    "# check labels in WindGustDir variable\n",
    "\n",
    "df['WindGustDir'].unique()"
   ]
  },
  {
   "cell_type": "code",
   "execution_count": 31,
   "metadata": {
    "execution": {
     "iopub.execute_input": "2023-04-15T13:29:03.144366Z",
     "iopub.status.busy": "2023-04-15T13:29:03.143343Z",
     "iopub.status.idle": "2023-04-15T13:29:03.176097Z",
     "shell.execute_reply": "2023-04-15T13:29:03.174788Z",
     "shell.execute_reply.started": "2023-04-15T13:29:03.143831Z"
    }
   },
   "outputs": [
    {
     "data": {
      "text/plain": [
       "W      9915\n",
       "SE     9418\n",
       "N      9313\n",
       "SSE    9216\n",
       "E      9181\n",
       "S      9168\n",
       "WSW    9069\n",
       "SW     8967\n",
       "SSW    8736\n",
       "WNW    8252\n",
       "NW     8122\n",
       "ENE    8104\n",
       "ESE    7372\n",
       "NE     7133\n",
       "NNW    6620\n",
       "NNE    6548\n",
       "Name: WindGustDir, dtype: int64"
      ]
     },
     "execution_count": 31,
     "metadata": {},
     "output_type": "execute_result"
    }
   ],
   "source": [
    "# check frequency distribution of values in WindGustDir variable\n",
    "\n",
    "df.WindGustDir.value_counts()"
   ]
  },
  {
   "cell_type": "code",
   "execution_count": 32,
   "metadata": {
    "execution": {
     "iopub.execute_input": "2023-04-15T13:29:03.191871Z",
     "iopub.status.busy": "2023-04-15T13:29:03.191374Z",
     "iopub.status.idle": "2023-04-15T13:29:03.232016Z",
     "shell.execute_reply": "2023-04-15T13:29:03.229765Z",
     "shell.execute_reply.started": "2023-04-15T13:29:03.191796Z"
    }
   },
   "outputs": [
    {
     "data": {
      "text/html": [
       "<div>\n",
       "<style scoped>\n",
       "    .dataframe tbody tr th:only-of-type {\n",
       "        vertical-align: middle;\n",
       "    }\n",
       "\n",
       "    .dataframe tbody tr th {\n",
       "        vertical-align: top;\n",
       "    }\n",
       "\n",
       "    .dataframe thead th {\n",
       "        text-align: right;\n",
       "    }\n",
       "</style>\n",
       "<table border=\"1\" class=\"dataframe\">\n",
       "  <thead>\n",
       "    <tr style=\"text-align: right;\">\n",
       "      <th></th>\n",
       "      <th>ENE</th>\n",
       "      <th>ESE</th>\n",
       "      <th>N</th>\n",
       "      <th>NE</th>\n",
       "      <th>NNE</th>\n",
       "      <th>NNW</th>\n",
       "      <th>NW</th>\n",
       "      <th>S</th>\n",
       "      <th>SE</th>\n",
       "      <th>SSE</th>\n",
       "      <th>SSW</th>\n",
       "      <th>SW</th>\n",
       "      <th>W</th>\n",
       "      <th>WNW</th>\n",
       "      <th>WSW</th>\n",
       "      <th>NaN</th>\n",
       "    </tr>\n",
       "  </thead>\n",
       "  <tbody>\n",
       "    <tr>\n",
       "      <th>0</th>\n",
       "      <td>0</td>\n",
       "      <td>0</td>\n",
       "      <td>0</td>\n",
       "      <td>0</td>\n",
       "      <td>0</td>\n",
       "      <td>0</td>\n",
       "      <td>0</td>\n",
       "      <td>0</td>\n",
       "      <td>0</td>\n",
       "      <td>0</td>\n",
       "      <td>0</td>\n",
       "      <td>0</td>\n",
       "      <td>1</td>\n",
       "      <td>0</td>\n",
       "      <td>0</td>\n",
       "      <td>0</td>\n",
       "    </tr>\n",
       "    <tr>\n",
       "      <th>1</th>\n",
       "      <td>0</td>\n",
       "      <td>0</td>\n",
       "      <td>0</td>\n",
       "      <td>0</td>\n",
       "      <td>0</td>\n",
       "      <td>0</td>\n",
       "      <td>0</td>\n",
       "      <td>0</td>\n",
       "      <td>0</td>\n",
       "      <td>0</td>\n",
       "      <td>0</td>\n",
       "      <td>0</td>\n",
       "      <td>0</td>\n",
       "      <td>1</td>\n",
       "      <td>0</td>\n",
       "      <td>0</td>\n",
       "    </tr>\n",
       "    <tr>\n",
       "      <th>2</th>\n",
       "      <td>0</td>\n",
       "      <td>0</td>\n",
       "      <td>0</td>\n",
       "      <td>0</td>\n",
       "      <td>0</td>\n",
       "      <td>0</td>\n",
       "      <td>0</td>\n",
       "      <td>0</td>\n",
       "      <td>0</td>\n",
       "      <td>0</td>\n",
       "      <td>0</td>\n",
       "      <td>0</td>\n",
       "      <td>0</td>\n",
       "      <td>0</td>\n",
       "      <td>1</td>\n",
       "      <td>0</td>\n",
       "    </tr>\n",
       "    <tr>\n",
       "      <th>3</th>\n",
       "      <td>0</td>\n",
       "      <td>0</td>\n",
       "      <td>0</td>\n",
       "      <td>1</td>\n",
       "      <td>0</td>\n",
       "      <td>0</td>\n",
       "      <td>0</td>\n",
       "      <td>0</td>\n",
       "      <td>0</td>\n",
       "      <td>0</td>\n",
       "      <td>0</td>\n",
       "      <td>0</td>\n",
       "      <td>0</td>\n",
       "      <td>0</td>\n",
       "      <td>0</td>\n",
       "      <td>0</td>\n",
       "    </tr>\n",
       "    <tr>\n",
       "      <th>4</th>\n",
       "      <td>0</td>\n",
       "      <td>0</td>\n",
       "      <td>0</td>\n",
       "      <td>0</td>\n",
       "      <td>0</td>\n",
       "      <td>0</td>\n",
       "      <td>0</td>\n",
       "      <td>0</td>\n",
       "      <td>0</td>\n",
       "      <td>0</td>\n",
       "      <td>0</td>\n",
       "      <td>0</td>\n",
       "      <td>1</td>\n",
       "      <td>0</td>\n",
       "      <td>0</td>\n",
       "      <td>0</td>\n",
       "    </tr>\n",
       "  </tbody>\n",
       "</table>\n",
       "</div>"
      ],
      "text/plain": [
       "   ENE  ESE  N  NE  NNE  NNW  NW  S  SE  SSE  SSW  SW  W  WNW  WSW  NaN\n",
       "0    0    0  0   0    0    0   0  0   0    0    0   0  1    0    0    0\n",
       "1    0    0  0   0    0    0   0  0   0    0    0   0  0    1    0    0\n",
       "2    0    0  0   0    0    0   0  0   0    0    0   0  0    0    1    0\n",
       "3    0    0  0   1    0    0   0  0   0    0    0   0  0    0    0    0\n",
       "4    0    0  0   0    0    0   0  0   0    0    0   0  1    0    0    0"
      ]
     },
     "execution_count": 32,
     "metadata": {},
     "output_type": "execute_result"
    }
   ],
   "source": [
    "# let's do One Hot Encoding of WindGustDir variable\n",
    "# get k-1 dummy variables after One Hot Encoding \n",
    "# also add an additional dummy variable to indicate there was missing data\n",
    "# preview the dataset with head() method\n",
    "\n",
    "pd.get_dummies(df.WindGustDir, drop_first=True, dummy_na=True).head()"
   ]
  },
  {
   "cell_type": "code",
   "execution_count": 33,
   "metadata": {
    "execution": {
     "iopub.execute_input": "2023-04-15T13:29:03.236500Z",
     "iopub.status.busy": "2023-04-15T13:29:03.236034Z",
     "iopub.status.idle": "2023-04-15T13:29:03.271088Z",
     "shell.execute_reply": "2023-04-15T13:29:03.269242Z",
     "shell.execute_reply.started": "2023-04-15T13:29:03.236422Z"
    }
   },
   "outputs": [
    {
     "data": {
      "text/plain": [
       "ENE     8104\n",
       "ESE     7372\n",
       "N       9313\n",
       "NE      7133\n",
       "NNE     6548\n",
       "NNW     6620\n",
       "NW      8122\n",
       "S       9168\n",
       "SE      9418\n",
       "SSE     9216\n",
       "SSW     8736\n",
       "SW      8967\n",
       "W       9915\n",
       "WNW     8252\n",
       "WSW     9069\n",
       "NaN    10326\n",
       "dtype: int64"
      ]
     },
     "execution_count": 33,
     "metadata": {},
     "output_type": "execute_result"
    }
   ],
   "source": [
    "# sum the number of 1s per boolean variable over the rows of the dataset\n",
    "# it will tell us how many observations we have for each category\n",
    "\n",
    "pd.get_dummies(df.WindGustDir, drop_first=True, dummy_na=True).sum(axis=0)"
   ]
  },
  {
   "cell_type": "markdown",
   "metadata": {},
   "source": [
    "We can see that there are 9330 missing values in WindGustDir variable."
   ]
  },
  {
   "cell_type": "markdown",
   "metadata": {},
   "source": [
    "### Explore `WindDir9am` variable"
   ]
  },
  {
   "cell_type": "code",
   "execution_count": 34,
   "metadata": {
    "execution": {
     "iopub.execute_input": "2023-04-15T13:29:03.273067Z",
     "iopub.status.busy": "2023-04-15T13:29:03.272571Z",
     "iopub.status.idle": "2023-04-15T13:29:03.291195Z",
     "shell.execute_reply": "2023-04-15T13:29:03.289682Z",
     "shell.execute_reply.started": "2023-04-15T13:29:03.273018Z"
    }
   },
   "outputs": [
    {
     "name": "stdout",
     "output_type": "stream",
     "text": [
      "WindDir9am contains 17 labels\n"
     ]
    }
   ],
   "source": [
    "# print number of labels in WindDir9am variable\n",
    "\n",
    "print('WindDir9am contains', len(df['WindDir9am'].unique()), 'labels')"
   ]
  },
  {
   "cell_type": "code",
   "execution_count": 35,
   "metadata": {
    "execution": {
     "iopub.execute_input": "2023-04-15T13:29:03.294319Z",
     "iopub.status.busy": "2023-04-15T13:29:03.293832Z",
     "iopub.status.idle": "2023-04-15T13:29:03.311462Z",
     "shell.execute_reply": "2023-04-15T13:29:03.310076Z",
     "shell.execute_reply.started": "2023-04-15T13:29:03.294253Z"
    }
   },
   "outputs": [
    {
     "data": {
      "text/plain": [
       "array(['W', 'NNW', 'SE', 'ENE', 'SW', 'SSE', 'S', 'NE', nan, 'SSW', 'N',\n",
       "       'WSW', 'ESE', 'E', 'NW', 'WNW', 'NNE'], dtype=object)"
      ]
     },
     "execution_count": 35,
     "metadata": {},
     "output_type": "execute_result"
    }
   ],
   "source": [
    "# check labels in WindDir9am variable\n",
    "\n",
    "df['WindDir9am'].unique()"
   ]
  },
  {
   "cell_type": "code",
   "execution_count": 36,
   "metadata": {
    "execution": {
     "iopub.execute_input": "2023-04-15T13:29:03.313761Z",
     "iopub.status.busy": "2023-04-15T13:29:03.313371Z",
     "iopub.status.idle": "2023-04-15T13:29:03.344797Z",
     "shell.execute_reply": "2023-04-15T13:29:03.342383Z",
     "shell.execute_reply.started": "2023-04-15T13:29:03.313688Z"
    }
   },
   "outputs": [
    {
     "data": {
      "text/plain": [
       "N      11758\n",
       "SE      9287\n",
       "E       9176\n",
       "SSE     9112\n",
       "NW      8749\n",
       "S       8659\n",
       "W       8459\n",
       "SW      8423\n",
       "NNE     8129\n",
       "NNW     7980\n",
       "ENE     7836\n",
       "NE      7671\n",
       "ESE     7630\n",
       "SSW     7587\n",
       "WNW     7414\n",
       "WSW     7024\n",
       "Name: WindDir9am, dtype: int64"
      ]
     },
     "execution_count": 36,
     "metadata": {},
     "output_type": "execute_result"
    }
   ],
   "source": [
    "# check frequency distribution of values in WindDir9am variable\n",
    "\n",
    "df['WindDir9am'].value_counts()"
   ]
  },
  {
   "cell_type": "code",
   "execution_count": 37,
   "metadata": {
    "execution": {
     "iopub.execute_input": "2023-04-15T13:29:03.346384Z",
     "iopub.status.busy": "2023-04-15T13:29:03.346084Z",
     "iopub.status.idle": "2023-04-15T13:29:03.381213Z",
     "shell.execute_reply": "2023-04-15T13:29:03.380196Z",
     "shell.execute_reply.started": "2023-04-15T13:29:03.346339Z"
    }
   },
   "outputs": [
    {
     "data": {
      "text/html": [
       "<div>\n",
       "<style scoped>\n",
       "    .dataframe tbody tr th:only-of-type {\n",
       "        vertical-align: middle;\n",
       "    }\n",
       "\n",
       "    .dataframe tbody tr th {\n",
       "        vertical-align: top;\n",
       "    }\n",
       "\n",
       "    .dataframe thead th {\n",
       "        text-align: right;\n",
       "    }\n",
       "</style>\n",
       "<table border=\"1\" class=\"dataframe\">\n",
       "  <thead>\n",
       "    <tr style=\"text-align: right;\">\n",
       "      <th></th>\n",
       "      <th>ENE</th>\n",
       "      <th>ESE</th>\n",
       "      <th>N</th>\n",
       "      <th>NE</th>\n",
       "      <th>NNE</th>\n",
       "      <th>NNW</th>\n",
       "      <th>NW</th>\n",
       "      <th>S</th>\n",
       "      <th>SE</th>\n",
       "      <th>SSE</th>\n",
       "      <th>SSW</th>\n",
       "      <th>SW</th>\n",
       "      <th>W</th>\n",
       "      <th>WNW</th>\n",
       "      <th>WSW</th>\n",
       "      <th>NaN</th>\n",
       "    </tr>\n",
       "  </thead>\n",
       "  <tbody>\n",
       "    <tr>\n",
       "      <th>0</th>\n",
       "      <td>0</td>\n",
       "      <td>0</td>\n",
       "      <td>0</td>\n",
       "      <td>0</td>\n",
       "      <td>0</td>\n",
       "      <td>0</td>\n",
       "      <td>0</td>\n",
       "      <td>0</td>\n",
       "      <td>0</td>\n",
       "      <td>0</td>\n",
       "      <td>0</td>\n",
       "      <td>0</td>\n",
       "      <td>1</td>\n",
       "      <td>0</td>\n",
       "      <td>0</td>\n",
       "      <td>0</td>\n",
       "    </tr>\n",
       "    <tr>\n",
       "      <th>1</th>\n",
       "      <td>0</td>\n",
       "      <td>0</td>\n",
       "      <td>0</td>\n",
       "      <td>0</td>\n",
       "      <td>0</td>\n",
       "      <td>1</td>\n",
       "      <td>0</td>\n",
       "      <td>0</td>\n",
       "      <td>0</td>\n",
       "      <td>0</td>\n",
       "      <td>0</td>\n",
       "      <td>0</td>\n",
       "      <td>0</td>\n",
       "      <td>0</td>\n",
       "      <td>0</td>\n",
       "      <td>0</td>\n",
       "    </tr>\n",
       "    <tr>\n",
       "      <th>2</th>\n",
       "      <td>0</td>\n",
       "      <td>0</td>\n",
       "      <td>0</td>\n",
       "      <td>0</td>\n",
       "      <td>0</td>\n",
       "      <td>0</td>\n",
       "      <td>0</td>\n",
       "      <td>0</td>\n",
       "      <td>0</td>\n",
       "      <td>0</td>\n",
       "      <td>0</td>\n",
       "      <td>0</td>\n",
       "      <td>1</td>\n",
       "      <td>0</td>\n",
       "      <td>0</td>\n",
       "      <td>0</td>\n",
       "    </tr>\n",
       "    <tr>\n",
       "      <th>3</th>\n",
       "      <td>0</td>\n",
       "      <td>0</td>\n",
       "      <td>0</td>\n",
       "      <td>0</td>\n",
       "      <td>0</td>\n",
       "      <td>0</td>\n",
       "      <td>0</td>\n",
       "      <td>0</td>\n",
       "      <td>1</td>\n",
       "      <td>0</td>\n",
       "      <td>0</td>\n",
       "      <td>0</td>\n",
       "      <td>0</td>\n",
       "      <td>0</td>\n",
       "      <td>0</td>\n",
       "      <td>0</td>\n",
       "    </tr>\n",
       "    <tr>\n",
       "      <th>4</th>\n",
       "      <td>1</td>\n",
       "      <td>0</td>\n",
       "      <td>0</td>\n",
       "      <td>0</td>\n",
       "      <td>0</td>\n",
       "      <td>0</td>\n",
       "      <td>0</td>\n",
       "      <td>0</td>\n",
       "      <td>0</td>\n",
       "      <td>0</td>\n",
       "      <td>0</td>\n",
       "      <td>0</td>\n",
       "      <td>0</td>\n",
       "      <td>0</td>\n",
       "      <td>0</td>\n",
       "      <td>0</td>\n",
       "    </tr>\n",
       "  </tbody>\n",
       "</table>\n",
       "</div>"
      ],
      "text/plain": [
       "   ENE  ESE  N  NE  NNE  NNW  NW  S  SE  SSE  SSW  SW  W  WNW  WSW  NaN\n",
       "0    0    0  0   0    0    0   0  0   0    0    0   0  1    0    0    0\n",
       "1    0    0  0   0    0    1   0  0   0    0    0   0  0    0    0    0\n",
       "2    0    0  0   0    0    0   0  0   0    0    0   0  1    0    0    0\n",
       "3    0    0  0   0    0    0   0  0   1    0    0   0  0    0    0    0\n",
       "4    1    0  0   0    0    0   0  0   0    0    0   0  0    0    0    0"
      ]
     },
     "execution_count": 37,
     "metadata": {},
     "output_type": "execute_result"
    }
   ],
   "source": [
    "# let's do One Hot Encoding of WindDir9am variable\n",
    "# get k-1 dummy variables after One Hot Encoding \n",
    "# also add an additional dummy variable to indicate there was missing data\n",
    "# preview the dataset with head() method\n",
    "\n",
    "pd.get_dummies(df.WindDir9am, drop_first=True, dummy_na=True).head()"
   ]
  },
  {
   "cell_type": "code",
   "execution_count": 38,
   "metadata": {
    "execution": {
     "iopub.execute_input": "2023-04-15T13:29:03.382738Z",
     "iopub.status.busy": "2023-04-15T13:29:03.382387Z",
     "iopub.status.idle": "2023-04-15T13:29:03.417492Z",
     "shell.execute_reply": "2023-04-15T13:29:03.416535Z",
     "shell.execute_reply.started": "2023-04-15T13:29:03.382675Z"
    }
   },
   "outputs": [
    {
     "data": {
      "text/plain": [
       "ENE     7836\n",
       "ESE     7630\n",
       "N      11758\n",
       "NE      7671\n",
       "NNE     8129\n",
       "NNW     7980\n",
       "NW      8749\n",
       "S       8659\n",
       "SE      9287\n",
       "SSE     9112\n",
       "SSW     7587\n",
       "SW      8423\n",
       "W       8459\n",
       "WNW     7414\n",
       "WSW     7024\n",
       "NaN    10566\n",
       "dtype: int64"
      ]
     },
     "execution_count": 38,
     "metadata": {},
     "output_type": "execute_result"
    }
   ],
   "source": [
    "# sum the number of 1s per boolean variable over the rows of the dataset\n",
    "# it will tell us how many observations we have for each category\n",
    "\n",
    "pd.get_dummies(df.WindDir9am, drop_first=True, dummy_na=True).sum(axis=0)"
   ]
  },
  {
   "cell_type": "markdown",
   "metadata": {},
   "source": [
    "We can see that there are 10013 missing values in the `WindDir9am` variable."
   ]
  },
  {
   "cell_type": "markdown",
   "metadata": {},
   "source": [
    "### Explore `WindDir3pm` variable"
   ]
  },
  {
   "cell_type": "code",
   "execution_count": 39,
   "metadata": {
    "execution": {
     "iopub.execute_input": "2023-04-15T13:29:03.418910Z",
     "iopub.status.busy": "2023-04-15T13:29:03.418627Z",
     "iopub.status.idle": "2023-04-15T13:29:03.433358Z",
     "shell.execute_reply": "2023-04-15T13:29:03.432210Z",
     "shell.execute_reply.started": "2023-04-15T13:29:03.418868Z"
    }
   },
   "outputs": [
    {
     "name": "stdout",
     "output_type": "stream",
     "text": [
      "WindDir3pm contains 17 labels\n"
     ]
    }
   ],
   "source": [
    "# print number of labels in WindDir3pm variable\n",
    "\n",
    "print('WindDir3pm contains', len(df['WindDir3pm'].unique()), 'labels')"
   ]
  },
  {
   "cell_type": "code",
   "execution_count": 40,
   "metadata": {
    "execution": {
     "iopub.execute_input": "2023-04-15T13:29:03.435173Z",
     "iopub.status.busy": "2023-04-15T13:29:03.434831Z",
     "iopub.status.idle": "2023-04-15T13:29:03.459623Z",
     "shell.execute_reply": "2023-04-15T13:29:03.457726Z",
     "shell.execute_reply.started": "2023-04-15T13:29:03.435098Z"
    }
   },
   "outputs": [
    {
     "data": {
      "text/plain": [
       "array(['WNW', 'WSW', 'E', 'NW', 'W', 'SSE', 'ESE', 'ENE', 'NNW', 'SSW',\n",
       "       'SW', 'SE', 'N', 'S', 'NNE', nan, 'NE'], dtype=object)"
      ]
     },
     "execution_count": 40,
     "metadata": {},
     "output_type": "execute_result"
    }
   ],
   "source": [
    "# check labels in WindDir3pm variable\n",
    "\n",
    "df['WindDir3pm'].unique()"
   ]
  },
  {
   "cell_type": "code",
   "execution_count": 41,
   "metadata": {
    "execution": {
     "iopub.execute_input": "2023-04-15T13:29:03.461962Z",
     "iopub.status.busy": "2023-04-15T13:29:03.461571Z",
     "iopub.status.idle": "2023-04-15T13:29:03.496738Z",
     "shell.execute_reply": "2023-04-15T13:29:03.494558Z",
     "shell.execute_reply.started": "2023-04-15T13:29:03.461894Z"
    }
   },
   "outputs": [
    {
     "data": {
      "text/plain": [
       "SE     10838\n",
       "W      10110\n",
       "S       9926\n",
       "WSW     9518\n",
       "SSE     9399\n",
       "SW      9354\n",
       "N       8890\n",
       "WNW     8874\n",
       "NW      8610\n",
       "ESE     8505\n",
       "E       8472\n",
       "NE      8263\n",
       "SSW     8156\n",
       "NNW     7870\n",
       "ENE     7857\n",
       "NNE     6590\n",
       "Name: WindDir3pm, dtype: int64"
      ]
     },
     "execution_count": 41,
     "metadata": {},
     "output_type": "execute_result"
    }
   ],
   "source": [
    "# check frequency distribution of values in WindDir3pm variable\n",
    "\n",
    "df['WindDir3pm'].value_counts()"
   ]
  },
  {
   "cell_type": "code",
   "execution_count": 42,
   "metadata": {
    "execution": {
     "iopub.execute_input": "2023-04-15T13:29:03.498998Z",
     "iopub.status.busy": "2023-04-15T13:29:03.498629Z",
     "iopub.status.idle": "2023-04-15T13:29:03.537455Z",
     "shell.execute_reply": "2023-04-15T13:29:03.535752Z",
     "shell.execute_reply.started": "2023-04-15T13:29:03.498931Z"
    }
   },
   "outputs": [
    {
     "data": {
      "text/html": [
       "<div>\n",
       "<style scoped>\n",
       "    .dataframe tbody tr th:only-of-type {\n",
       "        vertical-align: middle;\n",
       "    }\n",
       "\n",
       "    .dataframe tbody tr th {\n",
       "        vertical-align: top;\n",
       "    }\n",
       "\n",
       "    .dataframe thead th {\n",
       "        text-align: right;\n",
       "    }\n",
       "</style>\n",
       "<table border=\"1\" class=\"dataframe\">\n",
       "  <thead>\n",
       "    <tr style=\"text-align: right;\">\n",
       "      <th></th>\n",
       "      <th>ENE</th>\n",
       "      <th>ESE</th>\n",
       "      <th>N</th>\n",
       "      <th>NE</th>\n",
       "      <th>NNE</th>\n",
       "      <th>NNW</th>\n",
       "      <th>NW</th>\n",
       "      <th>S</th>\n",
       "      <th>SE</th>\n",
       "      <th>SSE</th>\n",
       "      <th>SSW</th>\n",
       "      <th>SW</th>\n",
       "      <th>W</th>\n",
       "      <th>WNW</th>\n",
       "      <th>WSW</th>\n",
       "      <th>NaN</th>\n",
       "    </tr>\n",
       "  </thead>\n",
       "  <tbody>\n",
       "    <tr>\n",
       "      <th>0</th>\n",
       "      <td>0</td>\n",
       "      <td>0</td>\n",
       "      <td>0</td>\n",
       "      <td>0</td>\n",
       "      <td>0</td>\n",
       "      <td>0</td>\n",
       "      <td>0</td>\n",
       "      <td>0</td>\n",
       "      <td>0</td>\n",
       "      <td>0</td>\n",
       "      <td>0</td>\n",
       "      <td>0</td>\n",
       "      <td>0</td>\n",
       "      <td>1</td>\n",
       "      <td>0</td>\n",
       "      <td>0</td>\n",
       "    </tr>\n",
       "    <tr>\n",
       "      <th>1</th>\n",
       "      <td>0</td>\n",
       "      <td>0</td>\n",
       "      <td>0</td>\n",
       "      <td>0</td>\n",
       "      <td>0</td>\n",
       "      <td>0</td>\n",
       "      <td>0</td>\n",
       "      <td>0</td>\n",
       "      <td>0</td>\n",
       "      <td>0</td>\n",
       "      <td>0</td>\n",
       "      <td>0</td>\n",
       "      <td>0</td>\n",
       "      <td>0</td>\n",
       "      <td>1</td>\n",
       "      <td>0</td>\n",
       "    </tr>\n",
       "    <tr>\n",
       "      <th>2</th>\n",
       "      <td>0</td>\n",
       "      <td>0</td>\n",
       "      <td>0</td>\n",
       "      <td>0</td>\n",
       "      <td>0</td>\n",
       "      <td>0</td>\n",
       "      <td>0</td>\n",
       "      <td>0</td>\n",
       "      <td>0</td>\n",
       "      <td>0</td>\n",
       "      <td>0</td>\n",
       "      <td>0</td>\n",
       "      <td>0</td>\n",
       "      <td>0</td>\n",
       "      <td>1</td>\n",
       "      <td>0</td>\n",
       "    </tr>\n",
       "    <tr>\n",
       "      <th>3</th>\n",
       "      <td>0</td>\n",
       "      <td>0</td>\n",
       "      <td>0</td>\n",
       "      <td>0</td>\n",
       "      <td>0</td>\n",
       "      <td>0</td>\n",
       "      <td>0</td>\n",
       "      <td>0</td>\n",
       "      <td>0</td>\n",
       "      <td>0</td>\n",
       "      <td>0</td>\n",
       "      <td>0</td>\n",
       "      <td>0</td>\n",
       "      <td>0</td>\n",
       "      <td>0</td>\n",
       "      <td>0</td>\n",
       "    </tr>\n",
       "    <tr>\n",
       "      <th>4</th>\n",
       "      <td>0</td>\n",
       "      <td>0</td>\n",
       "      <td>0</td>\n",
       "      <td>0</td>\n",
       "      <td>0</td>\n",
       "      <td>0</td>\n",
       "      <td>1</td>\n",
       "      <td>0</td>\n",
       "      <td>0</td>\n",
       "      <td>0</td>\n",
       "      <td>0</td>\n",
       "      <td>0</td>\n",
       "      <td>0</td>\n",
       "      <td>0</td>\n",
       "      <td>0</td>\n",
       "      <td>0</td>\n",
       "    </tr>\n",
       "  </tbody>\n",
       "</table>\n",
       "</div>"
      ],
      "text/plain": [
       "   ENE  ESE  N  NE  NNE  NNW  NW  S  SE  SSE  SSW  SW  W  WNW  WSW  NaN\n",
       "0    0    0  0   0    0    0   0  0   0    0    0   0  0    1    0    0\n",
       "1    0    0  0   0    0    0   0  0   0    0    0   0  0    0    1    0\n",
       "2    0    0  0   0    0    0   0  0   0    0    0   0  0    0    1    0\n",
       "3    0    0  0   0    0    0   0  0   0    0    0   0  0    0    0    0\n",
       "4    0    0  0   0    0    0   1  0   0    0    0   0  0    0    0    0"
      ]
     },
     "execution_count": 42,
     "metadata": {},
     "output_type": "execute_result"
    }
   ],
   "source": [
    "# let's do One Hot Encoding of WindDir3pm variable\n",
    "# get k-1 dummy variables after One Hot Encoding \n",
    "# also add an additional dummy variable to indicate there was missing data\n",
    "# preview the dataset with head() method\n",
    "\n",
    "pd.get_dummies(df.WindDir3pm, drop_first=True, dummy_na=True).head()"
   ]
  },
  {
   "cell_type": "code",
   "execution_count": 43,
   "metadata": {
    "execution": {
     "iopub.execute_input": "2023-04-15T13:29:03.539804Z",
     "iopub.status.busy": "2023-04-15T13:29:03.539389Z",
     "iopub.status.idle": "2023-04-15T13:29:03.575550Z",
     "shell.execute_reply": "2023-04-15T13:29:03.573659Z",
     "shell.execute_reply.started": "2023-04-15T13:29:03.539732Z"
    }
   },
   "outputs": [
    {
     "data": {
      "text/plain": [
       "ENE     7857\n",
       "ESE     8505\n",
       "N       8890\n",
       "NE      8263\n",
       "NNE     6590\n",
       "NNW     7870\n",
       "NW      8610\n",
       "S       9926\n",
       "SE     10838\n",
       "SSE     9399\n",
       "SSW     8156\n",
       "SW      9354\n",
       "W      10110\n",
       "WNW     8874\n",
       "WSW     9518\n",
       "NaN     4228\n",
       "dtype: int64"
      ]
     },
     "execution_count": 43,
     "metadata": {},
     "output_type": "execute_result"
    }
   ],
   "source": [
    "# sum the number of 1s per boolean variable over the rows of the dataset\n",
    "# it will tell us how many observations we have for each category\n",
    "\n",
    "pd.get_dummies(df.WindDir3pm, drop_first=True, dummy_na=True).sum(axis=0)"
   ]
  },
  {
   "cell_type": "markdown",
   "metadata": {},
   "source": [
    "There are 3778 missing values in the `WindDir3pm` variable."
   ]
  },
  {
   "cell_type": "markdown",
   "metadata": {},
   "source": [
    "### Explore `RainToday` variable"
   ]
  },
  {
   "cell_type": "code",
   "execution_count": 44,
   "metadata": {
    "execution": {
     "iopub.execute_input": "2023-04-15T13:29:03.578045Z",
     "iopub.status.busy": "2023-04-15T13:29:03.577622Z",
     "iopub.status.idle": "2023-04-15T13:29:03.594267Z",
     "shell.execute_reply": "2023-04-15T13:29:03.592368Z",
     "shell.execute_reply.started": "2023-04-15T13:29:03.577984Z"
    }
   },
   "outputs": [
    {
     "name": "stdout",
     "output_type": "stream",
     "text": [
      "RainToday contains 3 labels\n"
     ]
    }
   ],
   "source": [
    "# print number of labels in RainToday variable\n",
    "\n",
    "print('RainToday contains', len(df['RainToday'].unique()), 'labels')"
   ]
  },
  {
   "cell_type": "code",
   "execution_count": 45,
   "metadata": {
    "execution": {
     "iopub.execute_input": "2023-04-15T13:29:03.596661Z",
     "iopub.status.busy": "2023-04-15T13:29:03.596232Z",
     "iopub.status.idle": "2023-04-15T13:29:03.617905Z",
     "shell.execute_reply": "2023-04-15T13:29:03.616763Z",
     "shell.execute_reply.started": "2023-04-15T13:29:03.596581Z"
    }
   },
   "outputs": [
    {
     "data": {
      "text/plain": [
       "array(['No', 'Yes', nan], dtype=object)"
      ]
     },
     "execution_count": 45,
     "metadata": {},
     "output_type": "execute_result"
    }
   ],
   "source": [
    "# check labels in WindGustDir variable\n",
    "\n",
    "df['RainToday'].unique()"
   ]
  },
  {
   "cell_type": "code",
   "execution_count": 46,
   "metadata": {
    "execution": {
     "iopub.execute_input": "2023-04-15T13:29:03.620092Z",
     "iopub.status.busy": "2023-04-15T13:29:03.619679Z",
     "iopub.status.idle": "2023-04-15T13:29:03.650973Z",
     "shell.execute_reply": "2023-04-15T13:29:03.649892Z",
     "shell.execute_reply.started": "2023-04-15T13:29:03.620008Z"
    }
   },
   "outputs": [
    {
     "data": {
      "text/plain": [
       "No     110319\n",
       "Yes     31880\n",
       "Name: RainToday, dtype: int64"
      ]
     },
     "execution_count": 46,
     "metadata": {},
     "output_type": "execute_result"
    }
   ],
   "source": [
    "# check frequency distribution of values in WindGustDir variable\n",
    "\n",
    "df.RainToday.value_counts()"
   ]
  },
  {
   "cell_type": "code",
   "execution_count": 47,
   "metadata": {
    "execution": {
     "iopub.execute_input": "2023-04-15T13:29:03.653411Z",
     "iopub.status.busy": "2023-04-15T13:29:03.652873Z",
     "iopub.status.idle": "2023-04-15T13:29:03.682565Z",
     "shell.execute_reply": "2023-04-15T13:29:03.681020Z",
     "shell.execute_reply.started": "2023-04-15T13:29:03.653275Z"
    }
   },
   "outputs": [
    {
     "data": {
      "text/html": [
       "<div>\n",
       "<style scoped>\n",
       "    .dataframe tbody tr th:only-of-type {\n",
       "        vertical-align: middle;\n",
       "    }\n",
       "\n",
       "    .dataframe tbody tr th {\n",
       "        vertical-align: top;\n",
       "    }\n",
       "\n",
       "    .dataframe thead th {\n",
       "        text-align: right;\n",
       "    }\n",
       "</style>\n",
       "<table border=\"1\" class=\"dataframe\">\n",
       "  <thead>\n",
       "    <tr style=\"text-align: right;\">\n",
       "      <th></th>\n",
       "      <th>Yes</th>\n",
       "      <th>NaN</th>\n",
       "    </tr>\n",
       "  </thead>\n",
       "  <tbody>\n",
       "    <tr>\n",
       "      <th>0</th>\n",
       "      <td>0</td>\n",
       "      <td>0</td>\n",
       "    </tr>\n",
       "    <tr>\n",
       "      <th>1</th>\n",
       "      <td>0</td>\n",
       "      <td>0</td>\n",
       "    </tr>\n",
       "    <tr>\n",
       "      <th>2</th>\n",
       "      <td>0</td>\n",
       "      <td>0</td>\n",
       "    </tr>\n",
       "    <tr>\n",
       "      <th>3</th>\n",
       "      <td>0</td>\n",
       "      <td>0</td>\n",
       "    </tr>\n",
       "    <tr>\n",
       "      <th>4</th>\n",
       "      <td>0</td>\n",
       "      <td>0</td>\n",
       "    </tr>\n",
       "  </tbody>\n",
       "</table>\n",
       "</div>"
      ],
      "text/plain": [
       "   Yes  NaN\n",
       "0    0    0\n",
       "1    0    0\n",
       "2    0    0\n",
       "3    0    0\n",
       "4    0    0"
      ]
     },
     "execution_count": 47,
     "metadata": {},
     "output_type": "execute_result"
    }
   ],
   "source": [
    "# let's do One Hot Encoding of RainToday variable\n",
    "# get k-1 dummy variables after One Hot Encoding \n",
    "# also add an additional dummy variable to indicate there was missing data\n",
    "# preview the dataset with head() method\n",
    "\n",
    "pd.get_dummies(df.RainToday, drop_first=True, dummy_na=True).head()"
   ]
  },
  {
   "cell_type": "code",
   "execution_count": 48,
   "metadata": {
    "execution": {
     "iopub.execute_input": "2023-04-15T13:29:03.684986Z",
     "iopub.status.busy": "2023-04-15T13:29:03.684227Z",
     "iopub.status.idle": "2023-04-15T13:29:03.715705Z",
     "shell.execute_reply": "2023-04-15T13:29:03.713491Z",
     "shell.execute_reply.started": "2023-04-15T13:29:03.684888Z"
    }
   },
   "outputs": [
    {
     "data": {
      "text/plain": [
       "Yes    31880\n",
       "NaN     3261\n",
       "dtype: int64"
      ]
     },
     "execution_count": 48,
     "metadata": {},
     "output_type": "execute_result"
    }
   ],
   "source": [
    "# sum the number of 1s per boolean variable over the rows of the dataset\n",
    "# it will tell us how many observations we have for each category\n",
    "\n",
    "pd.get_dummies(df.RainToday, drop_first=True, dummy_na=True).sum(axis=0)"
   ]
  },
  {
   "cell_type": "markdown",
   "metadata": {},
   "source": [
    "There are 1406 missing values in the `RainToday` variable."
   ]
  },
  {
   "cell_type": "markdown",
   "metadata": {},
   "source": [
    "### Explore Numerical Variables"
   ]
  },
  {
   "cell_type": "code",
   "execution_count": 49,
   "metadata": {
    "execution": {
     "iopub.execute_input": "2023-04-15T13:29:03.718056Z",
     "iopub.status.busy": "2023-04-15T13:29:03.717575Z",
     "iopub.status.idle": "2023-04-15T13:29:03.727415Z",
     "shell.execute_reply": "2023-04-15T13:29:03.725477Z",
     "shell.execute_reply.started": "2023-04-15T13:29:03.717978Z"
    }
   },
   "outputs": [
    {
     "name": "stdout",
     "output_type": "stream",
     "text": [
      "There are 19 numerical variables\n",
      "\n",
      "The numerical variables are : ['MinTemp', 'MaxTemp', 'Rainfall', 'Evaporation', 'Sunshine', 'WindGustSpeed', 'WindSpeed9am', 'WindSpeed3pm', 'Humidity9am', 'Humidity3pm', 'Pressure9am', 'Pressure3pm', 'Cloud9am', 'Cloud3pm', 'Temp9am', 'Temp3pm', 'Year', 'Month', 'Day']\n"
     ]
    }
   ],
   "source": [
    "# find numerical variables\n",
    "\n",
    "numerical = [var for var in df.columns if df[var].dtype!='O']\n",
    "\n",
    "print('There are {} numerical variables\\n'.format(len(numerical)))\n",
    "\n",
    "print('The numerical variables are :', numerical)"
   ]
  },
  {
   "cell_type": "code",
   "execution_count": 50,
   "metadata": {
    "execution": {
     "iopub.execute_input": "2023-04-15T13:29:03.729286Z",
     "iopub.status.busy": "2023-04-15T13:29:03.728932Z",
     "iopub.status.idle": "2023-04-15T13:29:03.782794Z",
     "shell.execute_reply": "2023-04-15T13:29:03.781608Z",
     "shell.execute_reply.started": "2023-04-15T13:29:03.729236Z"
    }
   },
   "outputs": [
    {
     "data": {
      "text/html": [
       "<div>\n",
       "<style scoped>\n",
       "    .dataframe tbody tr th:only-of-type {\n",
       "        vertical-align: middle;\n",
       "    }\n",
       "\n",
       "    .dataframe tbody tr th {\n",
       "        vertical-align: top;\n",
       "    }\n",
       "\n",
       "    .dataframe thead th {\n",
       "        text-align: right;\n",
       "    }\n",
       "</style>\n",
       "<table border=\"1\" class=\"dataframe\">\n",
       "  <thead>\n",
       "    <tr style=\"text-align: right;\">\n",
       "      <th></th>\n",
       "      <th>MinTemp</th>\n",
       "      <th>MaxTemp</th>\n",
       "      <th>Rainfall</th>\n",
       "      <th>Evaporation</th>\n",
       "      <th>Sunshine</th>\n",
       "      <th>WindGustSpeed</th>\n",
       "      <th>WindSpeed9am</th>\n",
       "      <th>WindSpeed3pm</th>\n",
       "      <th>Humidity9am</th>\n",
       "      <th>Humidity3pm</th>\n",
       "      <th>Pressure9am</th>\n",
       "      <th>Pressure3pm</th>\n",
       "      <th>Cloud9am</th>\n",
       "      <th>Cloud3pm</th>\n",
       "      <th>Temp9am</th>\n",
       "      <th>Temp3pm</th>\n",
       "      <th>Year</th>\n",
       "      <th>Month</th>\n",
       "      <th>Day</th>\n",
       "    </tr>\n",
       "  </thead>\n",
       "  <tbody>\n",
       "    <tr>\n",
       "      <th>0</th>\n",
       "      <td>13.4</td>\n",
       "      <td>22.9</td>\n",
       "      <td>0.6</td>\n",
       "      <td>NaN</td>\n",
       "      <td>NaN</td>\n",
       "      <td>44.0</td>\n",
       "      <td>20.0</td>\n",
       "      <td>24.0</td>\n",
       "      <td>71.0</td>\n",
       "      <td>22.0</td>\n",
       "      <td>1007.7</td>\n",
       "      <td>1007.1</td>\n",
       "      <td>8.0</td>\n",
       "      <td>NaN</td>\n",
       "      <td>16.9</td>\n",
       "      <td>21.8</td>\n",
       "      <td>2008</td>\n",
       "      <td>12</td>\n",
       "      <td>1</td>\n",
       "    </tr>\n",
       "    <tr>\n",
       "      <th>1</th>\n",
       "      <td>7.4</td>\n",
       "      <td>25.1</td>\n",
       "      <td>0.0</td>\n",
       "      <td>NaN</td>\n",
       "      <td>NaN</td>\n",
       "      <td>44.0</td>\n",
       "      <td>4.0</td>\n",
       "      <td>22.0</td>\n",
       "      <td>44.0</td>\n",
       "      <td>25.0</td>\n",
       "      <td>1010.6</td>\n",
       "      <td>1007.8</td>\n",
       "      <td>NaN</td>\n",
       "      <td>NaN</td>\n",
       "      <td>17.2</td>\n",
       "      <td>24.3</td>\n",
       "      <td>2008</td>\n",
       "      <td>12</td>\n",
       "      <td>2</td>\n",
       "    </tr>\n",
       "    <tr>\n",
       "      <th>2</th>\n",
       "      <td>12.9</td>\n",
       "      <td>25.7</td>\n",
       "      <td>0.0</td>\n",
       "      <td>NaN</td>\n",
       "      <td>NaN</td>\n",
       "      <td>46.0</td>\n",
       "      <td>19.0</td>\n",
       "      <td>26.0</td>\n",
       "      <td>38.0</td>\n",
       "      <td>30.0</td>\n",
       "      <td>1007.6</td>\n",
       "      <td>1008.7</td>\n",
       "      <td>NaN</td>\n",
       "      <td>2.0</td>\n",
       "      <td>21.0</td>\n",
       "      <td>23.2</td>\n",
       "      <td>2008</td>\n",
       "      <td>12</td>\n",
       "      <td>3</td>\n",
       "    </tr>\n",
       "    <tr>\n",
       "      <th>3</th>\n",
       "      <td>9.2</td>\n",
       "      <td>28.0</td>\n",
       "      <td>0.0</td>\n",
       "      <td>NaN</td>\n",
       "      <td>NaN</td>\n",
       "      <td>24.0</td>\n",
       "      <td>11.0</td>\n",
       "      <td>9.0</td>\n",
       "      <td>45.0</td>\n",
       "      <td>16.0</td>\n",
       "      <td>1017.6</td>\n",
       "      <td>1012.8</td>\n",
       "      <td>NaN</td>\n",
       "      <td>NaN</td>\n",
       "      <td>18.1</td>\n",
       "      <td>26.5</td>\n",
       "      <td>2008</td>\n",
       "      <td>12</td>\n",
       "      <td>4</td>\n",
       "    </tr>\n",
       "    <tr>\n",
       "      <th>4</th>\n",
       "      <td>17.5</td>\n",
       "      <td>32.3</td>\n",
       "      <td>1.0</td>\n",
       "      <td>NaN</td>\n",
       "      <td>NaN</td>\n",
       "      <td>41.0</td>\n",
       "      <td>7.0</td>\n",
       "      <td>20.0</td>\n",
       "      <td>82.0</td>\n",
       "      <td>33.0</td>\n",
       "      <td>1010.8</td>\n",
       "      <td>1006.0</td>\n",
       "      <td>7.0</td>\n",
       "      <td>8.0</td>\n",
       "      <td>17.8</td>\n",
       "      <td>29.7</td>\n",
       "      <td>2008</td>\n",
       "      <td>12</td>\n",
       "      <td>5</td>\n",
       "    </tr>\n",
       "  </tbody>\n",
       "</table>\n",
       "</div>"
      ],
      "text/plain": [
       "   MinTemp  MaxTemp  Rainfall  Evaporation  Sunshine  WindGustSpeed  \\\n",
       "0     13.4     22.9       0.6          NaN       NaN           44.0   \n",
       "1      7.4     25.1       0.0          NaN       NaN           44.0   \n",
       "2     12.9     25.7       0.0          NaN       NaN           46.0   \n",
       "3      9.2     28.0       0.0          NaN       NaN           24.0   \n",
       "4     17.5     32.3       1.0          NaN       NaN           41.0   \n",
       "\n",
       "   WindSpeed9am  WindSpeed3pm  Humidity9am  Humidity3pm  Pressure9am  \\\n",
       "0          20.0          24.0         71.0         22.0       1007.7   \n",
       "1           4.0          22.0         44.0         25.0       1010.6   \n",
       "2          19.0          26.0         38.0         30.0       1007.6   \n",
       "3          11.0           9.0         45.0         16.0       1017.6   \n",
       "4           7.0          20.0         82.0         33.0       1010.8   \n",
       "\n",
       "   Pressure3pm  Cloud9am  Cloud3pm  Temp9am  Temp3pm  Year  Month  Day  \n",
       "0       1007.1       8.0       NaN     16.9     21.8  2008     12    1  \n",
       "1       1007.8       NaN       NaN     17.2     24.3  2008     12    2  \n",
       "2       1008.7       NaN       2.0     21.0     23.2  2008     12    3  \n",
       "3       1012.8       NaN       NaN     18.1     26.5  2008     12    4  \n",
       "4       1006.0       7.0       8.0     17.8     29.7  2008     12    5  "
      ]
     },
     "execution_count": 50,
     "metadata": {},
     "output_type": "execute_result"
    }
   ],
   "source": [
    "# view the numerical variables\n",
    "\n",
    "df[numerical].head()"
   ]
  },
  {
   "cell_type": "markdown",
   "metadata": {},
   "source": [
    "### Summary of numerical variables\n",
    "\n",
    "\n",
    "- There are 16 numerical variables. \n",
    "\n",
    "\n",
    "- These are given by `MinTemp`, `MaxTemp`, `Rainfall`, `Evaporation`, `Sunshine`, `WindGustSpeed`, `WindSpeed9am`, `WindSpeed3pm`, `Humidity9am`, `Humidity3pm`, `Pressure9am`, `Pressure3pm`, `Cloud9am`, `Cloud3pm`, `Temp9am` and `Temp3pm`.\n",
    "\n",
    "\n",
    "- All of the numerical variables are of continuous type."
   ]
  },
  {
   "cell_type": "markdown",
   "metadata": {},
   "source": [
    "## 수치형 변수 내 결측치 탐색\n",
    "이번에는 수치형 변수들을 탐색해보겠습니다.\n",
    "\n",
    "수치형 변수 내 결측치\n",
    "### 먼저, 수치형 변수 내 결측치를 확인해보겠습니다."
   ]
  },
  {
   "cell_type": "code",
   "execution_count": 51,
   "metadata": {
    "execution": {
     "iopub.execute_input": "2023-04-15T13:29:03.785559Z",
     "iopub.status.busy": "2023-04-15T13:29:03.785080Z",
     "iopub.status.idle": "2023-04-15T13:29:03.833409Z",
     "shell.execute_reply": "2023-04-15T13:29:03.832340Z",
     "shell.execute_reply.started": "2023-04-15T13:29:03.785471Z"
    }
   },
   "outputs": [
    {
     "data": {
      "text/plain": [
       "MinTemp           1485\n",
       "MaxTemp           1261\n",
       "Rainfall          3261\n",
       "Evaporation      62790\n",
       "Sunshine         69835\n",
       "WindGustSpeed    10263\n",
       "WindSpeed9am      1767\n",
       "WindSpeed3pm      3062\n",
       "Humidity9am       2654\n",
       "Humidity3pm       4507\n",
       "Pressure9am      15065\n",
       "Pressure3pm      15028\n",
       "Cloud9am         55888\n",
       "Cloud3pm         59358\n",
       "Temp9am           1767\n",
       "Temp3pm           3609\n",
       "Year                 0\n",
       "Month                0\n",
       "Day                  0\n",
       "dtype: int64"
      ]
     },
     "execution_count": 51,
     "metadata": {},
     "output_type": "execute_result"
    }
   ],
   "source": [
    "# check missing values in numerical variables\n",
    "\n",
    "df[numerical].isnull().sum()"
   ]
  },
  {
   "cell_type": "markdown",
   "metadata": {},
   "source": [
    "We can see that all the 16 numerical variables contain missing values."
   ]
  },
  {
   "cell_type": "markdown",
   "metadata": {},
   "source": [
    "### Outliers in numerical variables"
   ]
  },
  {
   "cell_type": "code",
   "execution_count": 52,
   "metadata": {
    "execution": {
     "iopub.execute_input": "2023-04-15T13:29:03.835680Z",
     "iopub.status.busy": "2023-04-15T13:29:03.835328Z",
     "iopub.status.idle": "2023-04-15T13:29:04.056245Z",
     "shell.execute_reply": "2023-04-15T13:29:04.054391Z",
     "shell.execute_reply.started": "2023-04-15T13:29:03.835615Z"
    }
   },
   "outputs": [
    {
     "name": "stdout",
     "output_type": "stream",
     "text": [
      "        MinTemp   MaxTemp  Rainfall  Evaporation  Sunshine  WindGustSpeed  \\\n",
      "count  143975.0  144199.0  142199.0      82670.0   75625.0       135197.0   \n",
      "mean       12.0      23.0       2.0          5.0       8.0           40.0   \n",
      "std         6.0       7.0       8.0          4.0       4.0           14.0   \n",
      "min        -8.0      -5.0       0.0          0.0       0.0            6.0   \n",
      "25%         8.0      18.0       0.0          3.0       5.0           31.0   \n",
      "50%        12.0      23.0       0.0          5.0       8.0           39.0   \n",
      "75%        17.0      28.0       1.0          7.0      11.0           48.0   \n",
      "max        34.0      48.0     371.0        145.0      14.0          135.0   \n",
      "\n",
      "       WindSpeed9am  WindSpeed3pm  Humidity9am  Humidity3pm  Pressure9am  \\\n",
      "count      143693.0      142398.0     142806.0     140953.0     130395.0   \n",
      "mean           14.0          19.0         69.0         52.0       1018.0   \n",
      "std             9.0           9.0         19.0         21.0          7.0   \n",
      "min             0.0           0.0          0.0          0.0        980.0   \n",
      "25%             7.0          13.0         57.0         37.0       1013.0   \n",
      "50%            13.0          19.0         70.0         52.0       1018.0   \n",
      "75%            19.0          24.0         83.0         66.0       1022.0   \n",
      "max           130.0          87.0        100.0        100.0       1041.0   \n",
      "\n",
      "       Pressure3pm  Cloud9am  Cloud3pm   Temp9am   Temp3pm      Year  \\\n",
      "count     130432.0   89572.0   86102.0  143693.0  141851.0  145460.0   \n",
      "mean        1015.0       4.0       5.0      17.0      22.0    2013.0   \n",
      "std            7.0       3.0       3.0       6.0       7.0       3.0   \n",
      "min          977.0       0.0       0.0      -7.0      -5.0    2007.0   \n",
      "25%         1010.0       1.0       2.0      12.0      17.0    2011.0   \n",
      "50%         1015.0       5.0       5.0      17.0      21.0    2013.0   \n",
      "75%         1020.0       7.0       7.0      22.0      26.0    2015.0   \n",
      "max         1040.0       9.0       9.0      40.0      47.0    2017.0   \n",
      "\n",
      "          Month       Day  \n",
      "count  145460.0  145460.0  \n",
      "mean        6.0      16.0  \n",
      "std         3.0       9.0  \n",
      "min         1.0       1.0  \n",
      "25%         3.0       8.0  \n",
      "50%         6.0      16.0  \n",
      "75%         9.0      23.0  \n",
      "max        12.0      31.0   2\n"
     ]
    }
   ],
   "source": [
    "# view summary statistics in numerical variables\n",
    "\n",
    "print(round(df[numerical].describe()),2)"
   ]
  },
  {
   "cell_type": "markdown",
   "metadata": {},
   "source": [
    "자세히 살펴보면, `Rainfall, Evaporation, WindSpeed9am, WindSpeed3pm` 열에 이상치가 포함될 수 있다는 것을 알 수 있습니다.\n",
    "\n",
    "위 변수들에서 이상치를 시각화하기 위해 상자 그림을 그릴 것입니다.\n",
    "\n",
    "\n",
    "\n"
   ]
  },
  {
   "cell_type": "code",
   "execution_count": 53,
   "metadata": {
    "execution": {
     "iopub.execute_input": "2023-04-15T13:29:04.059514Z",
     "iopub.status.busy": "2023-04-15T13:29:04.059022Z",
     "iopub.status.idle": "2023-04-15T13:29:05.140938Z",
     "shell.execute_reply": "2023-04-15T13:29:05.139684Z",
     "shell.execute_reply.started": "2023-04-15T13:29:04.059433Z"
    }
   },
   "outputs": [
    {
     "data": {
      "text/plain": [
       "Text(0, 0.5, 'WindSpeed3pm')"
      ]
     },
     "execution_count": 53,
     "metadata": {},
     "output_type": "execute_result"
    },
    {
     "data": {
      "image/png": "[encoded data removed]",
      "text/plain": [
       "<Figure size 1080x720 with 4 Axes>"
      ]
     },
     "metadata": {
      "needs_background": "light"
     },
     "output_type": "display_data"
    }
   ],
   "source": [
    "# draw boxplots to visualize outliers\n",
    "\n",
    "plt.figure(figsize=(15,10))\n",
    "\n",
    "\n",
    "plt.subplot(2, 2, 1)\n",
    "fig = df.boxplot(column='Rainfall')\n",
    "fig.set_title('')\n",
    "fig.set_ylabel('Rainfall')\n",
    "\n",
    "\n",
    "plt.subplot(2, 2, 2)\n",
    "fig = df.boxplot(column='Evaporation')\n",
    "fig.set_title('')\n",
    "fig.set_ylabel('Evaporation')\n",
    "\n",
    "\n",
    "plt.subplot(2, 2, 3)\n",
    "fig = df.boxplot(column='WindSpeed9am')\n",
    "fig.set_title('')\n",
    "fig.set_ylabel('WindSpeed9am')\n",
    "\n",
    "\n",
    "plt.subplot(2, 2, 4)\n",
    "fig = df.boxplot(column='WindSpeed3pm')\n",
    "fig.set_title('')\n",
    "fig.set_ylabel('WindSpeed3pm')"
   ]
  },
  {
   "cell_type": "markdown",
   "metadata": {},
   "source": [
    "위의 상자그림은 이 변수들에 이상치가 많이 있다는 것을 확인시켜 줍니다."
   ]
  },
  {
   "cell_type": "markdown",
   "metadata": {},
   "source": [
    "### 변수의 분포 확인하기\n",
    "이제 히스토그램을 그려서 분포를 확인하고, 정규분포인지 왜도(skewness)가 있는지 알아보겠습니다. 만약 변수가 정규분포를 따른다면 극값 분석(Extreme Value Analysis)을 수행하겠지만, 왜도가 있다면 IQR(Interquantile range)를 구할 것입니다."
   ]
  },
  {
   "cell_type": "code",
   "execution_count": 54,
   "metadata": {
    "execution": {
     "iopub.execute_input": "2023-04-15T13:29:05.142753Z",
     "iopub.status.busy": "2023-04-15T13:29:05.142305Z",
     "iopub.status.idle": "2023-04-15T13:29:06.387052Z",
     "shell.execute_reply": "2023-04-15T13:29:06.386274Z",
     "shell.execute_reply.started": "2023-04-15T13:29:05.142706Z"
    }
   },
   "outputs": [
    {
     "data": {
      "text/plain": [
       "Text(0, 0.5, 'RainTomorrow')"
      ]
     },
     "execution_count": 54,
     "metadata": {},
     "output_type": "execute_result"
    },
    {
     "data": {
      "image/png": "[encoded data removed]",
      "text/plain": [
       "<Figure size 1080x720 with 4 Axes>"
      ]
     },
     "metadata": {
      "needs_background": "light"
     },
     "output_type": "display_data"
    }
   ],
   "source": [
    "# plot histogram to check distribution\n",
    "\n",
    "plt.figure(figsize=(15,10))\n",
    "\n",
    "\n",
    "plt.subplot(2, 2, 1)\n",
    "fig = df.Rainfall.hist(bins=10)\n",
    "fig.set_xlabel('Rainfall')\n",
    "fig.set_ylabel('RainTomorrow')\n",
    "\n",
    "\n",
    "plt.subplot(2, 2, 2)\n",
    "fig = df.Evaporation.hist(bins=10)\n",
    "fig.set_xlabel('Evaporation')\n",
    "fig.set_ylabel('RainTomorrow')\n",
    "\n",
    "\n",
    "plt.subplot(2, 2, 3)\n",
    "fig = df.WindSpeed9am.hist(bins=10)\n",
    "fig.set_xlabel('WindSpeed9am')\n",
    "fig.set_ylabel('RainTomorrow')\n",
    "\n",
    "\n",
    "plt.subplot(2, 2, 4)\n",
    "fig = df.WindSpeed3pm.hist(bins=10)\n",
    "fig.set_xlabel('WindSpeed3pm')\n",
    "fig.set_ylabel('RainTomorrow')"
   ]
  },
  {
   "cell_type": "markdown",
   "metadata": {},
   "source": [
    "네 개의 변수 모두 왜도가 있는 것으로 보입니다. 그러므로, 외부값(outlier)을 찾기 위해 IQR(Interquantile range)를 사용하겠습니다."
   ]
  },
  {
   "cell_type": "code",
   "execution_count": 55,
   "metadata": {
    "execution": {
     "iopub.execute_input": "2023-04-15T13:29:06.392058Z",
     "iopub.status.busy": "2023-04-15T13:29:06.391371Z",
     "iopub.status.idle": "2023-04-15T13:29:06.423982Z",
     "shell.execute_reply": "2023-04-15T13:29:06.421980Z",
     "shell.execute_reply.started": "2023-04-15T13:29:06.391969Z"
    }
   },
   "outputs": [
    {
     "name": "stdout",
     "output_type": "stream",
     "text": [
      "Rainfall outliers are values < -2.4000000000000004 or > 3.2\n"
     ]
    }
   ],
   "source": [
    "# find outliers for Rainfall variable\n",
    "\n",
    "IQR = df.Rainfall.quantile(0.75) - df.Rainfall.quantile(0.25)\n",
    "Lower_fence = df.Rainfall.quantile(0.25) - (IQR * 3)\n",
    "Upper_fence = df.Rainfall.quantile(0.75) + (IQR * 3)\n",
    "print('Rainfall outliers are values < {lowerboundary} or > {upperboundary}'.format(lowerboundary=Lower_fence, upperboundary=Upper_fence))\n"
   ]
  },
  {
   "cell_type": "markdown",
   "metadata": {},
   "source": [
    "강수량(Rainfall) 변수의 최솟값과 최댓값은 각각 0.0과 371.0입니다. 따라서, 이상치는 3.2보다 큰 값입니다."
   ]
  },
  {
   "cell_type": "code",
   "execution_count": 56,
   "metadata": {
    "execution": {
     "iopub.execute_input": "2023-04-15T13:29:06.426905Z",
     "iopub.status.busy": "2023-04-15T13:29:06.426221Z",
     "iopub.status.idle": "2023-04-15T13:29:06.449979Z",
     "shell.execute_reply": "2023-04-15T13:29:06.448995Z",
     "shell.execute_reply.started": "2023-04-15T13:29:06.426576Z"
    }
   },
   "outputs": [
    {
     "name": "stdout",
     "output_type": "stream",
     "text": [
      "Evaporation outliers are values < -11.800000000000002 or > 21.800000000000004\n"
     ]
    }
   ],
   "source": [
    "# find outliers for Evaporation variable\n",
    "\n",
    "IQR = df.Evaporation.quantile(0.75) - df.Evaporation.quantile(0.25)\n",
    "Lower_fence = df.Evaporation.quantile(0.25) - (IQR * 3)\n",
    "Upper_fence = df.Evaporation.quantile(0.75) + (IQR * 3)\n",
    "print('Evaporation outliers are values < {lowerboundary} or > {upperboundary}'.format(lowerboundary=Lower_fence, upperboundary=Upper_fence))\n"
   ]
  },
  {
   "cell_type": "markdown",
   "metadata": {},
   "source": [
    "증발량(Evaporation) 변수의 최솟값과 최댓값은 각각 0.0과 145.0입니다. 따라서, 이상치는 21.8보다 큰 값입니다."
   ]
  },
  {
   "cell_type": "code",
   "execution_count": 57,
   "metadata": {
    "execution": {
     "iopub.execute_input": "2023-04-15T13:29:06.452164Z",
     "iopub.status.busy": "2023-04-15T13:29:06.451778Z",
     "iopub.status.idle": "2023-04-15T13:29:06.480079Z",
     "shell.execute_reply": "2023-04-15T13:29:06.478988Z",
     "shell.execute_reply.started": "2023-04-15T13:29:06.452086Z"
    }
   },
   "outputs": [
    {
     "name": "stdout",
     "output_type": "stream",
     "text": [
      "WindSpeed9am outliers are values < -29.0 or > 55.0\n"
     ]
    }
   ],
   "source": [
    "# find outliers for WindSpeed9am variable\n",
    "\n",
    "IQR = df.WindSpeed9am.quantile(0.75) - df.WindSpeed9am.quantile(0.25)\n",
    "Lower_fence = df.WindSpeed9am.quantile(0.25) - (IQR * 3)\n",
    "Upper_fence = df.WindSpeed9am.quantile(0.75) + (IQR * 3)\n",
    "print('WindSpeed9am outliers are values < {lowerboundary} or > {upperboundary}'.format(lowerboundary=Lower_fence, upperboundary=Upper_fence))\n"
   ]
  },
  {
   "cell_type": "markdown",
   "metadata": {},
   "source": [
    "풍속9am(WindSpeed9am) 변수의 최솟값과 최댓값은 각각 0.0과 130.0입니다. 따라서, 이상치는 55.0보다 큰 값입니다."
   ]
  },
  {
   "cell_type": "code",
   "execution_count": 58,
   "metadata": {
    "execution": {
     "iopub.execute_input": "2023-04-15T13:29:06.482159Z",
     "iopub.status.busy": "2023-04-15T13:29:06.481790Z",
     "iopub.status.idle": "2023-04-15T13:29:06.509153Z",
     "shell.execute_reply": "2023-04-15T13:29:06.508056Z",
     "shell.execute_reply.started": "2023-04-15T13:29:06.482070Z"
    }
   },
   "outputs": [
    {
     "name": "stdout",
     "output_type": "stream",
     "text": [
      "WindSpeed3pm outliers are values < -20.0 or > 57.0\n"
     ]
    }
   ],
   "source": [
    "# find outliers for WindSpeed3pm variable\n",
    "\n",
    "IQR = df.WindSpeed3pm.quantile(0.75) - df.WindSpeed3pm.quantile(0.25)\n",
    "Lower_fence = df.WindSpeed3pm.quantile(0.25) - (IQR * 3)\n",
    "Upper_fence = df.WindSpeed3pm.quantile(0.75) + (IQR * 3)\n",
    "print('WindSpeed3pm outliers are values < {lowerboundary} or > {upperboundary}'.format(lowerboundary=Lower_fence, upperboundary=Upper_fence))\n"
   ]
  },
  {
   "cell_type": "markdown",
   "metadata": {},
   "source": [
    "풍속3pm(WindSpeed3pm) 변수의 최솟값과 최댓값은 각각 0.0과 87.0입니다. 따라서, 이상치는 57.0보다 큰 값입니다."
   ]
  },
  {
   "cell_type": "markdown",
   "metadata": {},
   "source": [
    "# **8. feature vector, 목표 변수 선언하기** <a class=\"anchor\" id=\"8\"></a>\n",
    "\n",
    "\n",
    "[Table of Contents](#0.1)"
   ]
  },
  {
   "cell_type": "code",
   "execution_count": 59,
   "metadata": {
    "execution": {
     "iopub.execute_input": "2023-04-15T13:29:06.511225Z",
     "iopub.status.busy": "2023-04-15T13:29:06.510722Z",
     "iopub.status.idle": "2023-04-15T13:29:06.542303Z",
     "shell.execute_reply": "2023-04-15T13:29:06.541366Z",
     "shell.execute_reply.started": "2023-04-15T13:29:06.511120Z"
    }
   },
   "outputs": [],
   "source": [
    "X = df.drop(['RainTomorrow'], axis=1)\n",
    "\n",
    "y = df['RainTomorrow']"
   ]
  },
  {
   "cell_type": "markdown",
   "metadata": {},
   "source": [
    "# **9. training, test set 으로 분리하기** <a class=\"anchor\" id=\"9\"></a>\n",
    "\n",
    "\n",
    "[Table of Contents](#0.1)"
   ]
  },
  {
   "cell_type": "code",
   "execution_count": 60,
   "metadata": {
    "execution": {
     "iopub.execute_input": "2023-04-15T13:29:06.544393Z",
     "iopub.status.busy": "2023-04-15T13:29:06.543783Z",
     "iopub.status.idle": "2023-04-15T13:29:08.536511Z",
     "shell.execute_reply": "2023-04-15T13:29:08.535244Z",
     "shell.execute_reply.started": "2023-04-15T13:29:06.544333Z"
    }
   },
   "outputs": [],
   "source": [
    "# split X and y into training and testing sets\n",
    "\n",
    "from sklearn.model_selection import train_test_split\n",
    "\n",
    "X_train, X_test, y_train, y_test = train_test_split(X, y, test_size = 0.2, random_state = 0)\n"
   ]
  },
  {
   "cell_type": "code",
   "execution_count": 61,
   "metadata": {
    "execution": {
     "iopub.execute_input": "2023-04-15T13:29:08.538330Z",
     "iopub.status.busy": "2023-04-15T13:29:08.537986Z",
     "iopub.status.idle": "2023-04-15T13:29:08.543695Z",
     "shell.execute_reply": "2023-04-15T13:29:08.542928Z",
     "shell.execute_reply.started": "2023-04-15T13:29:08.538258Z"
    }
   },
   "outputs": [
    {
     "data": {
      "text/plain": [
       "((116368, 24), (29092, 24))"
      ]
     },
     "execution_count": 61,
     "metadata": {},
     "output_type": "execute_result"
    }
   ],
   "source": [
    "# check the shape of X_train and X_test\n",
    "\n",
    "X_train.shape, X_test.shape"
   ]
  },
  {
   "cell_type": "markdown",
   "metadata": {},
   "source": [
    "# **10. Feature Engineering** <a class=\"anchor\" id=\"10\"></a>\n",
    "\n",
    "\n",
    "[Table of Contents](#0.1)\n",
    "\n",
    "\n",
    "**특성 공학(Feature Engineering)**은 원시 데이터(raw data)를 유용한 특성(feature)으로 변환하여 모델을 더 잘 이해하고 예측력을 높이는 과정입니다. 다음으로, 각각의 범주형 변수와 수치형 변수를 다시 나누어 표시하겠습니다."
   ]
  },
  {
   "cell_type": "code",
   "execution_count": 62,
   "metadata": {
    "execution": {
     "iopub.execute_input": "2023-04-15T13:29:08.545608Z",
     "iopub.status.busy": "2023-04-15T13:29:08.545304Z",
     "iopub.status.idle": "2023-04-15T13:29:08.562583Z",
     "shell.execute_reply": "2023-04-15T13:29:08.561539Z",
     "shell.execute_reply.started": "2023-04-15T13:29:08.545558Z"
    }
   },
   "outputs": [
    {
     "data": {
      "text/plain": [
       "Location          object\n",
       "MinTemp          float64\n",
       "MaxTemp          float64\n",
       "Rainfall         float64\n",
       "Evaporation      float64\n",
       "Sunshine         float64\n",
       "WindGustDir       object\n",
       "WindGustSpeed    float64\n",
       "WindDir9am        object\n",
       "WindDir3pm        object\n",
       "WindSpeed9am     float64\n",
       "WindSpeed3pm     float64\n",
       "Humidity9am      float64\n",
       "Humidity3pm      float64\n",
       "Pressure9am      float64\n",
       "Pressure3pm      float64\n",
       "Cloud9am         float64\n",
       "Cloud3pm         float64\n",
       "Temp9am          float64\n",
       "Temp3pm          float64\n",
       "RainToday         object\n",
       "Year               int64\n",
       "Month              int64\n",
       "Day                int64\n",
       "dtype: object"
      ]
     },
     "execution_count": 62,
     "metadata": {},
     "output_type": "execute_result"
    }
   ],
   "source": [
    "# check data types in X_train\n",
    "\n",
    "X_train.dtypes"
   ]
  },
  {
   "cell_type": "code",
   "execution_count": 63,
   "metadata": {
    "execution": {
     "iopub.execute_input": "2023-04-15T13:29:08.564802Z",
     "iopub.status.busy": "2023-04-15T13:29:08.564380Z",
     "iopub.status.idle": "2023-04-15T13:29:08.579661Z",
     "shell.execute_reply": "2023-04-15T13:29:08.578452Z",
     "shell.execute_reply.started": "2023-04-15T13:29:08.564714Z"
    }
   },
   "outputs": [
    {
     "data": {
      "text/plain": [
       "['Location', 'WindGustDir', 'WindDir9am', 'WindDir3pm', 'RainToday']"
      ]
     },
     "execution_count": 63,
     "metadata": {},
     "output_type": "execute_result"
    }
   ],
   "source": [
    "# display categorical variables\n",
    "\n",
    "categorical = [col for col in X_train.columns if X_train[col].dtypes == 'O']\n",
    "\n",
    "categorical"
   ]
  },
  {
   "cell_type": "code",
   "execution_count": 64,
   "metadata": {
    "execution": {
     "iopub.execute_input": "2023-04-15T13:29:08.581507Z",
     "iopub.status.busy": "2023-04-15T13:29:08.581128Z",
     "iopub.status.idle": "2023-04-15T13:29:08.597626Z",
     "shell.execute_reply": "2023-04-15T13:29:08.596201Z",
     "shell.execute_reply.started": "2023-04-15T13:29:08.581443Z"
    }
   },
   "outputs": [
    {
     "data": {
      "text/plain": [
       "['MinTemp',\n",
       " 'MaxTemp',\n",
       " 'Rainfall',\n",
       " 'Evaporation',\n",
       " 'Sunshine',\n",
       " 'WindGustSpeed',\n",
       " 'WindSpeed9am',\n",
       " 'WindSpeed3pm',\n",
       " 'Humidity9am',\n",
       " 'Humidity3pm',\n",
       " 'Pressure9am',\n",
       " 'Pressure3pm',\n",
       " 'Cloud9am',\n",
       " 'Cloud3pm',\n",
       " 'Temp9am',\n",
       " 'Temp3pm',\n",
       " 'Year',\n",
       " 'Month',\n",
       " 'Day']"
      ]
     },
     "execution_count": 64,
     "metadata": {},
     "output_type": "execute_result"
    }
   ],
   "source": [
    "# display numerical variables\n",
    "\n",
    "numerical = [col for col in X_train.columns if X_train[col].dtypes != 'O']\n",
    "\n",
    "numerical"
   ]
  },
  {
   "cell_type": "markdown",
   "metadata": {},
   "source": [
    "### Engineering missing values in numerical variables\n",
    "\n"
   ]
  },
  {
   "cell_type": "code",
   "execution_count": 65,
   "metadata": {
    "execution": {
     "iopub.execute_input": "2023-04-15T13:29:08.599798Z",
     "iopub.status.busy": "2023-04-15T13:29:08.599448Z",
     "iopub.status.idle": "2023-04-15T13:29:08.641053Z",
     "shell.execute_reply": "2023-04-15T13:29:08.640283Z",
     "shell.execute_reply.started": "2023-04-15T13:29:08.599723Z"
    }
   },
   "outputs": [
    {
     "data": {
      "text/plain": [
       "MinTemp           1183\n",
       "MaxTemp           1019\n",
       "Rainfall          2617\n",
       "Evaporation      50355\n",
       "Sunshine         55899\n",
       "WindGustSpeed     8218\n",
       "WindSpeed9am      1409\n",
       "WindSpeed3pm      2456\n",
       "Humidity9am       2147\n",
       "Humidity3pm       3598\n",
       "Pressure9am      12091\n",
       "Pressure3pm      12064\n",
       "Cloud9am         44796\n",
       "Cloud3pm         47557\n",
       "Temp9am           1415\n",
       "Temp3pm           2865\n",
       "Year                 0\n",
       "Month                0\n",
       "Day                  0\n",
       "dtype: int64"
      ]
     },
     "execution_count": 65,
     "metadata": {},
     "output_type": "execute_result"
    }
   ],
   "source": [
    "# check missing values in numerical variables in X_train\n",
    "\n",
    "X_train[numerical].isnull().sum()"
   ]
  },
  {
   "cell_type": "code",
   "execution_count": 66,
   "metadata": {
    "execution": {
     "iopub.execute_input": "2023-04-15T13:29:08.642841Z",
     "iopub.status.busy": "2023-04-15T13:29:08.642373Z",
     "iopub.status.idle": "2023-04-15T13:29:08.655563Z",
     "shell.execute_reply": "2023-04-15T13:29:08.654518Z",
     "shell.execute_reply.started": "2023-04-15T13:29:08.642776Z"
    }
   },
   "outputs": [
    {
     "data": {
      "text/plain": [
       "MinTemp            302\n",
       "MaxTemp            242\n",
       "Rainfall           644\n",
       "Evaporation      12435\n",
       "Sunshine         13936\n",
       "WindGustSpeed     2045\n",
       "WindSpeed9am       358\n",
       "WindSpeed3pm       606\n",
       "Humidity9am        507\n",
       "Humidity3pm        909\n",
       "Pressure9am       2974\n",
       "Pressure3pm       2964\n",
       "Cloud9am         11092\n",
       "Cloud3pm         11801\n",
       "Temp9am            352\n",
       "Temp3pm            744\n",
       "Year                 0\n",
       "Month                0\n",
       "Day                  0\n",
       "dtype: int64"
      ]
     },
     "execution_count": 66,
     "metadata": {},
     "output_type": "execute_result"
    }
   ],
   "source": [
    "# check missing values in numerical variables in X_test\n",
    "\n",
    "X_test[numerical].isnull().sum()"
   ]
  },
  {
   "cell_type": "code",
   "execution_count": 67,
   "metadata": {
    "execution": {
     "iopub.execute_input": "2023-04-15T13:29:08.657474Z",
     "iopub.status.busy": "2023-04-15T13:29:08.657150Z",
     "iopub.status.idle": "2023-04-15T13:29:08.702410Z",
     "shell.execute_reply": "2023-04-15T13:29:08.700711Z",
     "shell.execute_reply.started": "2023-04-15T13:29:08.657413Z"
    }
   },
   "outputs": [
    {
     "name": "stdout",
     "output_type": "stream",
     "text": [
      "MinTemp 0.0102\n",
      "MaxTemp 0.0088\n",
      "Rainfall 0.0225\n",
      "Evaporation 0.4327\n",
      "Sunshine 0.4804\n",
      "WindGustSpeed 0.0706\n",
      "WindSpeed9am 0.0121\n",
      "WindSpeed3pm 0.0211\n",
      "Humidity9am 0.0185\n",
      "Humidity3pm 0.0309\n",
      "Pressure9am 0.1039\n",
      "Pressure3pm 0.1037\n",
      "Cloud9am 0.385\n",
      "Cloud3pm 0.4087\n",
      "Temp9am 0.0122\n",
      "Temp3pm 0.0246\n"
     ]
    }
   ],
   "source": [
    "# print percentage of missing values in the numerical variables in training set\n",
    "\n",
    "for col in numerical:\n",
    "    if X_train[col].isnull().mean()>0:\n",
    "        print(col, round(X_train[col].isnull().mean(),4))"
   ]
  },
  {
   "cell_type": "markdown",
   "metadata": {},
   "source": [
    "### Assumption\n",
    "\n",
    "\n",
    "I assume that the data are missing completely at random (MCAR). There are two methods which can be used to impute missing values. One is mean or median imputation and other one is random sample imputation. When there are outliers in the dataset, we should use median imputation. So, I will use median imputation because median imputation is robust to outliers.\n",
    "\n",
    "\n",
    "I will impute missing values with the appropriate statistical measures of the data, in this case median. Imputation should be done over the training set, and then propagated to the test set. It means that the statistical measures to be used to fill missing values both in train and test set, should be extracted from the train set only. This is to avoid overfitting."
   ]
  },
  {
   "cell_type": "code",
   "execution_count": 68,
   "metadata": {
    "execution": {
     "iopub.execute_input": "2023-04-15T13:29:08.704508Z",
     "iopub.status.busy": "2023-04-15T13:29:08.704085Z",
     "iopub.status.idle": "2023-04-15T13:29:08.810764Z",
     "shell.execute_reply": "2023-04-15T13:29:08.809699Z",
     "shell.execute_reply.started": "2023-04-15T13:29:08.704423Z"
    }
   },
   "outputs": [],
   "source": [
    "# impute missing values in X_train and X_test with respective column median in X_train\n",
    "\n",
    "for df1 in [X_train, X_test]:\n",
    "    for col in numerical:\n",
    "        col_median=X_train[col].median()\n",
    "        df1[col].fillna(col_median, inplace=True)           \n",
    "      "
   ]
  },
  {
   "cell_type": "code",
   "execution_count": 69,
   "metadata": {
    "execution": {
     "iopub.execute_input": "2023-04-15T13:29:08.814071Z",
     "iopub.status.busy": "2023-04-15T13:29:08.813395Z",
     "iopub.status.idle": "2023-04-15T13:29:08.837677Z",
     "shell.execute_reply": "2023-04-15T13:29:08.836005Z",
     "shell.execute_reply.started": "2023-04-15T13:29:08.814000Z"
    }
   },
   "outputs": [
    {
     "data": {
      "text/plain": [
       "MinTemp          0\n",
       "MaxTemp          0\n",
       "Rainfall         0\n",
       "Evaporation      0\n",
       "Sunshine         0\n",
       "WindGustSpeed    0\n",
       "WindSpeed9am     0\n",
       "WindSpeed3pm     0\n",
       "Humidity9am      0\n",
       "Humidity3pm      0\n",
       "Pressure9am      0\n",
       "Pressure3pm      0\n",
       "Cloud9am         0\n",
       "Cloud3pm         0\n",
       "Temp9am          0\n",
       "Temp3pm          0\n",
       "Year             0\n",
       "Month            0\n",
       "Day              0\n",
       "dtype: int64"
      ]
     },
     "execution_count": 69,
     "metadata": {},
     "output_type": "execute_result"
    }
   ],
   "source": [
    "# check again missing values in numerical variables in X_train\n",
    "\n",
    "X_train[numerical].isnull().sum()"
   ]
  },
  {
   "cell_type": "code",
   "execution_count": 70,
   "metadata": {
    "execution": {
     "iopub.execute_input": "2023-04-15T13:29:08.839833Z",
     "iopub.status.busy": "2023-04-15T13:29:08.839397Z",
     "iopub.status.idle": "2023-04-15T13:29:08.856585Z",
     "shell.execute_reply": "2023-04-15T13:29:08.855474Z",
     "shell.execute_reply.started": "2023-04-15T13:29:08.839752Z"
    }
   },
   "outputs": [
    {
     "data": {
      "text/plain": [
       "MinTemp          0\n",
       "MaxTemp          0\n",
       "Rainfall         0\n",
       "Evaporation      0\n",
       "Sunshine         0\n",
       "WindGustSpeed    0\n",
       "WindSpeed9am     0\n",
       "WindSpeed3pm     0\n",
       "Humidity9am      0\n",
       "Humidity3pm      0\n",
       "Pressure9am      0\n",
       "Pressure3pm      0\n",
       "Cloud9am         0\n",
       "Cloud3pm         0\n",
       "Temp9am          0\n",
       "Temp3pm          0\n",
       "Year             0\n",
       "Month            0\n",
       "Day              0\n",
       "dtype: int64"
      ]
     },
     "execution_count": 70,
     "metadata": {},
     "output_type": "execute_result"
    }
   ],
   "source": [
    "# check missing values in numerical variables in X_test\n",
    "\n",
    "X_test[numerical].isnull().sum()"
   ]
  },
  {
   "cell_type": "markdown",
   "metadata": {},
   "source": [
    "Now, we can see that there are no missing values in the numerical columns of training and test set."
   ]
  },
  {
   "cell_type": "markdown",
   "metadata": {},
   "source": [
    "### Engineering missing values in categorical variables"
   ]
  },
  {
   "cell_type": "code",
   "execution_count": 71,
   "metadata": {
    "execution": {
     "iopub.execute_input": "2023-04-15T13:29:08.859175Z",
     "iopub.status.busy": "2023-04-15T13:29:08.858676Z",
     "iopub.status.idle": "2023-04-15T13:29:08.900993Z",
     "shell.execute_reply": "2023-04-15T13:29:08.899436Z",
     "shell.execute_reply.started": "2023-04-15T13:29:08.859039Z"
    }
   },
   "outputs": [
    {
     "data": {
      "text/plain": [
       "Location       0.000000\n",
       "WindGustDir    0.071068\n",
       "WindDir9am     0.072597\n",
       "WindDir3pm     0.028951\n",
       "RainToday      0.022489\n",
       "dtype: float64"
      ]
     },
     "execution_count": 71,
     "metadata": {},
     "output_type": "execute_result"
    }
   ],
   "source": [
    "# print percentage of missing values in the categorical variables in training set\n",
    "\n",
    "X_train[categorical].isnull().mean()"
   ]
  },
  {
   "cell_type": "code",
   "execution_count": 72,
   "metadata": {
    "execution": {
     "iopub.execute_input": "2023-04-15T13:29:08.903242Z",
     "iopub.status.busy": "2023-04-15T13:29:08.902800Z",
     "iopub.status.idle": "2023-04-15T13:29:08.959171Z",
     "shell.execute_reply": "2023-04-15T13:29:08.958087Z",
     "shell.execute_reply.started": "2023-04-15T13:29:08.903162Z"
    }
   },
   "outputs": [
    {
     "name": "stdout",
     "output_type": "stream",
     "text": [
      "WindGustDir 0.07106764746322013\n",
      "WindDir9am 0.07259727760208992\n",
      "WindDir3pm 0.028951258077822083\n",
      "RainToday 0.02248900041248453\n"
     ]
    }
   ],
   "source": [
    "# print categorical variables with missing data\n",
    "\n",
    "for col in categorical:\n",
    "    if X_train[col].isnull().mean()>0:\n",
    "        print(col, (X_train[col].isnull().mean()))"
   ]
  },
  {
   "cell_type": "code",
   "execution_count": 73,
   "metadata": {
    "execution": {
     "iopub.execute_input": "2023-04-15T13:29:08.961312Z",
     "iopub.status.busy": "2023-04-15T13:29:08.960964Z",
     "iopub.status.idle": "2023-04-15T13:29:09.067405Z",
     "shell.execute_reply": "2023-04-15T13:29:09.066079Z",
     "shell.execute_reply.started": "2023-04-15T13:29:08.961255Z"
    }
   },
   "outputs": [],
   "source": [
    "# impute missing categorical variables with most frequent value\n",
    "\n",
    "for df2 in [X_train, X_test]:\n",
    "    df2['WindGustDir'].fillna(X_train['WindGustDir'].mode()[0], inplace=True)\n",
    "    df2['WindDir9am'].fillna(X_train['WindDir9am'].mode()[0], inplace=True)\n",
    "    df2['WindDir3pm'].fillna(X_train['WindDir3pm'].mode()[0], inplace=True)\n",
    "    df2['RainToday'].fillna(X_train['RainToday'].mode()[0], inplace=True)"
   ]
  },
  {
   "cell_type": "code",
   "execution_count": 74,
   "metadata": {
    "execution": {
     "iopub.execute_input": "2023-04-15T13:29:09.068991Z",
     "iopub.status.busy": "2023-04-15T13:29:09.068697Z",
     "iopub.status.idle": "2023-04-15T13:29:09.109324Z",
     "shell.execute_reply": "2023-04-15T13:29:09.108213Z",
     "shell.execute_reply.started": "2023-04-15T13:29:09.068942Z"
    }
   },
   "outputs": [
    {
     "data": {
      "text/plain": [
       "Location       0\n",
       "WindGustDir    0\n",
       "WindDir9am     0\n",
       "WindDir3pm     0\n",
       "RainToday      0\n",
       "dtype: int64"
      ]
     },
     "execution_count": 74,
     "metadata": {},
     "output_type": "execute_result"
    }
   ],
   "source": [
    "# check missing values in categorical variables in X_train\n",
    "\n",
    "X_train[categorical].isnull().sum()"
   ]
  },
  {
   "cell_type": "code",
   "execution_count": 75,
   "metadata": {
    "execution": {
     "iopub.execute_input": "2023-04-15T13:29:09.111274Z",
     "iopub.status.busy": "2023-04-15T13:29:09.110924Z",
     "iopub.status.idle": "2023-04-15T13:29:09.131928Z",
     "shell.execute_reply": "2023-04-15T13:29:09.130408Z",
     "shell.execute_reply.started": "2023-04-15T13:29:09.111211Z"
    }
   },
   "outputs": [
    {
     "data": {
      "text/plain": [
       "Location       0\n",
       "WindGustDir    0\n",
       "WindDir9am     0\n",
       "WindDir3pm     0\n",
       "RainToday      0\n",
       "dtype: int64"
      ]
     },
     "execution_count": 75,
     "metadata": {},
     "output_type": "execute_result"
    }
   ],
   "source": [
    "# check missing values in categorical variables in X_test\n",
    "\n",
    "X_test[categorical].isnull().sum()"
   ]
  },
  {
   "cell_type": "markdown",
   "metadata": {},
   "source": [
    "As a final check, I will check for missing values in X_train and X_test."
   ]
  },
  {
   "cell_type": "code",
   "execution_count": 76,
   "metadata": {
    "execution": {
     "iopub.execute_input": "2023-04-15T13:29:09.134576Z",
     "iopub.status.busy": "2023-04-15T13:29:09.134133Z",
     "iopub.status.idle": "2023-04-15T13:29:09.177556Z",
     "shell.execute_reply": "2023-04-15T13:29:09.176308Z",
     "shell.execute_reply.started": "2023-04-15T13:29:09.134503Z"
    }
   },
   "outputs": [
    {
     "data": {
      "text/plain": [
       "Location         0\n",
       "MinTemp          0\n",
       "MaxTemp          0\n",
       "Rainfall         0\n",
       "Evaporation      0\n",
       "Sunshine         0\n",
       "WindGustDir      0\n",
       "WindGustSpeed    0\n",
       "WindDir9am       0\n",
       "WindDir3pm       0\n",
       "WindSpeed9am     0\n",
       "WindSpeed3pm     0\n",
       "Humidity9am      0\n",
       "Humidity3pm      0\n",
       "Pressure9am      0\n",
       "Pressure3pm      0\n",
       "Cloud9am         0\n",
       "Cloud3pm         0\n",
       "Temp9am          0\n",
       "Temp3pm          0\n",
       "RainToday        0\n",
       "Year             0\n",
       "Month            0\n",
       "Day              0\n",
       "dtype: int64"
      ]
     },
     "execution_count": 76,
     "metadata": {},
     "output_type": "execute_result"
    }
   ],
   "source": [
    "# check missing values in X_train\n",
    "\n",
    "X_train.isnull().sum()"
   ]
  },
  {
   "cell_type": "code",
   "execution_count": 77,
   "metadata": {
    "execution": {
     "iopub.execute_input": "2023-04-15T13:29:09.179672Z",
     "iopub.status.busy": "2023-04-15T13:29:09.179212Z",
     "iopub.status.idle": "2023-04-15T13:29:09.197884Z",
     "shell.execute_reply": "2023-04-15T13:29:09.196767Z",
     "shell.execute_reply.started": "2023-04-15T13:29:09.179605Z"
    }
   },
   "outputs": [
    {
     "data": {
      "text/plain": [
       "Location         0\n",
       "MinTemp          0\n",
       "MaxTemp          0\n",
       "Rainfall         0\n",
       "Evaporation      0\n",
       "Sunshine         0\n",
       "WindGustDir      0\n",
       "WindGustSpeed    0\n",
       "WindDir9am       0\n",
       "WindDir3pm       0\n",
       "WindSpeed9am     0\n",
       "WindSpeed3pm     0\n",
       "Humidity9am      0\n",
       "Humidity3pm      0\n",
       "Pressure9am      0\n",
       "Pressure3pm      0\n",
       "Cloud9am         0\n",
       "Cloud3pm         0\n",
       "Temp9am          0\n",
       "Temp3pm          0\n",
       "RainToday        0\n",
       "Year             0\n",
       "Month            0\n",
       "Day              0\n",
       "dtype: int64"
      ]
     },
     "execution_count": 77,
     "metadata": {},
     "output_type": "execute_result"
    }
   ],
   "source": [
    "# check missing values in X_test\n",
    "\n",
    "X_test.isnull().sum()"
   ]
  },
  {
   "cell_type": "markdown",
   "metadata": {},
   "source": [
    "We can see that there are no missing values in X_train and X_test."
   ]
  },
  {
   "cell_type": "markdown",
   "metadata": {},
   "source": [
    "### 수치형 변수에서 이상치(Outlier) 다루기\n",
    "`강수량(Rainfall), 증발량(Evaporation), 풍속9am(WindSpeed9am), 풍속3pm(WindSpeed3pm)` 열에 이상치가 있음을 확인했습니다. 위 변수들에서 최댓값을 상한선으로 설정하고 이상치를 제거하기 위해 Top-coding 접근법(Top-coding approach)을 사용하겠습니다."
   ]
  },
  {
   "cell_type": "code",
   "execution_count": 78,
   "metadata": {
    "execution": {
     "iopub.execute_input": "2023-04-15T13:29:09.200442Z",
     "iopub.status.busy": "2023-04-15T13:29:09.199995Z",
     "iopub.status.idle": "2023-04-15T13:29:09.221084Z",
     "shell.execute_reply": "2023-04-15T13:29:09.219440Z",
     "shell.execute_reply.started": "2023-04-15T13:29:09.200375Z"
    }
   },
   "outputs": [],
   "source": [
    "def max_value(df3, variable, top):\n",
    "    return np.where(df3[variable]>top, top, df3[variable])\n",
    "\n",
    "for df3 in [X_train, X_test]:\n",
    "    df3['Rainfall'] = max_value(df3, 'Rainfall', 3.2)\n",
    "    df3['Evaporation'] = max_value(df3, 'Evaporation', 21.8)\n",
    "    df3['WindSpeed9am'] = max_value(df3, 'WindSpeed9am', 55)\n",
    "    df3['WindSpeed3pm'] = max_value(df3, 'WindSpeed3pm', 57)"
   ]
  },
  {
   "cell_type": "code",
   "execution_count": 79,
   "metadata": {
    "execution": {
     "iopub.execute_input": "2023-04-15T13:29:09.223791Z",
     "iopub.status.busy": "2023-04-15T13:29:09.223300Z",
     "iopub.status.idle": "2023-04-15T13:29:09.230845Z",
     "shell.execute_reply": "2023-04-15T13:29:09.230056Z",
     "shell.execute_reply.started": "2023-04-15T13:29:09.223717Z"
    }
   },
   "outputs": [
    {
     "data": {
      "text/plain": [
       "(3.2, 3.2)"
      ]
     },
     "execution_count": 79,
     "metadata": {},
     "output_type": "execute_result"
    }
   ],
   "source": [
    "X_train.Rainfall.max(), X_test.Rainfall.max()"
   ]
  },
  {
   "cell_type": "code",
   "execution_count": 80,
   "metadata": {
    "execution": {
     "iopub.execute_input": "2023-04-15T13:29:09.232585Z",
     "iopub.status.busy": "2023-04-15T13:29:09.232109Z",
     "iopub.status.idle": "2023-04-15T13:29:09.250312Z",
     "shell.execute_reply": "2023-04-15T13:29:09.248900Z",
     "shell.execute_reply.started": "2023-04-15T13:29:09.232535Z"
    }
   },
   "outputs": [
    {
     "data": {
      "text/plain": [
       "(21.8, 21.8)"
      ]
     },
     "execution_count": 80,
     "metadata": {},
     "output_type": "execute_result"
    }
   ],
   "source": [
    "X_train.Evaporation.max(), X_test.Evaporation.max()"
   ]
  },
  {
   "cell_type": "code",
   "execution_count": 81,
   "metadata": {
    "execution": {
     "iopub.execute_input": "2023-04-15T13:29:09.252273Z",
     "iopub.status.busy": "2023-04-15T13:29:09.251911Z",
     "iopub.status.idle": "2023-04-15T13:29:09.267719Z",
     "shell.execute_reply": "2023-04-15T13:29:09.266719Z",
     "shell.execute_reply.started": "2023-04-15T13:29:09.252207Z"
    }
   },
   "outputs": [
    {
     "data": {
      "text/plain": [
       "(55.0, 55.0)"
      ]
     },
     "execution_count": 81,
     "metadata": {},
     "output_type": "execute_result"
    }
   ],
   "source": [
    "X_train.WindSpeed9am.max(), X_test.WindSpeed9am.max()"
   ]
  },
  {
   "cell_type": "code",
   "execution_count": 82,
   "metadata": {
    "execution": {
     "iopub.execute_input": "2023-04-15T13:29:09.270245Z",
     "iopub.status.busy": "2023-04-15T13:29:09.269914Z",
     "iopub.status.idle": "2023-04-15T13:29:09.289008Z",
     "shell.execute_reply": "2023-04-15T13:29:09.287629Z",
     "shell.execute_reply.started": "2023-04-15T13:29:09.270193Z"
    }
   },
   "outputs": [
    {
     "data": {
      "text/plain": [
       "(57.0, 57.0)"
      ]
     },
     "execution_count": 82,
     "metadata": {},
     "output_type": "execute_result"
    }
   ],
   "source": [
    "X_train.WindSpeed3pm.max(), X_test.WindSpeed3pm.max()"
   ]
  },
  {
   "cell_type": "code",
   "execution_count": 83,
   "metadata": {
    "execution": {
     "iopub.execute_input": "2023-04-15T13:29:09.291465Z",
     "iopub.status.busy": "2023-04-15T13:29:09.290778Z",
     "iopub.status.idle": "2023-04-15T13:29:09.511959Z",
     "shell.execute_reply": "2023-04-15T13:29:09.510719Z",
     "shell.execute_reply.started": "2023-04-15T13:29:09.291407Z"
    }
   },
   "outputs": [
    {
     "data": {
      "text/html": [
       "<div>\n",
       "<style scoped>\n",
       "    .dataframe tbody tr th:only-of-type {\n",
       "        vertical-align: middle;\n",
       "    }\n",
       "\n",
       "    .dataframe tbody tr th {\n",
       "        vertical-align: top;\n",
       "    }\n",
       "\n",
       "    .dataframe thead th {\n",
       "        text-align: right;\n",
       "    }\n",
       "</style>\n",
       "<table border=\"1\" class=\"dataframe\">\n",
       "  <thead>\n",
       "    <tr style=\"text-align: right;\">\n",
       "      <th></th>\n",
       "      <th>MinTemp</th>\n",
       "      <th>MaxTemp</th>\n",
       "      <th>Rainfall</th>\n",
       "      <th>Evaporation</th>\n",
       "      <th>Sunshine</th>\n",
       "      <th>WindGustSpeed</th>\n",
       "      <th>WindSpeed9am</th>\n",
       "      <th>WindSpeed3pm</th>\n",
       "      <th>Humidity9am</th>\n",
       "      <th>Humidity3pm</th>\n",
       "      <th>Pressure9am</th>\n",
       "      <th>Pressure3pm</th>\n",
       "      <th>Cloud9am</th>\n",
       "      <th>Cloud3pm</th>\n",
       "      <th>Temp9am</th>\n",
       "      <th>Temp3pm</th>\n",
       "      <th>Year</th>\n",
       "      <th>Month</th>\n",
       "      <th>Day</th>\n",
       "    </tr>\n",
       "  </thead>\n",
       "  <tbody>\n",
       "    <tr>\n",
       "      <th>count</th>\n",
       "      <td>116368.000000</td>\n",
       "      <td>116368.000000</td>\n",
       "      <td>116368.000000</td>\n",
       "      <td>116368.000000</td>\n",
       "      <td>116368.000000</td>\n",
       "      <td>116368.000000</td>\n",
       "      <td>116368.000000</td>\n",
       "      <td>116368.000000</td>\n",
       "      <td>116368.000000</td>\n",
       "      <td>116368.000000</td>\n",
       "      <td>116368.000000</td>\n",
       "      <td>116368.000000</td>\n",
       "      <td>116368.000000</td>\n",
       "      <td>116368.000000</td>\n",
       "      <td>116368.000000</td>\n",
       "      <td>116368.000000</td>\n",
       "      <td>116368.000000</td>\n",
       "      <td>116368.000000</td>\n",
       "      <td>116368.000000</td>\n",
       "    </tr>\n",
       "    <tr>\n",
       "      <th>mean</th>\n",
       "      <td>12.190189</td>\n",
       "      <td>23.203107</td>\n",
       "      <td>0.670800</td>\n",
       "      <td>5.093362</td>\n",
       "      <td>7.982476</td>\n",
       "      <td>39.982091</td>\n",
       "      <td>14.029381</td>\n",
       "      <td>18.687466</td>\n",
       "      <td>68.950691</td>\n",
       "      <td>51.605828</td>\n",
       "      <td>1017.639891</td>\n",
       "      <td>1015.244946</td>\n",
       "      <td>4.664092</td>\n",
       "      <td>4.710728</td>\n",
       "      <td>16.979454</td>\n",
       "      <td>21.657195</td>\n",
       "      <td>2012.767058</td>\n",
       "      <td>6.395091</td>\n",
       "      <td>15.731954</td>\n",
       "    </tr>\n",
       "    <tr>\n",
       "      <th>std</th>\n",
       "      <td>6.366893</td>\n",
       "      <td>7.085408</td>\n",
       "      <td>1.181512</td>\n",
       "      <td>2.800200</td>\n",
       "      <td>2.761639</td>\n",
       "      <td>13.127953</td>\n",
       "      <td>8.835596</td>\n",
       "      <td>8.700618</td>\n",
       "      <td>18.811437</td>\n",
       "      <td>20.439999</td>\n",
       "      <td>6.728234</td>\n",
       "      <td>6.661517</td>\n",
       "      <td>2.280687</td>\n",
       "      <td>2.106040</td>\n",
       "      <td>6.449641</td>\n",
       "      <td>6.848293</td>\n",
       "      <td>2.538401</td>\n",
       "      <td>3.425451</td>\n",
       "      <td>8.796931</td>\n",
       "    </tr>\n",
       "    <tr>\n",
       "      <th>min</th>\n",
       "      <td>-8.500000</td>\n",
       "      <td>-4.800000</td>\n",
       "      <td>0.000000</td>\n",
       "      <td>0.000000</td>\n",
       "      <td>0.000000</td>\n",
       "      <td>6.000000</td>\n",
       "      <td>0.000000</td>\n",
       "      <td>0.000000</td>\n",
       "      <td>0.000000</td>\n",
       "      <td>0.000000</td>\n",
       "      <td>980.500000</td>\n",
       "      <td>977.100000</td>\n",
       "      <td>0.000000</td>\n",
       "      <td>0.000000</td>\n",
       "      <td>-7.200000</td>\n",
       "      <td>-5.400000</td>\n",
       "      <td>2007.000000</td>\n",
       "      <td>1.000000</td>\n",
       "      <td>1.000000</td>\n",
       "    </tr>\n",
       "    <tr>\n",
       "      <th>25%</th>\n",
       "      <td>7.700000</td>\n",
       "      <td>18.000000</td>\n",
       "      <td>0.000000</td>\n",
       "      <td>4.000000</td>\n",
       "      <td>8.200000</td>\n",
       "      <td>31.000000</td>\n",
       "      <td>7.000000</td>\n",
       "      <td>13.000000</td>\n",
       "      <td>57.000000</td>\n",
       "      <td>37.000000</td>\n",
       "      <td>1013.500000</td>\n",
       "      <td>1011.100000</td>\n",
       "      <td>3.000000</td>\n",
       "      <td>4.000000</td>\n",
       "      <td>12.300000</td>\n",
       "      <td>16.700000</td>\n",
       "      <td>2011.000000</td>\n",
       "      <td>3.000000</td>\n",
       "      <td>8.000000</td>\n",
       "    </tr>\n",
       "    <tr>\n",
       "      <th>50%</th>\n",
       "      <td>12.000000</td>\n",
       "      <td>22.600000</td>\n",
       "      <td>0.000000</td>\n",
       "      <td>4.700000</td>\n",
       "      <td>8.400000</td>\n",
       "      <td>39.000000</td>\n",
       "      <td>13.000000</td>\n",
       "      <td>19.000000</td>\n",
       "      <td>70.000000</td>\n",
       "      <td>52.000000</td>\n",
       "      <td>1017.600000</td>\n",
       "      <td>1015.200000</td>\n",
       "      <td>5.000000</td>\n",
       "      <td>5.000000</td>\n",
       "      <td>16.700000</td>\n",
       "      <td>21.100000</td>\n",
       "      <td>2013.000000</td>\n",
       "      <td>6.000000</td>\n",
       "      <td>16.000000</td>\n",
       "    </tr>\n",
       "    <tr>\n",
       "      <th>75%</th>\n",
       "      <td>16.800000</td>\n",
       "      <td>28.200000</td>\n",
       "      <td>0.600000</td>\n",
       "      <td>5.200000</td>\n",
       "      <td>8.600000</td>\n",
       "      <td>46.000000</td>\n",
       "      <td>19.000000</td>\n",
       "      <td>24.000000</td>\n",
       "      <td>83.000000</td>\n",
       "      <td>65.000000</td>\n",
       "      <td>1021.800000</td>\n",
       "      <td>1019.400000</td>\n",
       "      <td>6.000000</td>\n",
       "      <td>6.000000</td>\n",
       "      <td>21.500000</td>\n",
       "      <td>26.200000</td>\n",
       "      <td>2015.000000</td>\n",
       "      <td>9.000000</td>\n",
       "      <td>23.000000</td>\n",
       "    </tr>\n",
       "    <tr>\n",
       "      <th>max</th>\n",
       "      <td>31.900000</td>\n",
       "      <td>48.100000</td>\n",
       "      <td>3.200000</td>\n",
       "      <td>21.800000</td>\n",
       "      <td>14.500000</td>\n",
       "      <td>135.000000</td>\n",
       "      <td>55.000000</td>\n",
       "      <td>57.000000</td>\n",
       "      <td>100.000000</td>\n",
       "      <td>100.000000</td>\n",
       "      <td>1041.000000</td>\n",
       "      <td>1039.600000</td>\n",
       "      <td>9.000000</td>\n",
       "      <td>8.000000</td>\n",
       "      <td>40.200000</td>\n",
       "      <td>46.700000</td>\n",
       "      <td>2017.000000</td>\n",
       "      <td>12.000000</td>\n",
       "      <td>31.000000</td>\n",
       "    </tr>\n",
       "  </tbody>\n",
       "</table>\n",
       "</div>"
      ],
      "text/plain": [
       "             MinTemp        MaxTemp       Rainfall    Evaporation  \\\n",
       "count  116368.000000  116368.000000  116368.000000  116368.000000   \n",
       "mean       12.190189      23.203107       0.670800       5.093362   \n",
       "std         6.366893       7.085408       1.181512       2.800200   \n",
       "min        -8.500000      -4.800000       0.000000       0.000000   \n",
       "25%         7.700000      18.000000       0.000000       4.000000   \n",
       "50%        12.000000      22.600000       0.000000       4.700000   \n",
       "75%        16.800000      28.200000       0.600000       5.200000   \n",
       "max        31.900000      48.100000       3.200000      21.800000   \n",
       "\n",
       "            Sunshine  WindGustSpeed   WindSpeed9am   WindSpeed3pm  \\\n",
       "count  116368.000000  116368.000000  116368.000000  116368.000000   \n",
       "mean        7.982476      39.982091      14.029381      18.687466   \n",
       "std         2.761639      13.127953       8.835596       8.700618   \n",
       "min         0.000000       6.000000       0.000000       0.000000   \n",
       "25%         8.200000      31.000000       7.000000      13.000000   \n",
       "50%         8.400000      39.000000      13.000000      19.000000   \n",
       "75%         8.600000      46.000000      19.000000      24.000000   \n",
       "max        14.500000     135.000000      55.000000      57.000000   \n",
       "\n",
       "         Humidity9am    Humidity3pm    Pressure9am    Pressure3pm  \\\n",
       "count  116368.000000  116368.000000  116368.000000  116368.000000   \n",
       "mean       68.950691      51.605828    1017.639891    1015.244946   \n",
       "std        18.811437      20.439999       6.728234       6.661517   \n",
       "min         0.000000       0.000000     980.500000     977.100000   \n",
       "25%        57.000000      37.000000    1013.500000    1011.100000   \n",
       "50%        70.000000      52.000000    1017.600000    1015.200000   \n",
       "75%        83.000000      65.000000    1021.800000    1019.400000   \n",
       "max       100.000000     100.000000    1041.000000    1039.600000   \n",
       "\n",
       "            Cloud9am       Cloud3pm        Temp9am        Temp3pm  \\\n",
       "count  116368.000000  116368.000000  116368.000000  116368.000000   \n",
       "mean        4.664092       4.710728      16.979454      21.657195   \n",
       "std         2.280687       2.106040       6.449641       6.848293   \n",
       "min         0.000000       0.000000      -7.200000      -5.400000   \n",
       "25%         3.000000       4.000000      12.300000      16.700000   \n",
       "50%         5.000000       5.000000      16.700000      21.100000   \n",
       "75%         6.000000       6.000000      21.500000      26.200000   \n",
       "max         9.000000       8.000000      40.200000      46.700000   \n",
       "\n",
       "                Year          Month            Day  \n",
       "count  116368.000000  116368.000000  116368.000000  \n",
       "mean     2012.767058       6.395091      15.731954  \n",
       "std         2.538401       3.425451       8.796931  \n",
       "min      2007.000000       1.000000       1.000000  \n",
       "25%      2011.000000       3.000000       8.000000  \n",
       "50%      2013.000000       6.000000      16.000000  \n",
       "75%      2015.000000       9.000000      23.000000  \n",
       "max      2017.000000      12.000000      31.000000  "
      ]
     },
     "execution_count": 83,
     "metadata": {},
     "output_type": "execute_result"
    }
   ],
   "source": [
    "X_train[numerical].describe()"
   ]
  },
  {
   "cell_type": "markdown",
   "metadata": {},
   "source": [
    "이제 `Rainfall, Evaporation, WindSpeed9am, WindSpeed3pm` 열에서 발견되었던 이상치(outliers)들이 잘린 것을 확인할 수 있습니다."
   ]
  },
  {
   "cell_type": "markdown",
   "metadata": {},
   "source": [
    "### Encode categorical variables"
   ]
  },
  {
   "cell_type": "code",
   "execution_count": 84,
   "metadata": {
    "execution": {
     "iopub.execute_input": "2023-04-15T13:29:09.514559Z",
     "iopub.status.busy": "2023-04-15T13:29:09.513860Z",
     "iopub.status.idle": "2023-04-15T13:29:09.521567Z",
     "shell.execute_reply": "2023-04-15T13:29:09.520356Z",
     "shell.execute_reply.started": "2023-04-15T13:29:09.514483Z"
    }
   },
   "outputs": [
    {
     "data": {
      "text/plain": [
       "['Location', 'WindGustDir', 'WindDir9am', 'WindDir3pm', 'RainToday']"
      ]
     },
     "execution_count": 84,
     "metadata": {},
     "output_type": "execute_result"
    }
   ],
   "source": [
    "categorical"
   ]
  },
  {
   "cell_type": "code",
   "execution_count": 85,
   "metadata": {
    "execution": {
     "iopub.execute_input": "2023-04-15T13:29:09.523420Z",
     "iopub.status.busy": "2023-04-15T13:29:09.523042Z",
     "iopub.status.idle": "2023-04-15T13:29:09.561125Z",
     "shell.execute_reply": "2023-04-15T13:29:09.559792Z",
     "shell.execute_reply.started": "2023-04-15T13:29:09.523352Z"
    }
   },
   "outputs": [
    {
     "data": {
      "text/html": [
       "<div>\n",
       "<style scoped>\n",
       "    .dataframe tbody tr th:only-of-type {\n",
       "        vertical-align: middle;\n",
       "    }\n",
       "\n",
       "    .dataframe tbody tr th {\n",
       "        vertical-align: top;\n",
       "    }\n",
       "\n",
       "    .dataframe thead th {\n",
       "        text-align: right;\n",
       "    }\n",
       "</style>\n",
       "<table border=\"1\" class=\"dataframe\">\n",
       "  <thead>\n",
       "    <tr style=\"text-align: right;\">\n",
       "      <th></th>\n",
       "      <th>Location</th>\n",
       "      <th>WindGustDir</th>\n",
       "      <th>WindDir9am</th>\n",
       "      <th>WindDir3pm</th>\n",
       "      <th>RainToday</th>\n",
       "    </tr>\n",
       "  </thead>\n",
       "  <tbody>\n",
       "    <tr>\n",
       "      <th>22926</th>\n",
       "      <td>NorfolkIsland</td>\n",
       "      <td>ESE</td>\n",
       "      <td>ESE</td>\n",
       "      <td>ESE</td>\n",
       "      <td>No</td>\n",
       "    </tr>\n",
       "    <tr>\n",
       "      <th>80735</th>\n",
       "      <td>Watsonia</td>\n",
       "      <td>NE</td>\n",
       "      <td>NNW</td>\n",
       "      <td>NNE</td>\n",
       "      <td>No</td>\n",
       "    </tr>\n",
       "    <tr>\n",
       "      <th>121764</th>\n",
       "      <td>Perth</td>\n",
       "      <td>SW</td>\n",
       "      <td>N</td>\n",
       "      <td>SW</td>\n",
       "      <td>Yes</td>\n",
       "    </tr>\n",
       "    <tr>\n",
       "      <th>139821</th>\n",
       "      <td>Darwin</td>\n",
       "      <td>ESE</td>\n",
       "      <td>ESE</td>\n",
       "      <td>E</td>\n",
       "      <td>No</td>\n",
       "    </tr>\n",
       "    <tr>\n",
       "      <th>1867</th>\n",
       "      <td>Albury</td>\n",
       "      <td>E</td>\n",
       "      <td>ESE</td>\n",
       "      <td>E</td>\n",
       "      <td>Yes</td>\n",
       "    </tr>\n",
       "  </tbody>\n",
       "</table>\n",
       "</div>"
      ],
      "text/plain": [
       "             Location WindGustDir WindDir9am WindDir3pm RainToday\n",
       "22926   NorfolkIsland         ESE        ESE        ESE        No\n",
       "80735        Watsonia          NE        NNW        NNE        No\n",
       "121764          Perth          SW          N         SW       Yes\n",
       "139821         Darwin         ESE        ESE          E        No\n",
       "1867           Albury           E        ESE          E       Yes"
      ]
     },
     "execution_count": 85,
     "metadata": {},
     "output_type": "execute_result"
    }
   ],
   "source": [
    "X_train[categorical].head()"
   ]
  },
  {
   "cell_type": "code",
   "execution_count": 86,
   "metadata": {
    "execution": {
     "iopub.execute_input": "2023-04-15T13:29:09.563192Z",
     "iopub.status.busy": "2023-04-15T13:29:09.562766Z",
     "iopub.status.idle": "2023-04-15T13:29:10.022824Z",
     "shell.execute_reply": "2023-04-15T13:29:10.020731Z",
     "shell.execute_reply.started": "2023-04-15T13:29:09.563099Z"
    }
   },
   "outputs": [],
   "source": [
    "# encode RainToday variable\n",
    "\n",
    "import category_encoders as ce\n",
    "\n",
    "encoder = ce.BinaryEncoder(cols=['RainToday'])\n",
    "\n",
    "X_train = encoder.fit_transform(X_train)\n",
    "\n",
    "X_test = encoder.transform(X_test)"
   ]
  },
  {
   "cell_type": "code",
   "execution_count": 87,
   "metadata": {
    "execution": {
     "iopub.execute_input": "2023-04-15T13:29:10.025052Z",
     "iopub.status.busy": "2023-04-15T13:29:10.024249Z",
     "iopub.status.idle": "2023-04-15T13:29:10.064282Z",
     "shell.execute_reply": "2023-04-15T13:29:10.063196Z",
     "shell.execute_reply.started": "2023-04-15T13:29:10.024936Z"
    }
   },
   "outputs": [
    {
     "data": {
      "text/html": [
       "<div>\n",
       "<style scoped>\n",
       "    .dataframe tbody tr th:only-of-type {\n",
       "        vertical-align: middle;\n",
       "    }\n",
       "\n",
       "    .dataframe tbody tr th {\n",
       "        vertical-align: top;\n",
       "    }\n",
       "\n",
       "    .dataframe thead th {\n",
       "        text-align: right;\n",
       "    }\n",
       "</style>\n",
       "<table border=\"1\" class=\"dataframe\">\n",
       "  <thead>\n",
       "    <tr style=\"text-align: right;\">\n",
       "      <th></th>\n",
       "      <th>Location</th>\n",
       "      <th>MinTemp</th>\n",
       "      <th>MaxTemp</th>\n",
       "      <th>Rainfall</th>\n",
       "      <th>Evaporation</th>\n",
       "      <th>Sunshine</th>\n",
       "      <th>WindGustDir</th>\n",
       "      <th>WindGustSpeed</th>\n",
       "      <th>WindDir9am</th>\n",
       "      <th>WindDir3pm</th>\n",
       "      <th>...</th>\n",
       "      <th>Pressure3pm</th>\n",
       "      <th>Cloud9am</th>\n",
       "      <th>Cloud3pm</th>\n",
       "      <th>Temp9am</th>\n",
       "      <th>Temp3pm</th>\n",
       "      <th>RainToday_0</th>\n",
       "      <th>RainToday_1</th>\n",
       "      <th>Year</th>\n",
       "      <th>Month</th>\n",
       "      <th>Day</th>\n",
       "    </tr>\n",
       "  </thead>\n",
       "  <tbody>\n",
       "    <tr>\n",
       "      <th>22926</th>\n",
       "      <td>NorfolkIsland</td>\n",
       "      <td>18.8</td>\n",
       "      <td>23.7</td>\n",
       "      <td>0.2</td>\n",
       "      <td>5.0</td>\n",
       "      <td>7.3</td>\n",
       "      <td>ESE</td>\n",
       "      <td>52.0</td>\n",
       "      <td>ESE</td>\n",
       "      <td>ESE</td>\n",
       "      <td>...</td>\n",
       "      <td>1013.9</td>\n",
       "      <td>5.0</td>\n",
       "      <td>7.0</td>\n",
       "      <td>21.4</td>\n",
       "      <td>22.2</td>\n",
       "      <td>0</td>\n",
       "      <td>1</td>\n",
       "      <td>2014</td>\n",
       "      <td>3</td>\n",
       "      <td>12</td>\n",
       "    </tr>\n",
       "    <tr>\n",
       "      <th>80735</th>\n",
       "      <td>Watsonia</td>\n",
       "      <td>9.3</td>\n",
       "      <td>24.0</td>\n",
       "      <td>0.2</td>\n",
       "      <td>1.6</td>\n",
       "      <td>10.9</td>\n",
       "      <td>NE</td>\n",
       "      <td>48.0</td>\n",
       "      <td>NNW</td>\n",
       "      <td>NNE</td>\n",
       "      <td>...</td>\n",
       "      <td>1014.6</td>\n",
       "      <td>3.0</td>\n",
       "      <td>5.0</td>\n",
       "      <td>14.3</td>\n",
       "      <td>23.2</td>\n",
       "      <td>0</td>\n",
       "      <td>1</td>\n",
       "      <td>2016</td>\n",
       "      <td>10</td>\n",
       "      <td>6</td>\n",
       "    </tr>\n",
       "    <tr>\n",
       "      <th>121764</th>\n",
       "      <td>Perth</td>\n",
       "      <td>10.9</td>\n",
       "      <td>22.2</td>\n",
       "      <td>1.4</td>\n",
       "      <td>1.2</td>\n",
       "      <td>9.6</td>\n",
       "      <td>SW</td>\n",
       "      <td>26.0</td>\n",
       "      <td>N</td>\n",
       "      <td>SW</td>\n",
       "      <td>...</td>\n",
       "      <td>1014.9</td>\n",
       "      <td>1.0</td>\n",
       "      <td>2.0</td>\n",
       "      <td>16.6</td>\n",
       "      <td>21.5</td>\n",
       "      <td>1</td>\n",
       "      <td>0</td>\n",
       "      <td>2011</td>\n",
       "      <td>8</td>\n",
       "      <td>31</td>\n",
       "    </tr>\n",
       "    <tr>\n",
       "      <th>139821</th>\n",
       "      <td>Darwin</td>\n",
       "      <td>19.3</td>\n",
       "      <td>29.9</td>\n",
       "      <td>0.0</td>\n",
       "      <td>9.2</td>\n",
       "      <td>11.0</td>\n",
       "      <td>ESE</td>\n",
       "      <td>43.0</td>\n",
       "      <td>ESE</td>\n",
       "      <td>E</td>\n",
       "      <td>...</td>\n",
       "      <td>1012.1</td>\n",
       "      <td>1.0</td>\n",
       "      <td>1.0</td>\n",
       "      <td>23.2</td>\n",
       "      <td>29.1</td>\n",
       "      <td>0</td>\n",
       "      <td>1</td>\n",
       "      <td>2010</td>\n",
       "      <td>6</td>\n",
       "      <td>11</td>\n",
       "    </tr>\n",
       "    <tr>\n",
       "      <th>1867</th>\n",
       "      <td>Albury</td>\n",
       "      <td>15.7</td>\n",
       "      <td>17.6</td>\n",
       "      <td>3.2</td>\n",
       "      <td>4.7</td>\n",
       "      <td>8.4</td>\n",
       "      <td>E</td>\n",
       "      <td>20.0</td>\n",
       "      <td>ESE</td>\n",
       "      <td>E</td>\n",
       "      <td>...</td>\n",
       "      <td>1010.5</td>\n",
       "      <td>8.0</td>\n",
       "      <td>8.0</td>\n",
       "      <td>16.5</td>\n",
       "      <td>17.3</td>\n",
       "      <td>1</td>\n",
       "      <td>0</td>\n",
       "      <td>2014</td>\n",
       "      <td>4</td>\n",
       "      <td>10</td>\n",
       "    </tr>\n",
       "  </tbody>\n",
       "</table>\n",
       "<p>5 rows × 25 columns</p>\n",
       "</div>"
      ],
      "text/plain": [
       "             Location  MinTemp  MaxTemp  Rainfall  Evaporation  Sunshine  \\\n",
       "22926   NorfolkIsland     18.8     23.7       0.2          5.0       7.3   \n",
       "80735        Watsonia      9.3     24.0       0.2          1.6      10.9   \n",
       "121764          Perth     10.9     22.2       1.4          1.2       9.6   \n",
       "139821         Darwin     19.3     29.9       0.0          9.2      11.0   \n",
       "1867           Albury     15.7     17.6       3.2          4.7       8.4   \n",
       "\n",
       "       WindGustDir  WindGustSpeed WindDir9am WindDir3pm  ...  Pressure3pm  \\\n",
       "22926          ESE           52.0        ESE        ESE  ...       1013.9   \n",
       "80735           NE           48.0        NNW        NNE  ...       1014.6   \n",
       "121764          SW           26.0          N         SW  ...       1014.9   \n",
       "139821         ESE           43.0        ESE          E  ...       1012.1   \n",
       "1867             E           20.0        ESE          E  ...       1010.5   \n",
       "\n",
       "        Cloud9am  Cloud3pm  Temp9am  Temp3pm  RainToday_0  RainToday_1  Year  \\\n",
       "22926        5.0       7.0     21.4     22.2            0            1  2014   \n",
       "80735        3.0       5.0     14.3     23.2            0            1  2016   \n",
       "121764       1.0       2.0     16.6     21.5            1            0  2011   \n",
       "139821       1.0       1.0     23.2     29.1            0            1  2010   \n",
       "1867         8.0       8.0     16.5     17.3            1            0  2014   \n",
       "\n",
       "        Month  Day  \n",
       "22926       3   12  \n",
       "80735      10    6  \n",
       "121764      8   31  \n",
       "139821      6   11  \n",
       "1867        4   10  \n",
       "\n",
       "[5 rows x 25 columns]"
      ]
     },
     "execution_count": 87,
     "metadata": {},
     "output_type": "execute_result"
    }
   ],
   "source": [
    "X_train.head()"
   ]
  },
  {
   "cell_type": "markdown",
   "metadata": {},
   "source": [
    "RainToday 변수에서 두 가지 추가 변수 `RainToday_0` 및 `RainToday_1`이 생성된 것을 확인할 수 있습니다.\n",
    "\n",
    "이제 X_train 훈련 세트를 만들어 보겠습니다."
   ]
  },
  {
   "cell_type": "code",
   "execution_count": 88,
   "metadata": {
    "execution": {
     "iopub.execute_input": "2023-04-15T13:29:10.066037Z",
     "iopub.status.busy": "2023-04-15T13:29:10.065685Z",
     "iopub.status.idle": "2023-04-15T13:29:10.147794Z",
     "shell.execute_reply": "2023-04-15T13:29:10.146381Z",
     "shell.execute_reply.started": "2023-04-15T13:29:10.065973Z"
    }
   },
   "outputs": [],
   "source": [
    "X_train = pd.concat([X_train[numerical], X_train[['RainToday_0', 'RainToday_1']],\n",
    "                     pd.get_dummies(X_train.Location), \n",
    "                     pd.get_dummies(X_train.WindGustDir),\n",
    "                     pd.get_dummies(X_train.WindDir9am),\n",
    "                     pd.get_dummies(X_train.WindDir3pm)], axis=1)"
   ]
  },
  {
   "cell_type": "code",
   "execution_count": 89,
   "metadata": {
    "execution": {
     "iopub.execute_input": "2023-04-15T13:29:10.151821Z",
     "iopub.status.busy": "2023-04-15T13:29:10.151032Z",
     "iopub.status.idle": "2023-04-15T13:29:10.189269Z",
     "shell.execute_reply": "2023-04-15T13:29:10.187414Z",
     "shell.execute_reply.started": "2023-04-15T13:29:10.151681Z"
    }
   },
   "outputs": [
    {
     "data": {
      "text/html": [
       "<div>\n",
       "<style scoped>\n",
       "    .dataframe tbody tr th:only-of-type {\n",
       "        vertical-align: middle;\n",
       "    }\n",
       "\n",
       "    .dataframe tbody tr th {\n",
       "        vertical-align: top;\n",
       "    }\n",
       "\n",
       "    .dataframe thead th {\n",
       "        text-align: right;\n",
       "    }\n",
       "</style>\n",
       "<table border=\"1\" class=\"dataframe\">\n",
       "  <thead>\n",
       "    <tr style=\"text-align: right;\">\n",
       "      <th></th>\n",
       "      <th>MinTemp</th>\n",
       "      <th>MaxTemp</th>\n",
       "      <th>Rainfall</th>\n",
       "      <th>Evaporation</th>\n",
       "      <th>Sunshine</th>\n",
       "      <th>WindGustSpeed</th>\n",
       "      <th>WindSpeed9am</th>\n",
       "      <th>WindSpeed3pm</th>\n",
       "      <th>Humidity9am</th>\n",
       "      <th>Humidity3pm</th>\n",
       "      <th>...</th>\n",
       "      <th>NNW</th>\n",
       "      <th>NW</th>\n",
       "      <th>S</th>\n",
       "      <th>SE</th>\n",
       "      <th>SSE</th>\n",
       "      <th>SSW</th>\n",
       "      <th>SW</th>\n",
       "      <th>W</th>\n",
       "      <th>WNW</th>\n",
       "      <th>WSW</th>\n",
       "    </tr>\n",
       "  </thead>\n",
       "  <tbody>\n",
       "    <tr>\n",
       "      <th>22926</th>\n",
       "      <td>18.8</td>\n",
       "      <td>23.7</td>\n",
       "      <td>0.2</td>\n",
       "      <td>5.0</td>\n",
       "      <td>7.3</td>\n",
       "      <td>52.0</td>\n",
       "      <td>31.0</td>\n",
       "      <td>28.0</td>\n",
       "      <td>74.0</td>\n",
       "      <td>73.0</td>\n",
       "      <td>...</td>\n",
       "      <td>0</td>\n",
       "      <td>0</td>\n",
       "      <td>0</td>\n",
       "      <td>0</td>\n",
       "      <td>0</td>\n",
       "      <td>0</td>\n",
       "      <td>0</td>\n",
       "      <td>0</td>\n",
       "      <td>0</td>\n",
       "      <td>0</td>\n",
       "    </tr>\n",
       "    <tr>\n",
       "      <th>80735</th>\n",
       "      <td>9.3</td>\n",
       "      <td>24.0</td>\n",
       "      <td>0.2</td>\n",
       "      <td>1.6</td>\n",
       "      <td>10.9</td>\n",
       "      <td>48.0</td>\n",
       "      <td>13.0</td>\n",
       "      <td>24.0</td>\n",
       "      <td>74.0</td>\n",
       "      <td>55.0</td>\n",
       "      <td>...</td>\n",
       "      <td>0</td>\n",
       "      <td>0</td>\n",
       "      <td>0</td>\n",
       "      <td>0</td>\n",
       "      <td>0</td>\n",
       "      <td>0</td>\n",
       "      <td>0</td>\n",
       "      <td>0</td>\n",
       "      <td>0</td>\n",
       "      <td>0</td>\n",
       "    </tr>\n",
       "    <tr>\n",
       "      <th>121764</th>\n",
       "      <td>10.9</td>\n",
       "      <td>22.2</td>\n",
       "      <td>1.4</td>\n",
       "      <td>1.2</td>\n",
       "      <td>9.6</td>\n",
       "      <td>26.0</td>\n",
       "      <td>0.0</td>\n",
       "      <td>11.0</td>\n",
       "      <td>85.0</td>\n",
       "      <td>47.0</td>\n",
       "      <td>...</td>\n",
       "      <td>0</td>\n",
       "      <td>0</td>\n",
       "      <td>0</td>\n",
       "      <td>0</td>\n",
       "      <td>0</td>\n",
       "      <td>0</td>\n",
       "      <td>1</td>\n",
       "      <td>0</td>\n",
       "      <td>0</td>\n",
       "      <td>0</td>\n",
       "    </tr>\n",
       "    <tr>\n",
       "      <th>139821</th>\n",
       "      <td>19.3</td>\n",
       "      <td>29.9</td>\n",
       "      <td>0.0</td>\n",
       "      <td>9.2</td>\n",
       "      <td>11.0</td>\n",
       "      <td>43.0</td>\n",
       "      <td>26.0</td>\n",
       "      <td>17.0</td>\n",
       "      <td>44.0</td>\n",
       "      <td>37.0</td>\n",
       "      <td>...</td>\n",
       "      <td>0</td>\n",
       "      <td>0</td>\n",
       "      <td>0</td>\n",
       "      <td>0</td>\n",
       "      <td>0</td>\n",
       "      <td>0</td>\n",
       "      <td>0</td>\n",
       "      <td>0</td>\n",
       "      <td>0</td>\n",
       "      <td>0</td>\n",
       "    </tr>\n",
       "    <tr>\n",
       "      <th>1867</th>\n",
       "      <td>15.7</td>\n",
       "      <td>17.6</td>\n",
       "      <td>3.2</td>\n",
       "      <td>4.7</td>\n",
       "      <td>8.4</td>\n",
       "      <td>20.0</td>\n",
       "      <td>11.0</td>\n",
       "      <td>13.0</td>\n",
       "      <td>100.0</td>\n",
       "      <td>100.0</td>\n",
       "      <td>...</td>\n",
       "      <td>0</td>\n",
       "      <td>0</td>\n",
       "      <td>0</td>\n",
       "      <td>0</td>\n",
       "      <td>0</td>\n",
       "      <td>0</td>\n",
       "      <td>0</td>\n",
       "      <td>0</td>\n",
       "      <td>0</td>\n",
       "      <td>0</td>\n",
       "    </tr>\n",
       "  </tbody>\n",
       "</table>\n",
       "<p>5 rows × 118 columns</p>\n",
       "</div>"
      ],
      "text/plain": [
       "        MinTemp  MaxTemp  Rainfall  Evaporation  Sunshine  WindGustSpeed  \\\n",
       "22926      18.8     23.7       0.2          5.0       7.3           52.0   \n",
       "80735       9.3     24.0       0.2          1.6      10.9           48.0   \n",
       "121764     10.9     22.2       1.4          1.2       9.6           26.0   \n",
       "139821     19.3     29.9       0.0          9.2      11.0           43.0   \n",
       "1867       15.7     17.6       3.2          4.7       8.4           20.0   \n",
       "\n",
       "        WindSpeed9am  WindSpeed3pm  Humidity9am  Humidity3pm  ...  NNW  NW  S  \\\n",
       "22926           31.0          28.0         74.0         73.0  ...    0   0  0   \n",
       "80735           13.0          24.0         74.0         55.0  ...    0   0  0   \n",
       "121764           0.0          11.0         85.0         47.0  ...    0   0  0   \n",
       "139821          26.0          17.0         44.0         37.0  ...    0   0  0   \n",
       "1867            11.0          13.0        100.0        100.0  ...    0   0  0   \n",
       "\n",
       "        SE  SSE  SSW  SW  W  WNW  WSW  \n",
       "22926    0    0    0   0  0    0    0  \n",
       "80735    0    0    0   0  0    0    0  \n",
       "121764   0    0    0   1  0    0    0  \n",
       "139821   0    0    0   0  0    0    0  \n",
       "1867     0    0    0   0  0    0    0  \n",
       "\n",
       "[5 rows x 118 columns]"
      ]
     },
     "execution_count": 89,
     "metadata": {},
     "output_type": "execute_result"
    }
   ],
   "source": [
    "X_train.head()"
   ]
  },
  {
   "cell_type": "markdown",
   "metadata": {},
   "source": [
    "마찬가지로, `X_test` 테스트 세트를 생성하겠습니다."
   ]
  },
  {
   "cell_type": "code",
   "execution_count": 90,
   "metadata": {
    "execution": {
     "iopub.execute_input": "2023-04-15T13:29:10.192180Z",
     "iopub.status.busy": "2023-04-15T13:29:10.191417Z",
     "iopub.status.idle": "2023-04-15T13:29:10.226168Z",
     "shell.execute_reply": "2023-04-15T13:29:10.224862Z",
     "shell.execute_reply.started": "2023-04-15T13:29:10.191869Z"
    }
   },
   "outputs": [],
   "source": [
    "X_test = pd.concat([X_test[numerical], X_test[['RainToday_0', 'RainToday_1']],\n",
    "                     pd.get_dummies(X_test.Location), \n",
    "                     pd.get_dummies(X_test.WindGustDir),\n",
    "                     pd.get_dummies(X_test.WindDir9am),\n",
    "                     pd.get_dummies(X_test.WindDir3pm)], axis=1)"
   ]
  },
  {
   "cell_type": "code",
   "execution_count": 91,
   "metadata": {
    "execution": {
     "iopub.execute_input": "2023-04-15T13:29:10.229435Z",
     "iopub.status.busy": "2023-04-15T13:29:10.228914Z",
     "iopub.status.idle": "2023-04-15T13:29:10.261227Z",
     "shell.execute_reply": "2023-04-15T13:29:10.260166Z",
     "shell.execute_reply.started": "2023-04-15T13:29:10.229353Z"
    }
   },
   "outputs": [
    {
     "data": {
      "text/html": [
       "<div>\n",
       "<style scoped>\n",
       "    .dataframe tbody tr th:only-of-type {\n",
       "        vertical-align: middle;\n",
       "    }\n",
       "\n",
       "    .dataframe tbody tr th {\n",
       "        vertical-align: top;\n",
       "    }\n",
       "\n",
       "    .dataframe thead th {\n",
       "        text-align: right;\n",
       "    }\n",
       "</style>\n",
       "<table border=\"1\" class=\"dataframe\">\n",
       "  <thead>\n",
       "    <tr style=\"text-align: right;\">\n",
       "      <th></th>\n",
       "      <th>MinTemp</th>\n",
       "      <th>MaxTemp</th>\n",
       "      <th>Rainfall</th>\n",
       "      <th>Evaporation</th>\n",
       "      <th>Sunshine</th>\n",
       "      <th>WindGustSpeed</th>\n",
       "      <th>WindSpeed9am</th>\n",
       "      <th>WindSpeed3pm</th>\n",
       "      <th>Humidity9am</th>\n",
       "      <th>Humidity3pm</th>\n",
       "      <th>...</th>\n",
       "      <th>NNW</th>\n",
       "      <th>NW</th>\n",
       "      <th>S</th>\n",
       "      <th>SE</th>\n",
       "      <th>SSE</th>\n",
       "      <th>SSW</th>\n",
       "      <th>SW</th>\n",
       "      <th>W</th>\n",
       "      <th>WNW</th>\n",
       "      <th>WSW</th>\n",
       "    </tr>\n",
       "  </thead>\n",
       "  <tbody>\n",
       "    <tr>\n",
       "      <th>138175</th>\n",
       "      <td>21.9</td>\n",
       "      <td>39.4</td>\n",
       "      <td>1.6</td>\n",
       "      <td>11.2</td>\n",
       "      <td>11.5</td>\n",
       "      <td>57.0</td>\n",
       "      <td>20.0</td>\n",
       "      <td>33.0</td>\n",
       "      <td>50.0</td>\n",
       "      <td>26.0</td>\n",
       "      <td>...</td>\n",
       "      <td>0</td>\n",
       "      <td>0</td>\n",
       "      <td>0</td>\n",
       "      <td>0</td>\n",
       "      <td>0</td>\n",
       "      <td>0</td>\n",
       "      <td>0</td>\n",
       "      <td>0</td>\n",
       "      <td>0</td>\n",
       "      <td>0</td>\n",
       "    </tr>\n",
       "    <tr>\n",
       "      <th>38638</th>\n",
       "      <td>20.5</td>\n",
       "      <td>37.5</td>\n",
       "      <td>0.0</td>\n",
       "      <td>9.2</td>\n",
       "      <td>8.4</td>\n",
       "      <td>59.0</td>\n",
       "      <td>17.0</td>\n",
       "      <td>20.0</td>\n",
       "      <td>47.0</td>\n",
       "      <td>22.0</td>\n",
       "      <td>...</td>\n",
       "      <td>0</td>\n",
       "      <td>0</td>\n",
       "      <td>0</td>\n",
       "      <td>0</td>\n",
       "      <td>0</td>\n",
       "      <td>0</td>\n",
       "      <td>0</td>\n",
       "      <td>0</td>\n",
       "      <td>0</td>\n",
       "      <td>0</td>\n",
       "    </tr>\n",
       "    <tr>\n",
       "      <th>124058</th>\n",
       "      <td>5.1</td>\n",
       "      <td>17.2</td>\n",
       "      <td>0.2</td>\n",
       "      <td>4.7</td>\n",
       "      <td>8.4</td>\n",
       "      <td>50.0</td>\n",
       "      <td>28.0</td>\n",
       "      <td>22.0</td>\n",
       "      <td>68.0</td>\n",
       "      <td>51.0</td>\n",
       "      <td>...</td>\n",
       "      <td>0</td>\n",
       "      <td>0</td>\n",
       "      <td>0</td>\n",
       "      <td>0</td>\n",
       "      <td>0</td>\n",
       "      <td>0</td>\n",
       "      <td>0</td>\n",
       "      <td>1</td>\n",
       "      <td>0</td>\n",
       "      <td>0</td>\n",
       "    </tr>\n",
       "    <tr>\n",
       "      <th>99214</th>\n",
       "      <td>11.9</td>\n",
       "      <td>16.8</td>\n",
       "      <td>1.0</td>\n",
       "      <td>4.7</td>\n",
       "      <td>8.4</td>\n",
       "      <td>28.0</td>\n",
       "      <td>11.0</td>\n",
       "      <td>13.0</td>\n",
       "      <td>80.0</td>\n",
       "      <td>79.0</td>\n",
       "      <td>...</td>\n",
       "      <td>0</td>\n",
       "      <td>0</td>\n",
       "      <td>0</td>\n",
       "      <td>0</td>\n",
       "      <td>0</td>\n",
       "      <td>0</td>\n",
       "      <td>1</td>\n",
       "      <td>0</td>\n",
       "      <td>0</td>\n",
       "      <td>0</td>\n",
       "    </tr>\n",
       "    <tr>\n",
       "      <th>25097</th>\n",
       "      <td>7.5</td>\n",
       "      <td>21.3</td>\n",
       "      <td>0.0</td>\n",
       "      <td>4.7</td>\n",
       "      <td>8.4</td>\n",
       "      <td>15.0</td>\n",
       "      <td>2.0</td>\n",
       "      <td>7.0</td>\n",
       "      <td>88.0</td>\n",
       "      <td>52.0</td>\n",
       "      <td>...</td>\n",
       "      <td>0</td>\n",
       "      <td>0</td>\n",
       "      <td>0</td>\n",
       "      <td>0</td>\n",
       "      <td>0</td>\n",
       "      <td>0</td>\n",
       "      <td>0</td>\n",
       "      <td>0</td>\n",
       "      <td>0</td>\n",
       "      <td>0</td>\n",
       "    </tr>\n",
       "  </tbody>\n",
       "</table>\n",
       "<p>5 rows × 118 columns</p>\n",
       "</div>"
      ],
      "text/plain": [
       "        MinTemp  MaxTemp  Rainfall  Evaporation  Sunshine  WindGustSpeed  \\\n",
       "138175     21.9     39.4       1.6         11.2      11.5           57.0   \n",
       "38638      20.5     37.5       0.0          9.2       8.4           59.0   \n",
       "124058      5.1     17.2       0.2          4.7       8.4           50.0   \n",
       "99214      11.9     16.8       1.0          4.7       8.4           28.0   \n",
       "25097       7.5     21.3       0.0          4.7       8.4           15.0   \n",
       "\n",
       "        WindSpeed9am  WindSpeed3pm  Humidity9am  Humidity3pm  ...  NNW  NW  S  \\\n",
       "138175          20.0          33.0         50.0         26.0  ...    0   0  0   \n",
       "38638           17.0          20.0         47.0         22.0  ...    0   0  0   \n",
       "124058          28.0          22.0         68.0         51.0  ...    0   0  0   \n",
       "99214           11.0          13.0         80.0         79.0  ...    0   0  0   \n",
       "25097            2.0           7.0         88.0         52.0  ...    0   0  0   \n",
       "\n",
       "        SE  SSE  SSW  SW  W  WNW  WSW  \n",
       "138175   0    0    0   0  0    0    0  \n",
       "38638    0    0    0   0  0    0    0  \n",
       "124058   0    0    0   0  1    0    0  \n",
       "99214    0    0    0   1  0    0    0  \n",
       "25097    0    0    0   0  0    0    0  \n",
       "\n",
       "[5 rows x 118 columns]"
      ]
     },
     "execution_count": 91,
     "metadata": {},
     "output_type": "execute_result"
    }
   ],
   "source": [
    "X_test.head()"
   ]
  },
  {
   "cell_type": "markdown",
   "metadata": {},
   "source": [
    "이제 모델 구축을 위해 훈련 및 테스트 세트가 준비되었습니다. 그 전에, 모든 feature 변수를 동일한 척도로 매핑해야 합니다. 이를 `feature scaling`이라고 합니다. 다음과 같이 수행하겠습니다."
   ]
  },
  {
   "cell_type": "markdown",
   "metadata": {},
   "source": [
    "# **11. Feature Scaling** <a class=\"anchor\" id=\"11\"></a>\n",
    "\n",
    "\n",
    "[Table of Contents](#0.1)"
   ]
  },
  {
   "cell_type": "code",
   "execution_count": 92,
   "metadata": {
    "execution": {
     "iopub.execute_input": "2023-04-15T13:29:10.263519Z",
     "iopub.status.busy": "2023-04-15T13:29:10.262905Z",
     "iopub.status.idle": "2023-04-15T13:29:10.930610Z",
     "shell.execute_reply": "2023-04-15T13:29:10.929322Z",
     "shell.execute_reply.started": "2023-04-15T13:29:10.263439Z"
    }
   },
   "outputs": [
    {
     "data": {
      "text/html": [
       "<div>\n",
       "<style scoped>\n",
       "    .dataframe tbody tr th:only-of-type {\n",
       "        vertical-align: middle;\n",
       "    }\n",
       "\n",
       "    .dataframe tbody tr th {\n",
       "        vertical-align: top;\n",
       "    }\n",
       "\n",
       "    .dataframe thead th {\n",
       "        text-align: right;\n",
       "    }\n",
       "</style>\n",
       "<table border=\"1\" class=\"dataframe\">\n",
       "  <thead>\n",
       "    <tr style=\"text-align: right;\">\n",
       "      <th></th>\n",
       "      <th>MinTemp</th>\n",
       "      <th>MaxTemp</th>\n",
       "      <th>Rainfall</th>\n",
       "      <th>Evaporation</th>\n",
       "      <th>Sunshine</th>\n",
       "      <th>WindGustSpeed</th>\n",
       "      <th>WindSpeed9am</th>\n",
       "      <th>WindSpeed3pm</th>\n",
       "      <th>Humidity9am</th>\n",
       "      <th>Humidity3pm</th>\n",
       "      <th>...</th>\n",
       "      <th>NNW</th>\n",
       "      <th>NW</th>\n",
       "      <th>S</th>\n",
       "      <th>SE</th>\n",
       "      <th>SSE</th>\n",
       "      <th>SSW</th>\n",
       "      <th>SW</th>\n",
       "      <th>W</th>\n",
       "      <th>WNW</th>\n",
       "      <th>WSW</th>\n",
       "    </tr>\n",
       "  </thead>\n",
       "  <tbody>\n",
       "    <tr>\n",
       "      <th>count</th>\n",
       "      <td>116368.000000</td>\n",
       "      <td>116368.000000</td>\n",
       "      <td>116368.000000</td>\n",
       "      <td>116368.000000</td>\n",
       "      <td>116368.000000</td>\n",
       "      <td>116368.000000</td>\n",
       "      <td>116368.000000</td>\n",
       "      <td>116368.000000</td>\n",
       "      <td>116368.000000</td>\n",
       "      <td>116368.000000</td>\n",
       "      <td>...</td>\n",
       "      <td>116368.000000</td>\n",
       "      <td>116368.000000</td>\n",
       "      <td>116368.000000</td>\n",
       "      <td>116368.000000</td>\n",
       "      <td>116368.000000</td>\n",
       "      <td>116368.000000</td>\n",
       "      <td>116368.000000</td>\n",
       "      <td>116368.000000</td>\n",
       "      <td>116368.000000</td>\n",
       "      <td>116368.000000</td>\n",
       "    </tr>\n",
       "    <tr>\n",
       "      <th>mean</th>\n",
       "      <td>12.190189</td>\n",
       "      <td>23.203107</td>\n",
       "      <td>0.670800</td>\n",
       "      <td>5.093362</td>\n",
       "      <td>7.982476</td>\n",
       "      <td>39.982091</td>\n",
       "      <td>14.029381</td>\n",
       "      <td>18.687466</td>\n",
       "      <td>68.950691</td>\n",
       "      <td>51.605828</td>\n",
       "      <td>...</td>\n",
       "      <td>0.054078</td>\n",
       "      <td>0.059123</td>\n",
       "      <td>0.068447</td>\n",
       "      <td>0.103723</td>\n",
       "      <td>0.065224</td>\n",
       "      <td>0.056055</td>\n",
       "      <td>0.064786</td>\n",
       "      <td>0.069323</td>\n",
       "      <td>0.060309</td>\n",
       "      <td>0.064958</td>\n",
       "    </tr>\n",
       "    <tr>\n",
       "      <th>std</th>\n",
       "      <td>6.366893</td>\n",
       "      <td>7.085408</td>\n",
       "      <td>1.181512</td>\n",
       "      <td>2.800200</td>\n",
       "      <td>2.761639</td>\n",
       "      <td>13.127953</td>\n",
       "      <td>8.835596</td>\n",
       "      <td>8.700618</td>\n",
       "      <td>18.811437</td>\n",
       "      <td>20.439999</td>\n",
       "      <td>...</td>\n",
       "      <td>0.226173</td>\n",
       "      <td>0.235855</td>\n",
       "      <td>0.252512</td>\n",
       "      <td>0.304902</td>\n",
       "      <td>0.246922</td>\n",
       "      <td>0.230029</td>\n",
       "      <td>0.246149</td>\n",
       "      <td>0.254004</td>\n",
       "      <td>0.238059</td>\n",
       "      <td>0.246452</td>\n",
       "    </tr>\n",
       "    <tr>\n",
       "      <th>min</th>\n",
       "      <td>-8.500000</td>\n",
       "      <td>-4.800000</td>\n",
       "      <td>0.000000</td>\n",
       "      <td>0.000000</td>\n",
       "      <td>0.000000</td>\n",
       "      <td>6.000000</td>\n",
       "      <td>0.000000</td>\n",
       "      <td>0.000000</td>\n",
       "      <td>0.000000</td>\n",
       "      <td>0.000000</td>\n",
       "      <td>...</td>\n",
       "      <td>0.000000</td>\n",
       "      <td>0.000000</td>\n",
       "      <td>0.000000</td>\n",
       "      <td>0.000000</td>\n",
       "      <td>0.000000</td>\n",
       "      <td>0.000000</td>\n",
       "      <td>0.000000</td>\n",
       "      <td>0.000000</td>\n",
       "      <td>0.000000</td>\n",
       "      <td>0.000000</td>\n",
       "    </tr>\n",
       "    <tr>\n",
       "      <th>25%</th>\n",
       "      <td>7.700000</td>\n",
       "      <td>18.000000</td>\n",
       "      <td>0.000000</td>\n",
       "      <td>4.000000</td>\n",
       "      <td>8.200000</td>\n",
       "      <td>31.000000</td>\n",
       "      <td>7.000000</td>\n",
       "      <td>13.000000</td>\n",
       "      <td>57.000000</td>\n",
       "      <td>37.000000</td>\n",
       "      <td>...</td>\n",
       "      <td>0.000000</td>\n",
       "      <td>0.000000</td>\n",
       "      <td>0.000000</td>\n",
       "      <td>0.000000</td>\n",
       "      <td>0.000000</td>\n",
       "      <td>0.000000</td>\n",
       "      <td>0.000000</td>\n",
       "      <td>0.000000</td>\n",
       "      <td>0.000000</td>\n",
       "      <td>0.000000</td>\n",
       "    </tr>\n",
       "    <tr>\n",
       "      <th>50%</th>\n",
       "      <td>12.000000</td>\n",
       "      <td>22.600000</td>\n",
       "      <td>0.000000</td>\n",
       "      <td>4.700000</td>\n",
       "      <td>8.400000</td>\n",
       "      <td>39.000000</td>\n",
       "      <td>13.000000</td>\n",
       "      <td>19.000000</td>\n",
       "      <td>70.000000</td>\n",
       "      <td>52.000000</td>\n",
       "      <td>...</td>\n",
       "      <td>0.000000</td>\n",
       "      <td>0.000000</td>\n",
       "      <td>0.000000</td>\n",
       "      <td>0.000000</td>\n",
       "      <td>0.000000</td>\n",
       "      <td>0.000000</td>\n",
       "      <td>0.000000</td>\n",
       "      <td>0.000000</td>\n",
       "      <td>0.000000</td>\n",
       "      <td>0.000000</td>\n",
       "    </tr>\n",
       "    <tr>\n",
       "      <th>75%</th>\n",
       "      <td>16.800000</td>\n",
       "      <td>28.200000</td>\n",
       "      <td>0.600000</td>\n",
       "      <td>5.200000</td>\n",
       "      <td>8.600000</td>\n",
       "      <td>46.000000</td>\n",
       "      <td>19.000000</td>\n",
       "      <td>24.000000</td>\n",
       "      <td>83.000000</td>\n",
       "      <td>65.000000</td>\n",
       "      <td>...</td>\n",
       "      <td>0.000000</td>\n",
       "      <td>0.000000</td>\n",
       "      <td>0.000000</td>\n",
       "      <td>0.000000</td>\n",
       "      <td>0.000000</td>\n",
       "      <td>0.000000</td>\n",
       "      <td>0.000000</td>\n",
       "      <td>0.000000</td>\n",
       "      <td>0.000000</td>\n",
       "      <td>0.000000</td>\n",
       "    </tr>\n",
       "    <tr>\n",
       "      <th>max</th>\n",
       "      <td>31.900000</td>\n",
       "      <td>48.100000</td>\n",
       "      <td>3.200000</td>\n",
       "      <td>21.800000</td>\n",
       "      <td>14.500000</td>\n",
       "      <td>135.000000</td>\n",
       "      <td>55.000000</td>\n",
       "      <td>57.000000</td>\n",
       "      <td>100.000000</td>\n",
       "      <td>100.000000</td>\n",
       "      <td>...</td>\n",
       "      <td>1.000000</td>\n",
       "      <td>1.000000</td>\n",
       "      <td>1.000000</td>\n",
       "      <td>1.000000</td>\n",
       "      <td>1.000000</td>\n",
       "      <td>1.000000</td>\n",
       "      <td>1.000000</td>\n",
       "      <td>1.000000</td>\n",
       "      <td>1.000000</td>\n",
       "      <td>1.000000</td>\n",
       "    </tr>\n",
       "  </tbody>\n",
       "</table>\n",
       "<p>8 rows × 118 columns</p>\n",
       "</div>"
      ],
      "text/plain": [
       "             MinTemp        MaxTemp       Rainfall    Evaporation  \\\n",
       "count  116368.000000  116368.000000  116368.000000  116368.000000   \n",
       "mean       12.190189      23.203107       0.670800       5.093362   \n",
       "std         6.366893       7.085408       1.181512       2.800200   \n",
       "min        -8.500000      -4.800000       0.000000       0.000000   \n",
       "25%         7.700000      18.000000       0.000000       4.000000   \n",
       "50%        12.000000      22.600000       0.000000       4.700000   \n",
       "75%        16.800000      28.200000       0.600000       5.200000   \n",
       "max        31.900000      48.100000       3.200000      21.800000   \n",
       "\n",
       "            Sunshine  WindGustSpeed   WindSpeed9am   WindSpeed3pm  \\\n",
       "count  116368.000000  116368.000000  116368.000000  116368.000000   \n",
       "mean        7.982476      39.982091      14.029381      18.687466   \n",
       "std         2.761639      13.127953       8.835596       8.700618   \n",
       "min         0.000000       6.000000       0.000000       0.000000   \n",
       "25%         8.200000      31.000000       7.000000      13.000000   \n",
       "50%         8.400000      39.000000      13.000000      19.000000   \n",
       "75%         8.600000      46.000000      19.000000      24.000000   \n",
       "max        14.500000     135.000000      55.000000      57.000000   \n",
       "\n",
       "         Humidity9am    Humidity3pm  ...            NNW             NW  \\\n",
       "count  116368.000000  116368.000000  ...  116368.000000  116368.000000   \n",
       "mean       68.950691      51.605828  ...       0.054078       0.059123   \n",
       "std        18.811437      20.439999  ...       0.226173       0.235855   \n",
       "min         0.000000       0.000000  ...       0.000000       0.000000   \n",
       "25%        57.000000      37.000000  ...       0.000000       0.000000   \n",
       "50%        70.000000      52.000000  ...       0.000000       0.000000   \n",
       "75%        83.000000      65.000000  ...       0.000000       0.000000   \n",
       "max       100.000000     100.000000  ...       1.000000       1.000000   \n",
       "\n",
       "                   S             SE            SSE            SSW  \\\n",
       "count  116368.000000  116368.000000  116368.000000  116368.000000   \n",
       "mean        0.068447       0.103723       0.065224       0.056055   \n",
       "std         0.252512       0.304902       0.246922       0.230029   \n",
       "min         0.000000       0.000000       0.000000       0.000000   \n",
       "25%         0.000000       0.000000       0.000000       0.000000   \n",
       "50%         0.000000       0.000000       0.000000       0.000000   \n",
       "75%         0.000000       0.000000       0.000000       0.000000   \n",
       "max         1.000000       1.000000       1.000000       1.000000   \n",
       "\n",
       "                  SW              W            WNW            WSW  \n",
       "count  116368.000000  116368.000000  116368.000000  116368.000000  \n",
       "mean        0.064786       0.069323       0.060309       0.064958  \n",
       "std         0.246149       0.254004       0.238059       0.246452  \n",
       "min         0.000000       0.000000       0.000000       0.000000  \n",
       "25%         0.000000       0.000000       0.000000       0.000000  \n",
       "50%         0.000000       0.000000       0.000000       0.000000  \n",
       "75%         0.000000       0.000000       0.000000       0.000000  \n",
       "max         1.000000       1.000000       1.000000       1.000000  \n",
       "\n",
       "[8 rows x 118 columns]"
      ]
     },
     "execution_count": 92,
     "metadata": {},
     "output_type": "execute_result"
    }
   ],
   "source": [
    "X_train.describe()"
   ]
  },
  {
   "cell_type": "code",
   "execution_count": 93,
   "metadata": {
    "execution": {
     "iopub.execute_input": "2023-04-15T13:29:10.932480Z",
     "iopub.status.busy": "2023-04-15T13:29:10.932120Z",
     "iopub.status.idle": "2023-04-15T13:29:10.937285Z",
     "shell.execute_reply": "2023-04-15T13:29:10.936117Z",
     "shell.execute_reply.started": "2023-04-15T13:29:10.932423Z"
    }
   },
   "outputs": [],
   "source": [
    "cols = X_train.columns"
   ]
  },
  {
   "cell_type": "code",
   "execution_count": 94,
   "metadata": {
    "execution": {
     "iopub.execute_input": "2023-04-15T13:29:10.938980Z",
     "iopub.status.busy": "2023-04-15T13:29:10.938712Z",
     "iopub.status.idle": "2023-04-15T13:29:11.250967Z",
     "shell.execute_reply": "2023-04-15T13:29:11.249931Z",
     "shell.execute_reply.started": "2023-04-15T13:29:10.938932Z"
    }
   },
   "outputs": [],
   "source": [
    "from sklearn.preprocessing import MinMaxScaler\n",
    "\n",
    "scaler = MinMaxScaler()\n",
    "\n",
    "X_train = scaler.fit_transform(X_train)\n",
    "\n",
    "X_test = scaler.transform(X_test)\n"
   ]
  },
  {
   "cell_type": "code",
   "execution_count": 95,
   "metadata": {
    "execution": {
     "iopub.execute_input": "2023-04-15T13:29:11.252500Z",
     "iopub.status.busy": "2023-04-15T13:29:11.252223Z",
     "iopub.status.idle": "2023-04-15T13:29:11.260593Z",
     "shell.execute_reply": "2023-04-15T13:29:11.259420Z",
     "shell.execute_reply.started": "2023-04-15T13:29:11.252453Z"
    }
   },
   "outputs": [],
   "source": [
    "X_train = pd.DataFrame(X_train, columns=[cols])"
   ]
  },
  {
   "cell_type": "code",
   "execution_count": 96,
   "metadata": {
    "execution": {
     "iopub.execute_input": "2023-04-15T13:29:11.262629Z",
     "iopub.status.busy": "2023-04-15T13:29:11.262305Z",
     "iopub.status.idle": "2023-04-15T13:29:11.275673Z",
     "shell.execute_reply": "2023-04-15T13:29:11.274190Z",
     "shell.execute_reply.started": "2023-04-15T13:29:11.262567Z"
    }
   },
   "outputs": [],
   "source": [
    "X_test = pd.DataFrame(X_test, columns=[cols])"
   ]
  },
  {
   "cell_type": "code",
   "execution_count": 97,
   "metadata": {
    "execution": {
     "iopub.execute_input": "2023-04-15T13:29:11.277545Z",
     "iopub.status.busy": "2023-04-15T13:29:11.277261Z",
     "iopub.status.idle": "2023-04-15T13:29:12.169575Z",
     "shell.execute_reply": "2023-04-15T13:29:12.168457Z",
     "shell.execute_reply.started": "2023-04-15T13:29:11.277501Z"
    }
   },
   "outputs": [
    {
     "data": {
      "text/html": [
       "<div>\n",
       "<style scoped>\n",
       "    .dataframe tbody tr th:only-of-type {\n",
       "        vertical-align: middle;\n",
       "    }\n",
       "\n",
       "    .dataframe tbody tr th {\n",
       "        vertical-align: top;\n",
       "    }\n",
       "\n",
       "    .dataframe thead tr th {\n",
       "        text-align: left;\n",
       "    }\n",
       "</style>\n",
       "<table border=\"1\" class=\"dataframe\">\n",
       "  <thead>\n",
       "    <tr>\n",
       "      <th></th>\n",
       "      <th>MinTemp</th>\n",
       "      <th>MaxTemp</th>\n",
       "      <th>Rainfall</th>\n",
       "      <th>Evaporation</th>\n",
       "      <th>Sunshine</th>\n",
       "      <th>WindGustSpeed</th>\n",
       "      <th>WindSpeed9am</th>\n",
       "      <th>WindSpeed3pm</th>\n",
       "      <th>Humidity9am</th>\n",
       "      <th>Humidity3pm</th>\n",
       "      <th>...</th>\n",
       "      <th>NNW</th>\n",
       "      <th>NW</th>\n",
       "      <th>S</th>\n",
       "      <th>SE</th>\n",
       "      <th>SSE</th>\n",
       "      <th>SSW</th>\n",
       "      <th>SW</th>\n",
       "      <th>W</th>\n",
       "      <th>WNW</th>\n",
       "      <th>WSW</th>\n",
       "    </tr>\n",
       "  </thead>\n",
       "  <tbody>\n",
       "    <tr>\n",
       "      <th>count</th>\n",
       "      <td>116368.000000</td>\n",
       "      <td>116368.000000</td>\n",
       "      <td>116368.000000</td>\n",
       "      <td>116368.000000</td>\n",
       "      <td>116368.000000</td>\n",
       "      <td>116368.000000</td>\n",
       "      <td>116368.000000</td>\n",
       "      <td>116368.000000</td>\n",
       "      <td>116368.000000</td>\n",
       "      <td>116368.000000</td>\n",
       "      <td>...</td>\n",
       "      <td>116368.000000</td>\n",
       "      <td>116368.000000</td>\n",
       "      <td>116368.000000</td>\n",
       "      <td>116368.000000</td>\n",
       "      <td>116368.000000</td>\n",
       "      <td>116368.000000</td>\n",
       "      <td>116368.000000</td>\n",
       "      <td>116368.000000</td>\n",
       "      <td>116368.000000</td>\n",
       "      <td>116368.000000</td>\n",
       "    </tr>\n",
       "    <tr>\n",
       "      <th>mean</th>\n",
       "      <td>0.512133</td>\n",
       "      <td>0.529359</td>\n",
       "      <td>0.209625</td>\n",
       "      <td>0.233640</td>\n",
       "      <td>0.550516</td>\n",
       "      <td>0.263427</td>\n",
       "      <td>0.255080</td>\n",
       "      <td>0.327850</td>\n",
       "      <td>0.689507</td>\n",
       "      <td>0.516058</td>\n",
       "      <td>...</td>\n",
       "      <td>0.054078</td>\n",
       "      <td>0.059123</td>\n",
       "      <td>0.068447</td>\n",
       "      <td>0.103723</td>\n",
       "      <td>0.065224</td>\n",
       "      <td>0.056055</td>\n",
       "      <td>0.064786</td>\n",
       "      <td>0.069323</td>\n",
       "      <td>0.060309</td>\n",
       "      <td>0.064958</td>\n",
       "    </tr>\n",
       "    <tr>\n",
       "      <th>std</th>\n",
       "      <td>0.157596</td>\n",
       "      <td>0.133940</td>\n",
       "      <td>0.369223</td>\n",
       "      <td>0.128450</td>\n",
       "      <td>0.190458</td>\n",
       "      <td>0.101767</td>\n",
       "      <td>0.160647</td>\n",
       "      <td>0.152642</td>\n",
       "      <td>0.188114</td>\n",
       "      <td>0.204400</td>\n",
       "      <td>...</td>\n",
       "      <td>0.226173</td>\n",
       "      <td>0.235855</td>\n",
       "      <td>0.252512</td>\n",
       "      <td>0.304902</td>\n",
       "      <td>0.246922</td>\n",
       "      <td>0.230029</td>\n",
       "      <td>0.246149</td>\n",
       "      <td>0.254004</td>\n",
       "      <td>0.238059</td>\n",
       "      <td>0.246452</td>\n",
       "    </tr>\n",
       "    <tr>\n",
       "      <th>min</th>\n",
       "      <td>0.000000</td>\n",
       "      <td>0.000000</td>\n",
       "      <td>0.000000</td>\n",
       "      <td>0.000000</td>\n",
       "      <td>0.000000</td>\n",
       "      <td>0.000000</td>\n",
       "      <td>0.000000</td>\n",
       "      <td>0.000000</td>\n",
       "      <td>0.000000</td>\n",
       "      <td>0.000000</td>\n",
       "      <td>...</td>\n",
       "      <td>0.000000</td>\n",
       "      <td>0.000000</td>\n",
       "      <td>0.000000</td>\n",
       "      <td>0.000000</td>\n",
       "      <td>0.000000</td>\n",
       "      <td>0.000000</td>\n",
       "      <td>0.000000</td>\n",
       "      <td>0.000000</td>\n",
       "      <td>0.000000</td>\n",
       "      <td>0.000000</td>\n",
       "    </tr>\n",
       "    <tr>\n",
       "      <th>25%</th>\n",
       "      <td>0.400990</td>\n",
       "      <td>0.431002</td>\n",
       "      <td>0.000000</td>\n",
       "      <td>0.183486</td>\n",
       "      <td>0.565517</td>\n",
       "      <td>0.193798</td>\n",
       "      <td>0.127273</td>\n",
       "      <td>0.228070</td>\n",
       "      <td>0.570000</td>\n",
       "      <td>0.370000</td>\n",
       "      <td>...</td>\n",
       "      <td>0.000000</td>\n",
       "      <td>0.000000</td>\n",
       "      <td>0.000000</td>\n",
       "      <td>0.000000</td>\n",
       "      <td>0.000000</td>\n",
       "      <td>0.000000</td>\n",
       "      <td>0.000000</td>\n",
       "      <td>0.000000</td>\n",
       "      <td>0.000000</td>\n",
       "      <td>0.000000</td>\n",
       "    </tr>\n",
       "    <tr>\n",
       "      <th>50%</th>\n",
       "      <td>0.507426</td>\n",
       "      <td>0.517958</td>\n",
       "      <td>0.000000</td>\n",
       "      <td>0.215596</td>\n",
       "      <td>0.579310</td>\n",
       "      <td>0.255814</td>\n",
       "      <td>0.236364</td>\n",
       "      <td>0.333333</td>\n",
       "      <td>0.700000</td>\n",
       "      <td>0.520000</td>\n",
       "      <td>...</td>\n",
       "      <td>0.000000</td>\n",
       "      <td>0.000000</td>\n",
       "      <td>0.000000</td>\n",
       "      <td>0.000000</td>\n",
       "      <td>0.000000</td>\n",
       "      <td>0.000000</td>\n",
       "      <td>0.000000</td>\n",
       "      <td>0.000000</td>\n",
       "      <td>0.000000</td>\n",
       "      <td>0.000000</td>\n",
       "    </tr>\n",
       "    <tr>\n",
       "      <th>75%</th>\n",
       "      <td>0.626238</td>\n",
       "      <td>0.623819</td>\n",
       "      <td>0.187500</td>\n",
       "      <td>0.238532</td>\n",
       "      <td>0.593103</td>\n",
       "      <td>0.310078</td>\n",
       "      <td>0.345455</td>\n",
       "      <td>0.421053</td>\n",
       "      <td>0.830000</td>\n",
       "      <td>0.650000</td>\n",
       "      <td>...</td>\n",
       "      <td>0.000000</td>\n",
       "      <td>0.000000</td>\n",
       "      <td>0.000000</td>\n",
       "      <td>0.000000</td>\n",
       "      <td>0.000000</td>\n",
       "      <td>0.000000</td>\n",
       "      <td>0.000000</td>\n",
       "      <td>0.000000</td>\n",
       "      <td>0.000000</td>\n",
       "      <td>0.000000</td>\n",
       "    </tr>\n",
       "    <tr>\n",
       "      <th>max</th>\n",
       "      <td>1.000000</td>\n",
       "      <td>1.000000</td>\n",
       "      <td>1.000000</td>\n",
       "      <td>1.000000</td>\n",
       "      <td>1.000000</td>\n",
       "      <td>1.000000</td>\n",
       "      <td>1.000000</td>\n",
       "      <td>1.000000</td>\n",
       "      <td>1.000000</td>\n",
       "      <td>1.000000</td>\n",
       "      <td>...</td>\n",
       "      <td>1.000000</td>\n",
       "      <td>1.000000</td>\n",
       "      <td>1.000000</td>\n",
       "      <td>1.000000</td>\n",
       "      <td>1.000000</td>\n",
       "      <td>1.000000</td>\n",
       "      <td>1.000000</td>\n",
       "      <td>1.000000</td>\n",
       "      <td>1.000000</td>\n",
       "      <td>1.000000</td>\n",
       "    </tr>\n",
       "  </tbody>\n",
       "</table>\n",
       "<p>8 rows × 118 columns</p>\n",
       "</div>"
      ],
      "text/plain": [
       "             MinTemp        MaxTemp       Rainfall    Evaporation  \\\n",
       "count  116368.000000  116368.000000  116368.000000  116368.000000   \n",
       "mean        0.512133       0.529359       0.209625       0.233640   \n",
       "std         0.157596       0.133940       0.369223       0.128450   \n",
       "min         0.000000       0.000000       0.000000       0.000000   \n",
       "25%         0.400990       0.431002       0.000000       0.183486   \n",
       "50%         0.507426       0.517958       0.000000       0.215596   \n",
       "75%         0.626238       0.623819       0.187500       0.238532   \n",
       "max         1.000000       1.000000       1.000000       1.000000   \n",
       "\n",
       "            Sunshine  WindGustSpeed   WindSpeed9am   WindSpeed3pm  \\\n",
       "count  116368.000000  116368.000000  116368.000000  116368.000000   \n",
       "mean        0.550516       0.263427       0.255080       0.327850   \n",
       "std         0.190458       0.101767       0.160647       0.152642   \n",
       "min         0.000000       0.000000       0.000000       0.000000   \n",
       "25%         0.565517       0.193798       0.127273       0.228070   \n",
       "50%         0.579310       0.255814       0.236364       0.333333   \n",
       "75%         0.593103       0.310078       0.345455       0.421053   \n",
       "max         1.000000       1.000000       1.000000       1.000000   \n",
       "\n",
       "         Humidity9am    Humidity3pm  ...            NNW             NW  \\\n",
       "count  116368.000000  116368.000000  ...  116368.000000  116368.000000   \n",
       "mean        0.689507       0.516058  ...       0.054078       0.059123   \n",
       "std         0.188114       0.204400  ...       0.226173       0.235855   \n",
       "min         0.000000       0.000000  ...       0.000000       0.000000   \n",
       "25%         0.570000       0.370000  ...       0.000000       0.000000   \n",
       "50%         0.700000       0.520000  ...       0.000000       0.000000   \n",
       "75%         0.830000       0.650000  ...       0.000000       0.000000   \n",
       "max         1.000000       1.000000  ...       1.000000       1.000000   \n",
       "\n",
       "                   S             SE            SSE            SSW  \\\n",
       "count  116368.000000  116368.000000  116368.000000  116368.000000   \n",
       "mean        0.068447       0.103723       0.065224       0.056055   \n",
       "std         0.252512       0.304902       0.246922       0.230029   \n",
       "min         0.000000       0.000000       0.000000       0.000000   \n",
       "25%         0.000000       0.000000       0.000000       0.000000   \n",
       "50%         0.000000       0.000000       0.000000       0.000000   \n",
       "75%         0.000000       0.000000       0.000000       0.000000   \n",
       "max         1.000000       1.000000       1.000000       1.000000   \n",
       "\n",
       "                  SW              W            WNW            WSW  \n",
       "count  116368.000000  116368.000000  116368.000000  116368.000000  \n",
       "mean        0.064786       0.069323       0.060309       0.064958  \n",
       "std         0.246149       0.254004       0.238059       0.246452  \n",
       "min         0.000000       0.000000       0.000000       0.000000  \n",
       "25%         0.000000       0.000000       0.000000       0.000000  \n",
       "50%         0.000000       0.000000       0.000000       0.000000  \n",
       "75%         0.000000       0.000000       0.000000       0.000000  \n",
       "max         1.000000       1.000000       1.000000       1.000000  \n",
       "\n",
       "[8 rows x 118 columns]"
      ]
     },
     "execution_count": 97,
     "metadata": {},
     "output_type": "execute_result"
    }
   ],
   "source": [
    "X_train.describe()"
   ]
  },
  {
   "cell_type": "markdown",
   "metadata": {},
   "source": [
    "이제 우리는 로지스틱 회귀 분류기에 입력할 준비가 된 'X_train' 데이터셋이 있습니다. 저는 다음과 같이 수행하겠습니다."
   ]
  },
  {
   "cell_type": "markdown",
   "metadata": {},
   "source": [
    "# **12. 모델 학습** <a class=\"anchor\" id=\"12\"></a>\n",
    "\n",
    "\n",
    "[Table of Contents](#0.1)"
   ]
  },
  {
   "cell_type": "markdown",
   "metadata": {},
   "source": [
    "`y_train, y_test`의 결측치를 처리해준다."
   ]
  },
  {
   "cell_type": "code",
   "execution_count": 98,
   "metadata": {
    "execution": {
     "iopub.execute_input": "2023-04-15T13:29:12.172080Z",
     "iopub.status.busy": "2023-04-15T13:29:12.171499Z",
     "iopub.status.idle": "2023-04-15T13:29:12.275379Z",
     "shell.execute_reply": "2023-04-15T13:29:12.274332Z",
     "shell.execute_reply.started": "2023-04-15T13:29:12.171849Z"
    }
   },
   "outputs": [],
   "source": [
    "from sklearn.preprocessing import LabelEncoder\n",
    "\n",
    "y_train = pd.DataFrame(y_train)\n",
    "y_test = pd.DataFrame(y_test)\n",
    "\n",
    "y_train['RainTomorrow'].fillna(y_train['RainTomorrow'].mode()[0], inplace=True)\n",
    "y_test['RainTomorrow'].fillna(y_test['RainTomorrow'].mode()[0], inplace=True)\n",
    "\n",
    "train_le = LabelEncoder()\n",
    "test_le = LabelEncoder()\n",
    "\n",
    "train_le.fit(y_train['RainTomorrow'].astype('str').drop_duplicates())\n",
    "test_le.fit(y_test['RainTomorrow'].astype('str').drop_duplicates())\n",
    "\n",
    "y_train['enc'] = train_le.transform(y_train['RainTomorrow'].astype('str'))\n",
    "y_test['enc'] = train_le.transform(y_test['RainTomorrow'].astype('str'))\n",
    "\n",
    "y_train.drop(columns=['RainTomorrow'], inplace=True)\n",
    "y_test.drop(columns=['RainTomorrow'], inplace=True)"
   ]
  },
  {
   "cell_type": "markdown",
   "metadata": {},
   "source": [
    "학습시킨다."
   ]
  },
  {
   "cell_type": "code",
   "execution_count": 99,
   "metadata": {
    "execution": {
     "iopub.execute_input": "2023-04-15T13:29:12.277536Z",
     "iopub.status.busy": "2023-04-15T13:29:12.277190Z",
     "iopub.status.idle": "2023-04-15T13:29:16.129284Z",
     "shell.execute_reply": "2023-04-15T13:29:16.127607Z",
     "shell.execute_reply.started": "2023-04-15T13:29:12.277482Z"
    }
   },
   "outputs": [
    {
     "data": {
      "text/plain": [
       "LogisticRegression(C=1.0, class_weight=None, dual=False, fit_intercept=True,\n",
       "                   intercept_scaling=1, l1_ratio=None, max_iter=100,\n",
       "                   multi_class='warn', n_jobs=None, penalty='l2',\n",
       "                   random_state=0, solver='liblinear', tol=0.0001, verbose=0,\n",
       "                   warm_start=False)"
      ]
     },
     "execution_count": 99,
     "metadata": {},
     "output_type": "execute_result"
    }
   ],
   "source": [
    "# train a logistic regression model on the training set\n",
    "from sklearn.linear_model import LogisticRegression\n",
    "\n",
    "\n",
    "# instantiate the model\n",
    "logreg = LogisticRegression(solver='liblinear', random_state=0)\n",
    "\n",
    "\n",
    "# fit the model\n",
    "logreg.fit(X_train, y_train)\n"
   ]
  },
  {
   "cell_type": "markdown",
   "metadata": {},
   "source": [
    "# **13. 예측결과** <a class=\"anchor\" id=\"13\"></a>\n",
    "\n",
    "\n",
    "[Table of Contents](#0.1)"
   ]
  },
  {
   "cell_type": "code",
   "execution_count": 100,
   "metadata": {
    "execution": {
     "iopub.execute_input": "2023-04-15T13:29:16.131478Z",
     "iopub.status.busy": "2023-04-15T13:29:16.131004Z",
     "iopub.status.idle": "2023-04-15T13:29:16.150332Z",
     "shell.execute_reply": "2023-04-15T13:29:16.148460Z",
     "shell.execute_reply.started": "2023-04-15T13:29:16.131298Z"
    }
   },
   "outputs": [
    {
     "data": {
      "text/plain": [
       "array([0, 0, 0, ..., 1, 0, 0])"
      ]
     },
     "execution_count": 100,
     "metadata": {},
     "output_type": "execute_result"
    }
   ],
   "source": [
    "y_pred_test = logreg.predict(X_test)\n",
    "\n",
    "y_pred_test"
   ]
  },
  {
   "cell_type": "markdown",
   "metadata": {},
   "source": [
    "### predict_proba 메서드는 이 경우에 대상 변수(0과 1)의 확률을 배열 형태로 제공합니다.\n",
    "\n",
    "여기서 `0은 비가 오지 않을 확률`이고, `1은 비가 올 확률`입니다."
   ]
  },
  {
   "cell_type": "code",
   "execution_count": 101,
   "metadata": {
    "execution": {
     "iopub.execute_input": "2023-04-15T13:29:16.154432Z",
     "iopub.status.busy": "2023-04-15T13:29:16.153589Z",
     "iopub.status.idle": "2023-04-15T13:29:16.178916Z",
     "shell.execute_reply": "2023-04-15T13:29:16.177396Z",
     "shell.execute_reply.started": "2023-04-15T13:29:16.154127Z"
    }
   },
   "outputs": [
    {
     "data": {
      "text/plain": [
       "array([0.83218012, 0.74547897, 0.79864899, ..., 0.42025828, 0.65746991,\n",
       "       0.96954653])"
      ]
     },
     "execution_count": 101,
     "metadata": {},
     "output_type": "execute_result"
    }
   ],
   "source": [
    "# probability of getting output as 0 - no rain\n",
    "\n",
    "logreg.predict_proba(X_test)[:,0]"
   ]
  },
  {
   "cell_type": "code",
   "execution_count": 102,
   "metadata": {
    "execution": {
     "iopub.execute_input": "2023-04-15T13:29:16.183501Z",
     "iopub.status.busy": "2023-04-15T13:29:16.182326Z",
     "iopub.status.idle": "2023-04-15T13:29:16.208066Z",
     "shell.execute_reply": "2023-04-15T13:29:16.206661Z",
     "shell.execute_reply.started": "2023-04-15T13:29:16.183390Z"
    }
   },
   "outputs": [
    {
     "data": {
      "text/plain": [
       "array([0.16781988, 0.25452103, 0.20135101, ..., 0.57974172, 0.34253009,\n",
       "       0.03045347])"
      ]
     },
     "execution_count": 102,
     "metadata": {},
     "output_type": "execute_result"
    }
   ],
   "source": [
    "# probability of getting output as 1 - rain\n",
    "\n",
    "logreg.predict_proba(X_test)[:,1]"
   ]
  },
  {
   "cell_type": "markdown",
   "metadata": {},
   "source": [
    "# **14. 정확도 점수 확인하기** <a class=\"anchor\" id=\"14\"></a>\n",
    "\n",
    "\n",
    "[Table of Contents](#0.1)"
   ]
  },
  {
   "cell_type": "code",
   "execution_count": 103,
   "metadata": {
    "execution": {
     "iopub.execute_input": "2023-04-15T13:29:16.212002Z",
     "iopub.status.busy": "2023-04-15T13:29:16.210722Z",
     "iopub.status.idle": "2023-04-15T13:29:16.240023Z",
     "shell.execute_reply": "2023-04-15T13:29:16.238421Z",
     "shell.execute_reply.started": "2023-04-15T13:29:16.211885Z"
    }
   },
   "outputs": [
    {
     "name": "stdout",
     "output_type": "stream",
     "text": [
      "Model accuracy score: 0.8484\n"
     ]
    }
   ],
   "source": [
    "from sklearn.metrics import accuracy_score\n",
    "\n",
    "print('Model accuracy score: {0:0.4f}'. format(accuracy_score(y_test, y_pred_test)))"
   ]
  },
  {
   "cell_type": "markdown",
   "metadata": {},
   "source": [
    "여기서 y_test는 테스트 세트에서의 실제 클래스 레이블이고, y_pred_test는 예측된 클래스 레이블입니다."
   ]
  },
  {
   "cell_type": "markdown",
   "metadata": {},
   "source": [
    "### 학습세트와 테스트 세트비교\n",
    "이제, 과적합(overfitting)을 확인하기 위해 학습 세트(train-set)와 테스트 세트(test-set) 정확도를 비교해보겠습니다."
   ]
  },
  {
   "cell_type": "code",
   "execution_count": 104,
   "metadata": {
    "execution": {
     "iopub.execute_input": "2023-04-15T13:29:16.244421Z",
     "iopub.status.busy": "2023-04-15T13:29:16.242845Z",
     "iopub.status.idle": "2023-04-15T13:29:16.293069Z",
     "shell.execute_reply": "2023-04-15T13:29:16.291514Z",
     "shell.execute_reply.started": "2023-04-15T13:29:16.244302Z"
    }
   },
   "outputs": [
    {
     "data": {
      "text/plain": [
       "array([0, 0, 0, ..., 0, 0, 0])"
      ]
     },
     "execution_count": 104,
     "metadata": {},
     "output_type": "execute_result"
    }
   ],
   "source": [
    "y_pred_train = logreg.predict(X_train)\n",
    "\n",
    "y_pred_train"
   ]
  },
  {
   "cell_type": "code",
   "execution_count": 105,
   "metadata": {
    "execution": {
     "iopub.execute_input": "2023-04-15T13:29:16.297173Z",
     "iopub.status.busy": "2023-04-15T13:29:16.295957Z",
     "iopub.status.idle": "2023-04-15T13:29:16.331087Z",
     "shell.execute_reply": "2023-04-15T13:29:16.329570Z",
     "shell.execute_reply.started": "2023-04-15T13:29:16.297030Z"
    }
   },
   "outputs": [
    {
     "name": "stdout",
     "output_type": "stream",
     "text": [
      "Training-set accuracy score: 0.8488\n"
     ]
    }
   ],
   "source": [
    "print('Training-set accuracy score: {0:0.4f}'. format(accuracy_score(y_train, y_pred_train)))"
   ]
  },
  {
   "cell_type": "markdown",
   "metadata": {},
   "source": [
    "### Check for overfitting and underfitting"
   ]
  },
  {
   "cell_type": "code",
   "execution_count": 106,
   "metadata": {
    "execution": {
     "iopub.execute_input": "2023-04-15T13:29:16.335322Z",
     "iopub.status.busy": "2023-04-15T13:29:16.333873Z",
     "iopub.status.idle": "2023-04-15T13:29:16.437321Z",
     "shell.execute_reply": "2023-04-15T13:29:16.435755Z",
     "shell.execute_reply.started": "2023-04-15T13:29:16.335210Z"
    }
   },
   "outputs": [
    {
     "name": "stdout",
     "output_type": "stream",
     "text": [
      "Training set score: 0.8488\n",
      "Test set score: 0.8484\n"
     ]
    }
   ],
   "source": [
    "# print the scores on training and test set\n",
    "\n",
    "print('Training set score: {:.4f}'.format(logreg.score(X_train, y_train)))\n",
    "\n",
    "print('Test set score: {:.4f}'.format(logreg.score(X_test, y_test)))"
   ]
  },
  {
   "cell_type": "markdown",
   "metadata": {},
   "source": [
    "두 점수차이가 거의 나지 않고 비슷한 것을 보아 과적합문제는 없다.\n"
   ]
  },
  {
   "cell_type": "markdown",
   "metadata": {},
   "source": [
    "로지스틱 회귀에서는 C의 기본값인 1을 사용합니다. 이 값은 학습 세트와 테스트 세트 모두 약 85%의 정확도로 좋은 성능을 제공합니다. 그러나 학습 세트와 테스트 세트 모두 모델 성능이 매우 비슷하기 때문에 과소적합(underfitting)의 가능성이 있습니다.\n",
    "\n",
    "따라서, C를 증가시켜 더 유연한 모델을 만들어보겠습니다."
   ]
  },
  {
   "cell_type": "code",
   "execution_count": 107,
   "metadata": {
    "execution": {
     "iopub.execute_input": "2023-04-15T13:29:16.441728Z",
     "iopub.status.busy": "2023-04-15T13:29:16.440187Z",
     "iopub.status.idle": "2023-04-15T13:29:21.000204Z",
     "shell.execute_reply": "2023-04-15T13:29:20.998431Z",
     "shell.execute_reply.started": "2023-04-15T13:29:16.441612Z"
    }
   },
   "outputs": [
    {
     "data": {
      "text/plain": [
       "LogisticRegression(C=100, class_weight=None, dual=False, fit_intercept=True,\n",
       "                   intercept_scaling=1, l1_ratio=None, max_iter=100,\n",
       "                   multi_class='warn', n_jobs=None, penalty='l2',\n",
       "                   random_state=0, solver='liblinear', tol=0.0001, verbose=0,\n",
       "                   warm_start=False)"
      ]
     },
     "execution_count": 107,
     "metadata": {},
     "output_type": "execute_result"
    }
   ],
   "source": [
    "# fit the Logsitic Regression model with C=100\n",
    "\n",
    "# instantiate the model\n",
    "logreg100 = LogisticRegression(C=100, solver='liblinear', random_state=0)\n",
    "\n",
    "\n",
    "# fit the model\n",
    "logreg100.fit(X_train, y_train)"
   ]
  },
  {
   "cell_type": "code",
   "execution_count": 108,
   "metadata": {
    "execution": {
     "iopub.execute_input": "2023-04-15T13:29:21.003568Z",
     "iopub.status.busy": "2023-04-15T13:29:21.002739Z",
     "iopub.status.idle": "2023-04-15T13:29:21.073457Z",
     "shell.execute_reply": "2023-04-15T13:29:21.069182Z",
     "shell.execute_reply.started": "2023-04-15T13:29:21.003061Z"
    }
   },
   "outputs": [
    {
     "name": "stdout",
     "output_type": "stream",
     "text": [
      "Training set score: 0.8489\n",
      "Test set score: 0.8491\n"
     ]
    }
   ],
   "source": [
    "# print the scores on training and test set\n",
    "\n",
    "print('Training set score: {:.4f}'.format(logreg100.score(X_train, y_train)))\n",
    "\n",
    "print('Test set score: {:.4f}'.format(logreg100.score(X_test, y_test)))"
   ]
  },
  {
   "cell_type": "markdown",
   "metadata": {},
   "source": [
    "위의 결과에서 볼 수 있듯이, C=100인 경우 테스트 세트의 정확도가 더 높게 나타났으며, 약간의 증가한 학습 세트 정확도도 확인할 수 있습니다. 따라서, 더 복잡한 모델이 더 나은 성능을 발휘할 것으로 결론을 내릴 수 있습니다."
   ]
  },
  {
   "cell_type": "markdown",
   "metadata": {},
   "source": [
    "이제, C의 기본값인 1보다 더 규제화(regularized)된 모델을 사용할 때 어떤 일이 일어나는지 알아보기 위해 C=0.01로 설정해보겠습니다."
   ]
  },
  {
   "cell_type": "code",
   "execution_count": 109,
   "metadata": {
    "execution": {
     "iopub.execute_input": "2023-04-15T13:29:21.076684Z",
     "iopub.status.busy": "2023-04-15T13:29:21.076028Z",
     "iopub.status.idle": "2023-04-15T13:29:22.627112Z",
     "shell.execute_reply": "2023-04-15T13:29:22.625503Z",
     "shell.execute_reply.started": "2023-04-15T13:29:21.076588Z"
    }
   },
   "outputs": [
    {
     "data": {
      "text/plain": [
       "LogisticRegression(C=0.01, class_weight=None, dual=False, fit_intercept=True,\n",
       "                   intercept_scaling=1, l1_ratio=None, max_iter=100,\n",
       "                   multi_class='warn', n_jobs=None, penalty='l2',\n",
       "                   random_state=0, solver='liblinear', tol=0.0001, verbose=0,\n",
       "                   warm_start=False)"
      ]
     },
     "execution_count": 109,
     "metadata": {},
     "output_type": "execute_result"
    }
   ],
   "source": [
    "# fit the Logsitic Regression model with C=001\n",
    "\n",
    "# instantiate the model\n",
    "logreg001 = LogisticRegression(C=0.01, solver='liblinear', random_state=0)\n",
    "\n",
    "\n",
    "# fit the model\n",
    "logreg001.fit(X_train, y_train)"
   ]
  },
  {
   "cell_type": "code",
   "execution_count": 110,
   "metadata": {
    "execution": {
     "iopub.execute_input": "2023-04-15T13:29:22.629318Z",
     "iopub.status.busy": "2023-04-15T13:29:22.628836Z",
     "iopub.status.idle": "2023-04-15T13:29:22.703466Z",
     "shell.execute_reply": "2023-04-15T13:29:22.699024Z",
     "shell.execute_reply.started": "2023-04-15T13:29:22.629239Z"
    }
   },
   "outputs": [
    {
     "name": "stdout",
     "output_type": "stream",
     "text": [
      "Training set score: 0.8427\n",
      "Test set score: 0.8418\n"
     ]
    }
   ],
   "source": [
    "# print the scores on training and test set\n",
    "\n",
    "print('Training set score: {:.4f}'.format(logreg001.score(X_train, y_train)))\n",
    "\n",
    "print('Test set score: {:.4f}'.format(logreg001.score(X_test, y_test)))"
   ]
  },
  {
   "cell_type": "markdown",
   "metadata": {},
   "source": [
    "따라서, C=0.01로 더 규제화된 모델을 사용하면 기본 매개변수에 비해 학습 세트와 테스트 세트의 정확도가 모두 감소합니다."
   ]
  },
  {
   "cell_type": "markdown",
   "metadata": {},
   "source": [
    "### 모델 정확도와 기준정확도(null accuracy) 비교하기\n",
    "\n",
    "따라서, 모델 정확도는 0.8484입니다. 그러나 위의 정확도에 기반하여 우리 모델이 매우 좋다고 말할 수는 없습니다. 기준 정확도(null accuracy)와 비교해야 합니다. 기준 정확도는 가장 빈번하게 나타나는 클래스를 항상 예측하는 것으로 얻을 수 있는 정확도입니다.\n",
    "\n",
    "따라서, 먼저 테스트 세트에서의 클래스 분포를 확인해야 합니다."
   ]
  },
  {
   "cell_type": "code",
   "execution_count": 111,
   "metadata": {
    "execution": {
     "iopub.execute_input": "2023-04-15T13:29:22.708779Z",
     "iopub.status.busy": "2023-04-15T13:29:22.707707Z",
     "iopub.status.idle": "2023-04-15T13:29:22.731569Z",
     "shell.execute_reply": "2023-04-15T13:29:22.729474Z",
     "shell.execute_reply.started": "2023-04-15T13:29:22.708671Z"
    }
   },
   "outputs": [
    {
     "data": {
      "text/plain": [
       "0    22726\n",
       "1     6366\n",
       "Name: enc, dtype: int64"
      ]
     },
     "execution_count": 111,
     "metadata": {},
     "output_type": "execute_result"
    }
   ],
   "source": [
    "# check class distribution in test set\n",
    "\n",
    "y_test_series = y_test.iloc[:, 0]\n",
    "y_test_series.value_counts()"
   ]
  },
  {
   "cell_type": "markdown",
   "metadata": {},
   "source": [
    "우리는 가장 빈번한 클래스의 발생 빈도가 22726임을 알 수 있습니다. 따라서, 우리는 22726을 전체 발생 횟수로 나누어 null 정확도(null accuracy)를 계산할 수 있습니다"
   ]
  },
  {
   "cell_type": "code",
   "execution_count": 112,
   "metadata": {
    "execution": {
     "iopub.execute_input": "2023-04-15T13:29:22.735838Z",
     "iopub.status.busy": "2023-04-15T13:29:22.734790Z",
     "iopub.status.idle": "2023-04-15T13:29:22.749045Z",
     "shell.execute_reply": "2023-04-15T13:29:22.747029Z",
     "shell.execute_reply.started": "2023-04-15T13:29:22.735719Z"
    }
   },
   "outputs": [
    {
     "name": "stdout",
     "output_type": "stream",
     "text": [
      "Null accuracy score: 0.7812\n"
     ]
    }
   ],
   "source": [
    "# check null accuracy score\n",
    "\n",
    "null_accuracy = (22726/(22726+6366))\n",
    "\n",
    "print('Null accuracy score: {0:0.4f}'. format(null_accuracy))"
   ]
  },
  {
   "cell_type": "markdown",
   "metadata": {},
   "source": [
    "번역:\n",
    "우리는 모델 정확도 점수가 0.8484이지만 널(null) 정확도 점수가 0.7812임을 알 수 있습니다. 따라서, 우리는 로지스틱 회귀 모델이 클래스 레이블을 예측하는 데 아주 좋은 성능을 발휘하고 있다고 결론지을 수 있습니다."
   ]
  },
  {
   "cell_type": "markdown",
   "metadata": {},
   "source": [
    "이제 위의 분석을 바탕으로 분류 모델의 정확도가 매우 높다는 결론을 내릴 수 있습니다. 우리 모델은 클래스 레이블을 예측하는 데 매우 잘 수행하고 있습니다.\n",
    "\n",
    "하지만, 이는 값의 분포에 대한 정보를 제공하지 않으며, 분류기가 만드는 오류 유형에 대해서도 알려주지 않습니다.\n",
    "\n",
    "이 경우 `혼동 행렬(Confusion matrix)`이라는 도구가 우리를 돕게 됩니다."
   ]
  },
  {
   "cell_type": "markdown",
   "metadata": {},
   "source": [
    "# **15. 혼동 행렬Confusion matrix** <a class=\"anchor\" id=\"15\"></a>\n",
    "\n",
    "\n",
    "[Table of Contents](#0.1)\n",
    "\n",
    "\n",
    "혼동 행렬(Confusion matrix)은 분류 알고리즘의 성능을 요약하는 도구입니다. 혼동 행렬은 분류 모델의 성능과 모델이 만드는 오류 유형에 대한 명확한 그림을 제공합니다. 이는 각 카테고리별로 올바른 예측과 부정확한 예측을 요약하여 표시됩니다.\n",
    "\n",
    "분류 모델 성능을 평가할 때는 다음 4가지 결과가 가능합니다.\n",
    "\n",
    "참 긍정(True Positives, TP) : 어떤 관측치가 특정 클래스에 속한다고 예측하고 실제로 그 클래스에 속할 때 참 긍정이라고 합니다.\n",
    "\n",
    "참 부정(True Negatives, TN) : 어떤 관측치가 특정 클래스에 속하지 않는다고 예측하고 실제로 그 클래스에 속하지 않을 때 참 부정이라고 합니다.\n",
    "\n",
    "거짓 긍정(False Positives, FP) : 어떤 관측치가 특정 클래스에 속한다고 예측했지만 실제로는 그 클래스에 속하지 않을 때 거짓 긍정이라고 합니다. 이러한 유형의 오류를 1형 오류(Type I error) 라고 합니다.\n",
    "\n",
    "거짓 부정(False Negatives, FN) : 어떤 관측치가 특정 클래스에 속하지 않는다고 예측했지만 실제로는 그 클래스에 속할 때 거짓 부정이라고 합니다. 이는 매우 심각한 오류로서 2형 오류(Type II error) 라고 합니다.\n",
    "\n",
    "이 네 가지 결과는 아래와 같은 혼동 행렬에 요약됩니다."
   ]
  },
  {
   "cell_type": "code",
   "execution_count": 113,
   "metadata": {
    "execution": {
     "iopub.execute_input": "2023-04-15T13:29:22.753252Z",
     "iopub.status.busy": "2023-04-15T13:29:22.752196Z",
     "iopub.status.idle": "2023-04-15T13:29:22.843426Z",
     "shell.execute_reply": "2023-04-15T13:29:22.841793Z",
     "shell.execute_reply.started": "2023-04-15T13:29:22.753102Z"
    }
   },
   "outputs": [
    {
     "name": "stdout",
     "output_type": "stream",
     "text": [
      "Confusion matrix\n",
      "\n",
      " [[21543  1183]\n",
      " [ 3227  3139]]\n",
      "\n",
      "True Positives(TP) =  21543\n",
      "\n",
      "True Negatives(TN) =  3139\n",
      "\n",
      "False Positives(FP) =  1183\n",
      "\n",
      "False Negatives(FN) =  3227\n"
     ]
    }
   ],
   "source": [
    "# Print the Confusion Matrix and slice it into four pieces\n",
    "\n",
    "from sklearn.metrics import confusion_matrix\n",
    "\n",
    "cm = confusion_matrix(y_test, y_pred_test)\n",
    "\n",
    "print('Confusion matrix\\n\\n', cm)\n",
    "\n",
    "print('\\nTrue Positives(TP) = ', cm[0,0])\n",
    "\n",
    "print('\\nTrue Negatives(TN) = ', cm[1,1])\n",
    "\n",
    "print('\\nFalse Positives(FP) = ', cm[0,1])\n",
    "\n",
    "print('\\nFalse Negatives(FN) = ', cm[1,0])"
   ]
  },
  {
   "cell_type": "markdown",
   "metadata": {},
   "source": [
    "오차 행렬(confusion matrix)은 21543 + 3139 =  24682개의 정확한 예측과 3227 + 1183 = 4410개의 부정확한 예측을 보여줍니다.\n",
    "\n",
    "이 경우, 다음과 같습니다.\n",
    "\n",
    "True Positives (실제 양성:1 및 예측 양성:1) - 20892\n",
    "\n",
    "True Negatives (실제 음성:0 및 예측 음성:0) - 3285\n",
    "\n",
    "False Positives (실제 음성:0이지만 예측 양성:1) - 1175 (1형 오류)\n",
    "\n",
    "False Negatives (실제 양성:1이지만 예측 음성:0) - 3087 (2형 오류)"
   ]
  },
  {
   "cell_type": "code",
   "execution_count": 114,
   "metadata": {
    "execution": {
     "iopub.execute_input": "2023-04-15T13:29:22.846480Z",
     "iopub.status.busy": "2023-04-15T13:29:22.845706Z",
     "iopub.status.idle": "2023-04-15T13:29:23.168219Z",
     "shell.execute_reply": "2023-04-15T13:29:23.166537Z",
     "shell.execute_reply.started": "2023-04-15T13:29:22.846355Z"
    }
   },
   "outputs": [
    {
     "data": {
      "text/plain": [
       "<matplotlib.axes._subplots.AxesSubplot at 0x756bbb0cabe0>"
      ]
     },
     "execution_count": 114,
     "metadata": {},
     "output_type": "execute_result"
    },
    {
     "data": {
      "image/png": "[encoded data removed]",
      "text/plain": [
       "<Figure size 432x288 with 2 Axes>"
      ]
     },
     "metadata": {
      "needs_background": "light"
     },
     "output_type": "display_data"
    }
   ],
   "source": [
    "# visualize confusion matrix with seaborn heatmap\n",
    "\n",
    "cm_matrix = pd.DataFrame(data=cm, columns=['Actual Positive:1', 'Actual Negative:0'], \n",
    "                                 index=['Predict Positive:1', 'Predict Negative:0'])\n",
    "\n",
    "sns.heatmap(cm_matrix, annot=True, fmt='d', cmap='YlGnBu')"
   ]
  },
  {
   "cell_type": "markdown",
   "metadata": {},
   "source": [
    "# **16. Classification metrices** <a class=\"anchor\" id=\"16\"></a>\n",
    "\n",
    "\n",
    "[Table of Contents](#0.1)"
   ]
  },
  {
   "cell_type": "markdown",
   "metadata": {},
   "source": [
    "## Classification Report\n",
    "\n",
    "\n",
    "**분류 보고서(Classification Report)**는 분류 모델의 성능을 평가하는 다른 방법입니다. 이는 모델의 정밀도(precision), 재현율(recall), f1점수(f1 score) 및 지원(support) 점수를 표시합니다. 이러한 용어는 나중에 설명하겠습니다.\n",
    "\n",
    "분류 보고서를 출력하는 방법은 다음과 같습니다:-"
   ]
  },
  {
   "cell_type": "code",
   "execution_count": 115,
   "metadata": {
    "execution": {
     "iopub.execute_input": "2023-04-15T13:29:23.171647Z",
     "iopub.status.busy": "2023-04-15T13:29:23.170743Z",
     "iopub.status.idle": "2023-04-15T13:29:23.268676Z",
     "shell.execute_reply": "2023-04-15T13:29:23.267473Z",
     "shell.execute_reply.started": "2023-04-15T13:29:23.171540Z"
    }
   },
   "outputs": [
    {
     "name": "stdout",
     "output_type": "stream",
     "text": [
      "              precision    recall  f1-score   support\n",
      "\n",
      "           0       0.87      0.95      0.91     22726\n",
      "           1       0.73      0.49      0.59      6366\n",
      "\n",
      "    accuracy                           0.85     29092\n",
      "   macro avg       0.80      0.72      0.75     29092\n",
      "weighted avg       0.84      0.85      0.84     29092\n",
      "\n"
     ]
    }
   ],
   "source": [
    "from sklearn.metrics import classification_report\n",
    "\n",
    "print(classification_report(y_test, y_pred_test))"
   ]
  },
  {
   "cell_type": "markdown",
   "metadata": {},
   "source": [
    "## Classification accuracy"
   ]
  },
  {
   "cell_type": "code",
   "execution_count": 116,
   "metadata": {
    "execution": {
     "iopub.execute_input": "2023-04-15T13:29:23.270730Z",
     "iopub.status.busy": "2023-04-15T13:29:23.270385Z",
     "iopub.status.idle": "2023-04-15T13:29:23.276557Z",
     "shell.execute_reply": "2023-04-15T13:29:23.275644Z",
     "shell.execute_reply.started": "2023-04-15T13:29:23.270667Z"
    }
   },
   "outputs": [],
   "source": [
    "TP = cm[0,0]\n",
    "TN = cm[1,1]\n",
    "FP = cm[0,1]\n",
    "FN = cm[1,0]"
   ]
  },
  {
   "cell_type": "code",
   "execution_count": 117,
   "metadata": {
    "execution": {
     "iopub.execute_input": "2023-04-15T13:29:23.278753Z",
     "iopub.status.busy": "2023-04-15T13:29:23.277942Z",
     "iopub.status.idle": "2023-04-15T13:29:23.291621Z",
     "shell.execute_reply": "2023-04-15T13:29:23.290769Z",
     "shell.execute_reply.started": "2023-04-15T13:29:23.278687Z"
    }
   },
   "outputs": [
    {
     "name": "stdout",
     "output_type": "stream",
     "text": [
      "Classification accuracy : 0.8484\n"
     ]
    }
   ],
   "source": [
    "# print classification accuracy\n",
    "\n",
    "classification_accuracy = (TP + TN) / float(TP + TN + FP + FN)\n",
    "\n",
    "print('Classification accuracy : {0:0.4f}'.format(classification_accuracy))\n"
   ]
  },
  {
   "cell_type": "markdown",
   "metadata": {},
   "source": [
    "## Classification error"
   ]
  },
  {
   "cell_type": "code",
   "execution_count": 118,
   "metadata": {
    "execution": {
     "iopub.execute_input": "2023-04-15T13:29:23.294027Z",
     "iopub.status.busy": "2023-04-15T13:29:23.292954Z",
     "iopub.status.idle": "2023-04-15T13:29:23.308918Z",
     "shell.execute_reply": "2023-04-15T13:29:23.307884Z",
     "shell.execute_reply.started": "2023-04-15T13:29:23.293877Z"
    }
   },
   "outputs": [
    {
     "name": "stdout",
     "output_type": "stream",
     "text": [
      "Classification error : 0.1516\n"
     ]
    }
   ],
   "source": [
    "# print classification error\n",
    "\n",
    "classification_error = (FP + FN) / float(TP + TN + FP + FN)\n",
    "\n",
    "print('Classification error : {0:0.4f}'.format(classification_error))\n"
   ]
  },
  {
   "cell_type": "markdown",
   "metadata": {},
   "source": [
    "## Precision\n",
    "\n",
    "\n",
    "**정밀도 (Precision)** 는 예측된 양성 결과 중에서 올바르게 예측된 비율로 정의될 수 있습니다. 이는 참 양성(True Positive, TP)의 수를 참 양성과 거짓 양성(False Positive, FP)의 합(TP + FP)으로 나눈 비율로 표현할 수 있습니다.\n",
    "\n",
    "따라서 정밀도는 양성 클래스보다는 음성 클래스보다 더 관련된 결과를 식별합니다.\n",
    "\n",
    "수학적으로는, 정밀도는 `TP / (TP + FP)` 로 정의될 수 있습니다.\n",
    "\n",
    "\n"
   ]
  },
  {
   "cell_type": "code",
   "execution_count": 119,
   "metadata": {
    "execution": {
     "iopub.execute_input": "2023-04-15T13:29:23.312253Z",
     "iopub.status.busy": "2023-04-15T13:29:23.311562Z",
     "iopub.status.idle": "2023-04-15T13:29:23.325684Z",
     "shell.execute_reply": "2023-04-15T13:29:23.323538Z",
     "shell.execute_reply.started": "2023-04-15T13:29:23.311919Z"
    }
   },
   "outputs": [
    {
     "name": "stdout",
     "output_type": "stream",
     "text": [
      "Precision : 0.9479\n"
     ]
    }
   ],
   "source": [
    "# print precision score\n",
    "\n",
    "precision = TP / float(TP + FP)\n",
    "\n",
    "\n",
    "print('Precision : {0:0.4f}'.format(precision))\n"
   ]
  },
  {
   "cell_type": "markdown",
   "metadata": {},
   "source": [
    "## Recall\n",
    "\n",
    "\n",
    "Precision는 모델이 예측한 양성 중에서 올바르게 예측한 비율을 나타내는 지표입니다. 이것은 실제 양성 중에서 모델이 양성으로 예측한 것이 올바른 비율(TP)을 모든 양성 예측(올바른 양성(TP) + 잘못된 양성(FP))으로 나눈 값으로 표시됩니다.\n",
    "\n",
    "즉, 정밀도는 양성 클래스에 대해서만 음성 클래스보다 더 관심이 있으며, 정확하게 예측된 양성 비율을 식별합니다.\n",
    "\n",
    "수학적으로, 정밀도는 TP / (TP + FP)로 정의됩니다.\n",
    "\n",
    "Recall 또는 민감도는 모델이 예측한 양성 결과에서 실제 양성 결과의 비율로 정의될 수 있습니다. 이것은 실제 양성 중에서 모델이 실제로 양성으로 예측한 것(TP)을 실제 양성(TP + FN)으로 나눈 값으로 표시됩니다.\n",
    "\n",
    "수학적으로, 민감도는 TP / (TP + FN)으로 정의됩니다.\n",
    "\n",
    "\n",
    "\n"
   ]
  },
  {
   "cell_type": "code",
   "execution_count": 120,
   "metadata": {
    "execution": {
     "iopub.execute_input": "2023-04-15T13:29:23.328283Z",
     "iopub.status.busy": "2023-04-15T13:29:23.327387Z",
     "iopub.status.idle": "2023-04-15T13:29:23.341090Z",
     "shell.execute_reply": "2023-04-15T13:29:23.339096Z",
     "shell.execute_reply.started": "2023-04-15T13:29:23.328208Z"
    }
   },
   "outputs": [
    {
     "name": "stdout",
     "output_type": "stream",
     "text": [
      "Recall or Sensitivity : 0.8697\n"
     ]
    }
   ],
   "source": [
    "recall = TP / float(TP + FN)\n",
    "\n",
    "print('Recall or Sensitivity : {0:0.4f}'.format(recall))"
   ]
  },
  {
   "cell_type": "markdown",
   "metadata": {},
   "source": [
    "## True Positive Rate\n",
    "\n",
    "\n",
    "**True Positive Rate**는 **재현율**과 같은 말이다"
   ]
  },
  {
   "cell_type": "code",
   "execution_count": 121,
   "metadata": {
    "execution": {
     "iopub.execute_input": "2023-04-15T13:29:23.343975Z",
     "iopub.status.busy": "2023-04-15T13:29:23.343169Z",
     "iopub.status.idle": "2023-04-15T13:29:23.353678Z",
     "shell.execute_reply": "2023-04-15T13:29:23.352449Z",
     "shell.execute_reply.started": "2023-04-15T13:29:23.343896Z"
    }
   },
   "outputs": [
    {
     "name": "stdout",
     "output_type": "stream",
     "text": [
      "True Positive Rate : 0.8697\n"
     ]
    }
   ],
   "source": [
    "true_positive_rate = TP / float(TP + FN)\n",
    "\n",
    "\n",
    "print('True Positive Rate : {0:0.4f}'.format(true_positive_rate))"
   ]
  },
  {
   "cell_type": "markdown",
   "metadata": {},
   "source": [
    "## False Positive Rate"
   ]
  },
  {
   "cell_type": "code",
   "execution_count": 122,
   "metadata": {
    "execution": {
     "iopub.execute_input": "2023-04-15T13:29:23.356566Z",
     "iopub.status.busy": "2023-04-15T13:29:23.355619Z",
     "iopub.status.idle": "2023-04-15T13:29:23.366812Z",
     "shell.execute_reply": "2023-04-15T13:29:23.365700Z",
     "shell.execute_reply.started": "2023-04-15T13:29:23.356493Z"
    }
   },
   "outputs": [
    {
     "name": "stdout",
     "output_type": "stream",
     "text": [
      "False Positive Rate : 0.2737\n"
     ]
    }
   ],
   "source": [
    "false_positive_rate = FP / float(FP + TN)\n",
    "\n",
    "\n",
    "print('False Positive Rate : {0:0.4f}'.format(false_positive_rate))"
   ]
  },
  {
   "cell_type": "markdown",
   "metadata": {},
   "source": [
    "## Specificity"
   ]
  },
  {
   "cell_type": "code",
   "execution_count": 123,
   "metadata": {
    "execution": {
     "iopub.execute_input": "2023-04-15T13:29:23.370754Z",
     "iopub.status.busy": "2023-04-15T13:29:23.370303Z",
     "iopub.status.idle": "2023-04-15T13:29:23.382972Z",
     "shell.execute_reply": "2023-04-15T13:29:23.381388Z",
     "shell.execute_reply.started": "2023-04-15T13:29:23.370682Z"
    }
   },
   "outputs": [
    {
     "name": "stdout",
     "output_type": "stream",
     "text": [
      "Specificity : 0.7263\n"
     ]
    }
   ],
   "source": [
    "specificity = TN / (TN + FP)\n",
    "\n",
    "print('Specificity : {0:0.4f}'.format(specificity))"
   ]
  },
  {
   "cell_type": "markdown",
   "metadata": {},
   "source": [
    "## f1-score\n",
    "\n",
    "\n",
    "\"f1-score\"는 정밀도(Precision)와 재현율(Recall)의 가중치 조화 평균(weighted harmonic mean)입니다. 최상의 \"f1-score\"는 1.0이고, 최악의 경우는 0.0입니다. \"f1-score\"는 정밀도와 재현율의 조화 평균(harmonic mean)이므로, 정확도 측정값은 정밀도와 재현율을 포함하여 계산되기 때문에 항상 더 높은 값을 가집니다. 분류 모델을 비교할 때는 \"f1-score\"의 가중 평균(weighted average)을 사용해야 하며, 전체적인 정확도보다는 더 나은 비교 지표가 됩니다.\n",
    "\n"
   ]
  },
  {
   "cell_type": "markdown",
   "metadata": {},
   "source": [
    "## Support\n",
    "\n",
    "\n",
    "\"Support\"는 데이터셋에서 클래스가 실제로 발생한 횟수(actual number of occurrences)입니다."
   ]
  },
  {
   "cell_type": "markdown",
   "metadata": {},
   "source": [
    "# **17. 임계값 레벨 조정** <a class=\"anchor\" id=\"17\"></a>\n",
    "\n",
    "\n",
    "[Table of Contents](#0.1)"
   ]
  },
  {
   "cell_type": "code",
   "execution_count": 124,
   "metadata": {
    "execution": {
     "iopub.execute_input": "2023-04-15T13:29:23.385741Z",
     "iopub.status.busy": "2023-04-15T13:29:23.385053Z",
     "iopub.status.idle": "2023-04-15T13:29:23.421930Z",
     "shell.execute_reply": "2023-04-15T13:29:23.420286Z",
     "shell.execute_reply.started": "2023-04-15T13:29:23.385662Z"
    }
   },
   "outputs": [
    {
     "data": {
      "text/plain": [
       "array([[0.83218012, 0.16781988],\n",
       "       [0.74547897, 0.25452103],\n",
       "       [0.79864899, 0.20135101],\n",
       "       [0.58509213, 0.41490787],\n",
       "       [0.92165784, 0.07834216],\n",
       "       [0.95625879, 0.04374121],\n",
       "       [0.57881888, 0.42118112],\n",
       "       [0.50293916, 0.49706084],\n",
       "       [0.80281943, 0.19718057],\n",
       "       [0.72340946, 0.27659054]])"
      ]
     },
     "execution_count": 124,
     "metadata": {},
     "output_type": "execute_result"
    }
   ],
   "source": [
    "# print the first 10 predicted probabilities of two classes- 0 and 1\n",
    "\n",
    "y_pred_prob = logreg.predict_proba(X_test)[0:10]\n",
    "\n",
    "y_pred_prob"
   ]
  },
  {
   "cell_type": "markdown",
   "metadata": {},
   "source": [
    "### Observations\n",
    "\n",
    "\n",
    "- 각 행마다 숫자의 합은 1이 됩니다.\n",
    "\n",
    "- 0과 1 두 개의 클래스에 해당하는 2개의 열이 있습니다.\n",
    "\n",
    "    - 클래스 0 - 내일 비가 오지 않을 확률을 예측한 확률 값\n",
    "\n",
    "    - 클래스 1 - 내일 비가 올 확률을 예측한 확률 값\n",
    "\n",
    "- 예측된 확률 값의 중요성\n",
    "\n",
    "    - 확률 값에 따라 각 관측치를 내일 비가 올 확률이 높은 순으로 순위를 매길 수 있습니다. \n",
    "- predict_proba 과정\n",
    "\n",
    "    - 각 클래스의 확률 값을 예측합니다.\n",
    "\n",
    "    - 가장 높은 확률 값을 가진 클래스를 선택합니다.\n",
    "\n",
    "- 분류 임계값\n",
    "\n",
    "    - 분류 임계값이 0.5로 설정되어 있습니다.\n",
    "\n",
    "    - 클래스 1은 확률 값이 0.5보다 크면 내일 비가 올 확률로 예측됩니다.\n",
    "\n",
    "    - 클래스 0은 확률 값이 0.5보다 작으면 내일 비가 오지 않을 확률로 예측됩니다.\n"
   ]
  },
  {
   "cell_type": "code",
   "execution_count": 125,
   "metadata": {
    "execution": {
     "iopub.execute_input": "2023-04-15T13:29:23.426230Z",
     "iopub.status.busy": "2023-04-15T13:29:23.424609Z",
     "iopub.status.idle": "2023-04-15T13:29:23.457230Z",
     "shell.execute_reply": "2023-04-15T13:29:23.455455Z",
     "shell.execute_reply.started": "2023-04-15T13:29:23.426096Z"
    }
   },
   "outputs": [
    {
     "data": {
      "text/html": [
       "<div>\n",
       "<style scoped>\n",
       "    .dataframe tbody tr th:only-of-type {\n",
       "        vertical-align: middle;\n",
       "    }\n",
       "\n",
       "    .dataframe tbody tr th {\n",
       "        vertical-align: top;\n",
       "    }\n",
       "\n",
       "    .dataframe thead th {\n",
       "        text-align: right;\n",
       "    }\n",
       "</style>\n",
       "<table border=\"1\" class=\"dataframe\">\n",
       "  <thead>\n",
       "    <tr style=\"text-align: right;\">\n",
       "      <th></th>\n",
       "      <th>Prob of - No rain tomorrow (0)</th>\n",
       "      <th>Prob of - Rain tomorrow (1)</th>\n",
       "    </tr>\n",
       "  </thead>\n",
       "  <tbody>\n",
       "    <tr>\n",
       "      <th>0</th>\n",
       "      <td>0.832180</td>\n",
       "      <td>0.167820</td>\n",
       "    </tr>\n",
       "    <tr>\n",
       "      <th>1</th>\n",
       "      <td>0.745479</td>\n",
       "      <td>0.254521</td>\n",
       "    </tr>\n",
       "    <tr>\n",
       "      <th>2</th>\n",
       "      <td>0.798649</td>\n",
       "      <td>0.201351</td>\n",
       "    </tr>\n",
       "    <tr>\n",
       "      <th>3</th>\n",
       "      <td>0.585092</td>\n",
       "      <td>0.414908</td>\n",
       "    </tr>\n",
       "    <tr>\n",
       "      <th>4</th>\n",
       "      <td>0.921658</td>\n",
       "      <td>0.078342</td>\n",
       "    </tr>\n",
       "    <tr>\n",
       "      <th>5</th>\n",
       "      <td>0.956259</td>\n",
       "      <td>0.043741</td>\n",
       "    </tr>\n",
       "    <tr>\n",
       "      <th>6</th>\n",
       "      <td>0.578819</td>\n",
       "      <td>0.421181</td>\n",
       "    </tr>\n",
       "    <tr>\n",
       "      <th>7</th>\n",
       "      <td>0.502939</td>\n",
       "      <td>0.497061</td>\n",
       "    </tr>\n",
       "    <tr>\n",
       "      <th>8</th>\n",
       "      <td>0.802819</td>\n",
       "      <td>0.197181</td>\n",
       "    </tr>\n",
       "    <tr>\n",
       "      <th>9</th>\n",
       "      <td>0.723409</td>\n",
       "      <td>0.276591</td>\n",
       "    </tr>\n",
       "  </tbody>\n",
       "</table>\n",
       "</div>"
      ],
      "text/plain": [
       "   Prob of - No rain tomorrow (0)  Prob of - Rain tomorrow (1)\n",
       "0                        0.832180                     0.167820\n",
       "1                        0.745479                     0.254521\n",
       "2                        0.798649                     0.201351\n",
       "3                        0.585092                     0.414908\n",
       "4                        0.921658                     0.078342\n",
       "5                        0.956259                     0.043741\n",
       "6                        0.578819                     0.421181\n",
       "7                        0.502939                     0.497061\n",
       "8                        0.802819                     0.197181\n",
       "9                        0.723409                     0.276591"
      ]
     },
     "execution_count": 125,
     "metadata": {},
     "output_type": "execute_result"
    }
   ],
   "source": [
    "# store the probabilities in dataframe\n",
    "\n",
    "y_pred_prob_df = pd.DataFrame(data=y_pred_prob, columns=['Prob of - No rain tomorrow (0)', 'Prob of - Rain tomorrow (1)'])\n",
    "\n",
    "y_pred_prob_df"
   ]
  },
  {
   "cell_type": "code",
   "execution_count": 126,
   "metadata": {
    "execution": {
     "iopub.execute_input": "2023-04-15T13:29:23.461455Z",
     "iopub.status.busy": "2023-04-15T13:29:23.459799Z",
     "iopub.status.idle": "2023-04-15T13:29:23.491586Z",
     "shell.execute_reply": "2023-04-15T13:29:23.490078Z",
     "shell.execute_reply.started": "2023-04-15T13:29:23.461347Z"
    }
   },
   "outputs": [
    {
     "data": {
      "text/plain": [
       "array([0.16781988, 0.25452103, 0.20135101, 0.41490787, 0.07834216,\n",
       "       0.04374121, 0.42118112, 0.49706084, 0.19718057, 0.27659054])"
      ]
     },
     "execution_count": 126,
     "metadata": {},
     "output_type": "execute_result"
    }
   ],
   "source": [
    "# print the first 10 predicted probabilities for class 1 - Probability of rain\n",
    "\n",
    "logreg.predict_proba(X_test)[0:10, 1]"
   ]
  },
  {
   "cell_type": "code",
   "execution_count": 127,
   "metadata": {
    "execution": {
     "iopub.execute_input": "2023-04-15T13:29:23.495423Z",
     "iopub.status.busy": "2023-04-15T13:29:23.494329Z",
     "iopub.status.idle": "2023-04-15T13:29:23.516786Z",
     "shell.execute_reply": "2023-04-15T13:29:23.515162Z",
     "shell.execute_reply.started": "2023-04-15T13:29:23.495319Z"
    }
   },
   "outputs": [],
   "source": [
    "# store the predicted probabilities for class 1 - Probability of rain\n",
    "\n",
    "y_pred1 = logreg.predict_proba(X_test)[:, 1]"
   ]
  },
  {
   "cell_type": "code",
   "execution_count": 128,
   "metadata": {
    "execution": {
     "iopub.execute_input": "2023-04-15T13:29:23.520811Z",
     "iopub.status.busy": "2023-04-15T13:29:23.519675Z",
     "iopub.status.idle": "2023-04-15T13:29:23.927957Z",
     "shell.execute_reply": "2023-04-15T13:29:23.926411Z",
     "shell.execute_reply.started": "2023-04-15T13:29:23.520704Z"
    }
   },
   "outputs": [
    {
     "data": {
      "text/plain": [
       "Text(0, 0.5, 'Frequency')"
      ]
     },
     "execution_count": 128,
     "metadata": {},
     "output_type": "execute_result"
    },
    {
     "data": {
      "image/png": "[encoded data removed]",
      "text/plain": [
       "<Figure size 432x288 with 1 Axes>"
      ]
     },
     "metadata": {
      "needs_background": "light"
     },
     "output_type": "display_data"
    }
   ],
   "source": [
    "# plot histogram of predicted probabilities\n",
    "\n",
    "\n",
    "# adjust the font size \n",
    "plt.rcParams['font.size'] = 12\n",
    "\n",
    "\n",
    "# plot histogram with 10 bins\n",
    "plt.hist(y_pred1, bins = 10)\n",
    "\n",
    "\n",
    "# set the title of predicted probabilities\n",
    "plt.title('Histogram of predicted probabilities of rain')\n",
    "\n",
    "\n",
    "# set the x-axis limit\n",
    "plt.xlim(0,1)\n",
    "\n",
    "\n",
    "# set the title\n",
    "plt.xlabel('Predicted probabilities of rain')\n",
    "plt.ylabel('Frequency')"
   ]
  },
  {
   "cell_type": "markdown",
   "metadata": {},
   "source": [
    "### 조사결과\n",
    "\n",
    "- 위의 히스토그램은 매우 양의 왜도(skewed)를 가진 것으로 보입니다.\n",
    "\n",
    "- 첫 번째 열은 0.0과 0.1 사이의 확률 값을 가진 약 15000개의 관측치가 있음을 나타냅니다.\n",
    "\n",
    "- 0.5보다 큰 확률 값을 가진 관측치는 적습니다.\n",
    "\n",
    "- 따라서 이 적은 수의 관측치는 내일 비가 올 확률로 예측됩니다.\n",
    "\n",
    "- 대부분의 관측치는 내일 비가 오지 않을 확률로 예측됩니다."
   ]
  },
  {
   "cell_type": "markdown",
   "metadata": {},
   "source": [
    "### Lower the threshold"
   ]
  },
  {
   "cell_type": "code",
   "execution_count": 129,
   "metadata": {
    "execution": {
     "iopub.execute_input": "2023-04-15T13:29:23.931727Z",
     "iopub.status.busy": "2023-04-15T13:29:23.930693Z",
     "iopub.status.idle": "2023-04-15T13:29:24.605460Z",
     "shell.execute_reply": "2023-04-15T13:29:24.603507Z",
     "shell.execute_reply.started": "2023-04-15T13:29:23.931626Z"
    }
   },
   "outputs": [
    {
     "name": "stdout",
     "output_type": "stream",
     "text": [
      "With 0.1 threshold the Confusion Matrix is\n",
      "\n",
      " [[13292  9434]\n",
      " [  571  5795]] \n",
      "\n",
      " with 19087 correct predictions\n",
      "\n",
      " 9434 Type I errors (False Positives)\n",
      "\n",
      " 571 Type II errors (False Negatives)\n",
      "\n",
      " Accuracy score: 0.6560910215866905 \n",
      "\n",
      " Sensitivity: 0.9103047439522463 \n",
      "\n",
      " Specificity: 0.584880753322186 \n",
      "\n",
      " ====================================================\n",
      "\n",
      "\n",
      "With 0.2 threshold the Confusion Matrix is\n",
      "\n",
      " [[17741  4985]\n",
      " [ 1365  5001]] \n",
      "\n",
      " with 22742 correct predictions\n",
      "\n",
      " 4985 Type I errors (False Positives)\n",
      "\n",
      " 1365 Type II errors (False Negatives)\n",
      "\n",
      " Accuracy score: 0.7817269352399285 \n",
      "\n",
      " Sensitivity: 0.7855796418473139 \n",
      "\n",
      " Specificity: 0.7806477162721113 \n",
      "\n",
      " ====================================================\n",
      "\n",
      "\n",
      "With 0.3 threshold the Confusion Matrix is\n",
      "\n",
      " [[19744  2982]\n",
      " [ 2043  4323]] \n",
      "\n",
      " with 24067 correct predictions\n",
      "\n",
      " 2982 Type I errors (False Positives)\n",
      "\n",
      " 2043 Type II errors (False Negatives)\n",
      "\n",
      " Accuracy score: 0.8272721022961639 \n",
      "\n",
      " Sensitivity: 0.679076343072573 \n",
      "\n",
      " Specificity: 0.8687846519405087 \n",
      "\n",
      " ====================================================\n",
      "\n",
      "\n",
      "With 0.4 threshold the Confusion Matrix is\n",
      "\n",
      " [[20840  1886]\n",
      " [ 2646  3720]] \n",
      "\n",
      " with 24560 correct predictions\n",
      "\n",
      " 1886 Type I errors (False Positives)\n",
      "\n",
      " 2646 Type II errors (False Negatives)\n",
      "\n",
      " Accuracy score: 0.844218341812182 \n",
      "\n",
      " Sensitivity: 0.58435438265787 \n",
      "\n",
      " Specificity: 0.9170113526357476 \n",
      "\n",
      " ====================================================\n",
      "\n",
      "\n"
     ]
    }
   ],
   "source": [
    "from sklearn.preprocessing import binarize\n",
    "\n",
    "for i in range(1, 5):\n",
    "    cm1 = 0\n",
    "    y_pred1 = logreg.predict_proba(X_test)[:, 1]\n",
    "    y_pred1 = y_pred1.reshape(-1, 1)\n",
    "    y_pred2 = binarize(y_pred1, i/10)\n",
    "    y_pred2 = np.where(y_pred2 == 1, 'Yes', 'No')\n",
    "    \n",
    "    y_test_str = np.where(y_test == 1, 'Yes', 'No') # y_test 레이블을 문자열 형식으로 변환\n",
    "    \n",
    "    cm1 = confusion_matrix(y_test_str, y_pred2)\n",
    "    \n",
    "    print('With', i/10, 'threshold the Confusion Matrix is\\n\\n', cm1, '\\n\\n',\n",
    "          'with', cm1[0,0]+cm1[1,1], 'correct predictions\\n\\n',\n",
    "          cm1[0,1], 'Type I errors (False Positives)\\n\\n',\n",
    "          cm1[1,0], 'Type II errors (False Negatives)\\n\\n',\n",
    "          'Accuracy score:', accuracy_score(y_test_str, y_pred2), '\\n\\n',\n",
    "          'Sensitivity:', cm1[1,1]/float(cm1[1,1]+cm1[1,0]), '\\n\\n',\n",
    "          'Specificity:', cm1[0,0]/float(cm1[0,0]+cm1[0,1]), '\\n\\n',\n",
    "          '====================================================\\n\\n')\n"
   ]
  },
  {
   "cell_type": "markdown",
   "metadata": {},
   "source": [
    "### Comments\n",
    "\n",
    "\n",
    "- 이진(binary) 문제에서는, 예측된 확률 값을 클래스 예측으로 변환하기 위해 기본적으로 0.5의 임계값을 사용합니다.\n",
    "\n",
    "- 민감도 또는 특이도를 증가시키기 위해 임계값을 조정할 수 있습니다.\n",
    "\n",
    "- 민감도와 특이도는 역의 관계를 가집니다. 하나를 증가시키면 다른 하나는 항상 감소하게 됩니다.\n",
    "\n",
    "- 임계값을 높이면 정확도가 증가하는 것을 볼 수 있습니다.\n",
    "\n",
    "- 임계값을 조정하는 것은 모델 구축 과정에서 마지막 단계 중 하나여야 합니다."
   ]
  },
  {
   "cell_type": "markdown",
   "metadata": {},
   "source": [
    "# **18. ROC - AUC** <a class=\"anchor\" id=\"18\"></a>\n",
    "\n",
    "\n",
    "[Table of Contents](#0.1)\n",
    "\n",
    "\n",
    "\n",
    "## ROC 곡선\n",
    "분류 모델 성능을 시각적으로 측정하는 또 다른 도구는 ROC(Receiver Operating Characteristic) 곡선입니다. ROC 곡선은 분류 모델의 성능을 다양한 분류 임계값(threshold) 수준에서 보여주는 그래프입니다.\n",
    "\n",
    "ROC 곡선은 다양한 임계값에서 **진짜 양성 비율(TPR, True Positive Rate)**과 **거짓 양성 비율(FPR, False Positive Rate)**을 나타냅니다.\n",
    "\n",
    "**진짜 양성 비율(TPR)**은 민감도(Recall)로도 불립니다. 이는 TP / (TP + FN)의 비율로 정의됩니다.\n",
    "\n",
    "**거짓 양성 비율(FPR)**은 FP / (FP + TN)의 비율로 정의됩니다.\n",
    "\n",
    "ROC 곡선에서는 단일 지점의 TPR(진짜 양성 비율) 및 FPR(거짓 양성 비율)에 초점을 맞춥니다. 이를 통해 다양한 분류 임계값 수준에서 TPR 및 FPR로 이루어진 ROC 곡선의 전반적인 성능을 파악할 수 있습니다. 따라서 ROC 곡선은 다양한 분류 임계값 수준에서 TPR 대 FPR을 나타냅니다. 임계값을 낮추면 더 많은 항목이 양성으로 분류될 수 있습니다. 이는 진짜 양성(TP)과 거짓 양성(FP)을 모두 증가시킬 수 있습니다.\n"
   ]
  },
  {
   "cell_type": "code",
   "execution_count": 130,
   "metadata": {
    "execution": {
     "iopub.execute_input": "2023-04-15T13:29:24.608200Z",
     "iopub.status.busy": "2023-04-15T13:29:24.607699Z",
     "iopub.status.idle": "2023-04-15T13:29:24.978989Z",
     "shell.execute_reply": "2023-04-15T13:29:24.976868Z",
     "shell.execute_reply.started": "2023-04-15T13:29:24.608093Z"
    }
   },
   "outputs": [
    {
     "data": {
      "image/png": "[encoded data removed]",
      "text/plain": [
       "<Figure size 432x288 with 1 Axes>"
      ]
     },
     "metadata": {
      "needs_background": "light"
     },
     "output_type": "display_data"
    }
   ],
   "source": [
    "# plot ROC Curve\n",
    "from sklearn.metrics import roc_curve\n",
    "\n",
    "# y_test와 y_pred1을 계산한 후에 ROC 곡선을 그립니다.\n",
    "fpr, tpr, thresholds = roc_curve(y_test, y_pred1, pos_label=1)\n",
    "\n",
    "plt.figure(figsize=(6,4))\n",
    "plt.plot(fpr, tpr, linewidth=2)\n",
    "plt.plot([0,1], [0,1], 'k--' )\n",
    "plt.rcParams['font.size'] = 12\n",
    "plt.title('ROC curve for RainTomorrow classifier')\n",
    "plt.xlabel('False Positive Rate (1 - Specificity)')\n",
    "plt.ylabel('True Positive Rate (Sensitivity)')\n",
    "plt.show()\n",
    "\n"
   ]
  },
  {
   "cell_type": "markdown",
   "metadata": {},
   "source": [
    "ROC 곡선은 특정 문맥에서 민감도와 특이도를 균형있게 조절하는 임계값을 선택하는 데 도움을 줍니다."
   ]
  },
  {
   "cell_type": "markdown",
   "metadata": {},
   "source": [
    "## ROC-AUC\n",
    " ROC-AUC는 Receiver Operating Characteristic - Area Under Curve의 약어로, 분류기의 성능을 비교하는 기술입니다. 이 기술에서는 곡선 아래 면적(AUC)을 측정합니다. 완벽한 분류기는 ROC AUC가 1이 되고, 완전한 랜덤 분류기는 ROC AUC가 0.5가 됩니다.\n",
    "\n",
    "따라서 ROC AUC는 ROC 곡선 아래의 면적의 백분율입니다."
   ]
  },
  {
   "cell_type": "code",
   "execution_count": 131,
   "metadata": {
    "execution": {
     "iopub.execute_input": "2023-04-15T13:29:24.981371Z",
     "iopub.status.busy": "2023-04-15T13:29:24.980709Z",
     "iopub.status.idle": "2023-04-15T13:29:25.006175Z",
     "shell.execute_reply": "2023-04-15T13:29:25.004072Z",
     "shell.execute_reply.started": "2023-04-15T13:29:24.981306Z"
    }
   },
   "outputs": [
    {
     "name": "stdout",
     "output_type": "stream",
     "text": [
      "ROC AUC : 0.8671\n"
     ]
    }
   ],
   "source": [
    "# compute ROC AUC\n",
    "\n",
    "from sklearn.metrics import roc_auc_score\n",
    "\n",
    "ROC_AUC = roc_auc_score(y_test, y_pred1)\n",
    "\n",
    "print('ROC AUC : {:.4f}'.format(ROC_AUC))"
   ]
  },
  {
   "cell_type": "markdown",
   "metadata": {},
   "source": [
    "### Comments\n",
    "\n",
    "ROC AUC는 분류기 성능의 단일 숫자 요약입니다. 값이 높을수록 분류기가 더 좋습니다.\n",
    "\n",
    "우리 모델의 ROC AUC 값은 1에 가까워지므로, 우리 분류기가 내일 비가 올지 여부를 예측하는 데 잘 동작한다고 결론을 내릴 수 있습니다."
   ]
  },
  {
   "cell_type": "code",
   "execution_count": 132,
   "metadata": {
    "execution": {
     "iopub.execute_input": "2023-04-15T13:29:25.008916Z",
     "iopub.status.busy": "2023-04-15T13:29:25.008548Z",
     "iopub.status.idle": "2023-04-15T13:29:40.959088Z",
     "shell.execute_reply": "2023-04-15T13:29:40.957961Z",
     "shell.execute_reply.started": "2023-04-15T13:29:25.008853Z"
    }
   },
   "outputs": [
    {
     "name": "stdout",
     "output_type": "stream",
     "text": [
      "Cross validated ROC AUC : 0.8675\n"
     ]
    }
   ],
   "source": [
    "# calculate cross-validated ROC AUC \n",
    "\n",
    "from sklearn.model_selection import cross_val_score\n",
    "\n",
    "Cross_validated_ROC_AUC = cross_val_score(logreg, X_train, y_train, cv=5, scoring='roc_auc').mean()\n",
    "\n",
    "print('Cross validated ROC AUC : {:.4f}'.format(Cross_validated_ROC_AUC))"
   ]
  },
  {
   "cell_type": "markdown",
   "metadata": {},
   "source": [
    "# **19. k-Fold Cross Validation** <a class=\"anchor\" id=\"19\"></a>\n",
    "\n",
    "\n",
    "[Table of Contents](#0.1)"
   ]
  },
  {
   "cell_type": "code",
   "execution_count": 133,
   "metadata": {
    "execution": {
     "iopub.execute_input": "2023-04-15T13:29:40.961730Z",
     "iopub.status.busy": "2023-04-15T13:29:40.961004Z",
     "iopub.status.idle": "2023-04-15T13:29:55.986987Z",
     "shell.execute_reply": "2023-04-15T13:29:55.982278Z",
     "shell.execute_reply.started": "2023-04-15T13:29:40.961663Z"
    }
   },
   "outputs": [
    {
     "name": "stdout",
     "output_type": "stream",
     "text": [
      "Cross-validation scores:[0.84803437 0.8493598  0.8493963  0.84501353 0.84879474]\n"
     ]
    }
   ],
   "source": [
    "# Applying 5-Fold Cross Validation\n",
    "\n",
    "from sklearn.model_selection import cross_val_score\n",
    "\n",
    "scores = cross_val_score(logreg, X_train, y_train, cv = 5, scoring='accuracy')\n",
    "\n",
    "print('Cross-validation scores:{}'.format(scores))"
   ]
  },
  {
   "cell_type": "markdown",
   "metadata": {},
   "source": [
    "교차 검증 정확도를 요약하려면, 해당 정확도의 평균을 계산할 수 있습니다"
   ]
  },
  {
   "cell_type": "code",
   "execution_count": 134,
   "metadata": {
    "execution": {
     "iopub.execute_input": "2023-04-15T13:29:55.990213Z",
     "iopub.status.busy": "2023-04-15T13:29:55.989613Z",
     "iopub.status.idle": "2023-04-15T13:29:56.011702Z",
     "shell.execute_reply": "2023-04-15T13:29:56.010234Z",
     "shell.execute_reply.started": "2023-04-15T13:29:55.990098Z"
    }
   },
   "outputs": [
    {
     "name": "stdout",
     "output_type": "stream",
     "text": [
      "Average cross-validation score: 0.8481\n"
     ]
    }
   ],
   "source": [
    "# compute Average cross-validation score\n",
    "\n",
    "print('Average cross-validation score: {:.4f}'.format(scores.mean()))"
   ]
  },
  {
   "cell_type": "markdown",
   "metadata": {},
   "source": [
    "우리의 원래 모델 점수는 0.8484으로 나타났습니다. 평균 교차 검증 점수는 0.8481입니다. 따라서 교차 검증은 성능 향상을 가져오지 않음을 결론지을 수 있습니다."
   ]
  },
  {
   "cell_type": "markdown",
   "metadata": {},
   "source": [
    "# **20. Hyperparameter Optimization using GridSearch CV** <a class=\"anchor\" id=\"20\"></a>\n",
    "\n",
    "\n",
    "[Table of Contents](#0.1)"
   ]
  },
  {
   "cell_type": "code",
   "execution_count": 135,
   "metadata": {
    "execution": {
     "iopub.execute_input": "2023-04-15T13:29:56.023267Z",
     "iopub.status.busy": "2023-04-15T13:29:56.014375Z",
     "iopub.status.idle": "2023-04-15T13:38:18.805789Z",
     "shell.execute_reply": "2023-04-15T13:38:18.804801Z",
     "shell.execute_reply.started": "2023-04-15T13:29:56.014827Z"
    },
    "scrolled": true
   },
   "outputs": [
    {
     "data": {
      "text/plain": [
       "GridSearchCV(cv=5, error_score='raise-deprecating',\n",
       "             estimator=LogisticRegression(C=1.0, class_weight=None, dual=False,\n",
       "                                          fit_intercept=True,\n",
       "                                          intercept_scaling=1, l1_ratio=None,\n",
       "                                          max_iter=100, multi_class='warn',\n",
       "                                          n_jobs=None, penalty='l2',\n",
       "                                          random_state=0, solver='liblinear',\n",
       "                                          tol=0.0001, verbose=0,\n",
       "                                          warm_start=False),\n",
       "             iid='warn', n_jobs=None,\n",
       "             param_grid=[{'penalty': ['l1', 'l2']}, {'C': [1, 10, 100, 1000]}],\n",
       "             pre_dispatch='2*n_jobs', refit=True, return_train_score=False,\n",
       "             scoring='accuracy', verbose=0)"
      ]
     },
     "execution_count": 135,
     "metadata": {},
     "output_type": "execute_result"
    }
   ],
   "source": [
    "from sklearn.model_selection import GridSearchCV\n",
    "\n",
    "\n",
    "parameters = [{'penalty':['l1','l2']}, \n",
    "              {'C':[1, 10, 100, 1000]}]\n",
    "\n",
    "\n",
    "\n",
    "grid_search = GridSearchCV(estimator = logreg,  \n",
    "                           param_grid = parameters,\n",
    "                           scoring = 'accuracy',\n",
    "                           cv = 5,\n",
    "                           verbose=0)\n",
    "\n",
    "\n",
    "grid_search.fit(X_train, y_train)\n"
   ]
  },
  {
   "cell_type": "code",
   "execution_count": 136,
   "metadata": {
    "execution": {
     "iopub.execute_input": "2023-04-15T13:38:18.807712Z",
     "iopub.status.busy": "2023-04-15T13:38:18.807326Z",
     "iopub.status.idle": "2023-04-15T13:38:18.816932Z",
     "shell.execute_reply": "2023-04-15T13:38:18.815583Z",
     "shell.execute_reply.started": "2023-04-15T13:38:18.807657Z"
    }
   },
   "outputs": [
    {
     "name": "stdout",
     "output_type": "stream",
     "text": [
      "GridSearch CV best score : 0.8483\n",
      "\n",
      "\n",
      "Parameters that give the best results : \n",
      "\n",
      " {'penalty': 'l1'}\n",
      "\n",
      "\n",
      "Estimator that was chosen by the search : \n",
      "\n",
      " LogisticRegression(C=1.0, class_weight=None, dual=False, fit_intercept=True,\n",
      "                   intercept_scaling=1, l1_ratio=None, max_iter=100,\n",
      "                   multi_class='warn', n_jobs=None, penalty='l1',\n",
      "                   random_state=0, solver='liblinear', tol=0.0001, verbose=0,\n",
      "                   warm_start=False)\n"
     ]
    }
   ],
   "source": [
    "# examine the best model\n",
    "\n",
    "# best score achieved during the GridSearchCV\n",
    "print('GridSearch CV best score : {:.4f}\\n\\n'.format(grid_search.best_score_))\n",
    "\n",
    "# print parameters that give the best results\n",
    "print('Parameters that give the best results :','\\n\\n', (grid_search.best_params_))\n",
    "\n",
    "# print estimator that was chosen by the GridSearch\n",
    "print('\\n\\nEstimator that was chosen by the search :','\\n\\n', (grid_search.best_estimator_))"
   ]
  },
  {
   "cell_type": "code",
   "execution_count": 137,
   "metadata": {
    "execution": {
     "iopub.execute_input": "2023-04-15T13:38:18.818668Z",
     "iopub.status.busy": "2023-04-15T13:38:18.818401Z",
     "iopub.status.idle": "2023-04-15T13:38:18.847780Z",
     "shell.execute_reply": "2023-04-15T13:38:18.846747Z",
     "shell.execute_reply.started": "2023-04-15T13:38:18.818623Z"
    }
   },
   "outputs": [
    {
     "name": "stdout",
     "output_type": "stream",
     "text": [
      "GridSearch CV score on test set: 0.8488\n"
     ]
    }
   ],
   "source": [
    "# calculate GridSearch CV score on test set\n",
    "\n",
    "print('GridSearch CV score on test set: {0:0.4f}'.format(grid_search.score(X_test, y_test)))"
   ]
  },
  {
   "cell_type": "markdown",
   "metadata": {},
   "source": [
    "### Comments\n",
    "\n",
    "\n",
    "- 우리 원래 모델의 테스트 정확도는 0.8484이고, GridSearch CV 정확도는 0.8507입니다.\n",
    "\n",
    "- 우리는 이 특정 모델에서 GridSearch CV가 성능을 향상시켰다는 것을 알 수 있습니다."
   ]
  },
  {
   "cell_type": "markdown",
   "metadata": {},
   "source": [
    "# **21. 결과와 결론** <a class=\"anchor\" id=\"21\"></a>\n",
    "\n",
    "\n",
    "[Table of Contents](#0.1)"
   ]
  },
  {
   "cell_type": "markdown",
   "metadata": {},
   "source": [
    "1. 로지스틱 회귀 모델의 정확도 점수는 0.8501입니다. 따라서, 이 모델은 내일 오스트레일리아에서 비가 올지 여부를 예측하는 데 매우 잘 작동합니다.\n",
    "\n",
    "2. 일부 관측치는 내일 비가 올 것으로 예측하고 있으며, 대부분의 관측치는 내일 비가 오지 않을 것으로 예측하고 있습니다.\n",
    "\n",
    "3. 모델은 과적합의 징후가 없습니다.\n",
    "\n",
    "4. C 값을 증가시키면 테스트 세트 정확도와 약간 증가한 훈련 세트 정확도가 높아집니다. 따라서 더 복잡한 모델이 더 나은 성능을 발휘할 것으로 결론 짓을 수 있습니다.\n",
    "\n",
    "5. 임계값을 높이면 정확도가 증가합니다.\n",
    "\n",
    "6. 모델의 ROC AUC는 1에 가까워집니다. 따라서, 분류기가 내일 비가 올지 여부를 예측하는 데 매우 잘 작동한다는 결론을 내릴 수 있습니다.\n",
    "\n",
    "7. 원래 모델의 정확도 점수는 0.8501이고, RFECV 이후의 정확도 점수는 0.8500입니다. 따라서, 변수의 수를 줄이면서 거의 유사한 정확도를 얻을 수 있습니다.\n",
    "\n",
    "8. 원래 모델에서 FP는 1175이고, FP1은 1174입니다. 따라서 거의 동일한 수의 거짓 양성을 얻을 수 있습니다. 또한, FN은 3087이고, FN1은 3091입니다. 따라서, 약간 더 높은 거짓 음성을 얻을 수 있습니다.\n",
    " \n",
    "9. 우리 원래 모델의 점수는 0.8476입니다. 평균 교차 검증 점수는 0.8474입니다. 따라서, 교차 검증은 성능 향상을 가져오지 않는 것으로 결론 짓을 수 있습니다.\n",
    "\n",
    "10. 우리 원래 모델의 테스트 정확도는 0.8501이고, GridSearch CV 정확도는 0.8507입니다. 이 특정 모델에서 GridSearch CV가 성능을 개선시켰다는 것을 알 수 있습니다.\n"
   ]
  },
  {
   "cell_type": "markdown",
   "metadata": {},
   "source": [
    "# **22. 참조** <a class=\"anchor\" id=\"22\"></a>\n",
    "\n",
    "\n",
    "[Table of Contents](#0.1)\n",
    "\n",
    "\n",
    "\n",
    "The work done in this project is inspired from following books and websites:-\n",
    "\n",
    "\n",
    "1. Hands on Machine Learning with Scikit-Learn and Tensorflow by Aurélién Géron\n",
    "\n",
    "2. Introduction to Machine Learning with Python by Andreas C. Müller and Sarah Guido\n",
    "\n",
    "3. Udemy course – Machine Learning – A Z by Kirill Eremenko and Hadelin de Ponteves\n",
    "\n",
    "4. Udemy course – Feature Engineering for Machine Learning by Soledad Galli\n",
    "\n",
    "5. Udemy course – Feature Selection for Machine Learning by Soledad Galli\n",
    "\n",
    "6. https://en.wikipedia.org/wiki/Logistic_regression\n",
    "\n",
    "7. https://ml-cheatsheet.readthedocs.io/en/latest/logistic_regression.html\n",
    "\n",
    "8. https://en.wikipedia.org/wiki/Sigmoid_function\n",
    "\n",
    "9. https://www.statisticssolutions.com/assumptions-of-logistic-regression/\n",
    "\n",
    "10. https://www.kaggle.com/mnassrib/titanic-logistic-regression-with-python\n",
    "\n",
    "11. https://www.kaggle.com/neisha/heart-disease-prediction-using-logistic-regression\n",
    "\n",
    "12. https://www.ritchieng.com/machine-learning-evaluate-classification-model/\n"
   ]
  },
  {
   "cell_type": "markdown",
   "metadata": {},
   "source": [
    "So, now we will come to the end of this kernel.\n",
    "\n",
    "I hope you find this kernel useful and enjoyable.\n",
    "\n",
    "Your comments and feedback are most welcome.\n",
    "\n",
    "Thank you\n"
   ]
  },
  {
   "cell_type": "markdown",
   "metadata": {},
   "source": [
    "[Go to Top](#0)"
   ]
  }
 ],
 "metadata": {
  "kernelspec": {
   "display_name": "Python 3 (ipykernel)",
   "language": "python",
   "name": "python3"
  },
  "language_info": {
   "codemirror_mode": {
    "name": "ipython",
    "version": 3
   },
   "file_extension": ".py",
   "mimetype": "text/x-python",
   "name": "python",
   "nbconvert_exporter": "python",
   "pygments_lexer": "ipython3",
   "version": "3.9.7"
  },
  "vscode": {
   "interpreter": {
    "hash": "e8755eff31258cf3f68aa399e6f759d79082959dfad6f58a9830d0e0b06355a5"
   }
  }
 },
 "nbformat": 4,
 "nbformat_minor": 4
}
